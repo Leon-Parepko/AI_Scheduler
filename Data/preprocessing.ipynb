{
 "cells": [
  {
   "cell_type": "code",
   "execution_count": 1,
   "metadata": {
    "collapsed": true,
    "ExecuteTime": {
     "end_time": "2023-06-23T19:28:41.695847900Z",
     "start_time": "2023-06-23T19:28:41.468995200Z"
    }
   },
   "outputs": [],
   "source": [
    "import pandas as pd\n",
    "from datetime import datetime"
   ]
  },
  {
   "cell_type": "code",
   "execution_count": 2,
   "outputs": [],
   "source": [
    "# there should be NLP))\n",
    "def assign_label_number(label):\n",
    "    labels = {\n",
    "        \"Sport\": 0,\n",
    "        \"Food\": 1,\n",
    "        \"Hobby Active\": 2,\n",
    "        \"Hobby Passive\": 3,\n",
    "        \"Studying\": 4,\n",
    "        \"Work\": 5,\n",
    "        \"Other\": 6\n",
    "    }\n",
    "    return labels[label]"
   ],
   "metadata": {
    "collapsed": false,
    "ExecuteTime": {
     "end_time": "2023-06-23T19:28:41.711350300Z",
     "start_time": "2023-06-23T19:28:41.696850900Z"
    }
   }
  },
  {
   "cell_type": "code",
   "execution_count": 3,
   "outputs": [],
   "source": [
    "# change queue of tasks to dataframe\n",
    "# it is assumed that input format is like \"Sport-90-3-1-9:00-1/1/1970\", two last arguments are optional\n",
    "def tasks_to_df(tasks):\n",
    "    df = pd.DataFrame(columns=['Label Number', 'Duration', 'Importance', 'Time_Min',\n",
    "                               'Date_Day', 'Date_Month'])\n",
    "\n",
    "    for task in tasks:\n",
    "        task = task.split('-')\n",
    "\n",
    "        label_num = assign_label_number(task[0])\n",
    "        duration = task[1]\n",
    "        importance = task[2]\n",
    "\n",
    "        if len(task) == 6:\n",
    "            time = datetime.strptime(task[4], '%H:%M')\n",
    "            date = datetime.strptime(task[5], '%d/%m/%Y')\n",
    "            minutes = time.minute + time.hour * 60\n",
    "            day = date.day\n",
    "            month = date.month\n",
    "        elif len(task) == 5:\n",
    "            if task[4].find('/') != -1:\n",
    "                date = datetime.strptime(task[4], '%d/%m/%Y')\n",
    "                minutes = 0\n",
    "                day = date.day\n",
    "                month = date.month\n",
    "            else:\n",
    "                time = datetime.strptime(task[4], '%H:%M')\n",
    "                minutes = time.minute + time.hour * 60\n",
    "                day = 0\n",
    "                month = 0\n",
    "        else:\n",
    "            minutes = 0\n",
    "            day = 0\n",
    "            month = 0\n",
    "\n",
    "        df.loc[len(df)] = {'Label Number': label_num,\n",
    "                   'Duration': duration,\n",
    "                   'Importance': importance,\n",
    "                   'Time_Min': minutes,\n",
    "                   'Date_Day': day, 'Date_Month': month\n",
    "                   }\n",
    "\n",
    "    df.sort_values(by=['Importance'], inplace=True, ascending=False)\n",
    "    df.reset_index(drop=True, inplace=True)\n",
    "\n",
    "    return df"
   ],
   "metadata": {
    "collapsed": false,
    "ExecuteTime": {
     "end_time": "2023-06-23T19:28:41.731363700Z",
     "start_time": "2023-06-23T19:28:41.714350400Z"
    }
   }
  },
  {
   "cell_type": "code",
   "execution_count": 4,
   "outputs": [],
   "source": [
    "# if input format \"AML-11:00-90-2 Sunday 3\"  or  \"AML-11:00-90-2 31 3\"  or  \"AML-11:00-90-1/1/1970\"\n",
    "def events_to_arr_of_dict(events):\n",
    "    arr_of_dict = []\n",
    "    return arr_of_dict"
   ],
   "metadata": {
    "collapsed": false,
    "ExecuteTime": {
     "end_time": "2023-06-23T19:28:41.742488100Z",
     "start_time": "2023-06-23T19:28:41.730363600Z"
    }
   }
  },
  {
   "cell_type": "code",
   "execution_count": 5,
   "outputs": [],
   "source": [
    "from sklearn.preprocessing import MinMaxScaler\n",
    "from feature_engine.creation import CyclicalFeatures\n",
    "\n",
    "\n",
    "def preprocessor(data):\n",
    "\n",
    "    if not isinstance(data, pd.DataFrame):\n",
    "        # temporary solution for tasks/events distinction\n",
    "        if len(data[0].split(\"-\")) > 4:\n",
    "            data = tasks_to_df(data)\n",
    "        else:\n",
    "            data = events_to_arr_of_dict(data)\n",
    "            # special case to skip the neural network\n",
    "            pass\n",
    "    else:\n",
    "        data[\"Start Time\"] = pd.to_datetime(data[\"Start Time\"], format=\"%H:%M\")\n",
    "        data[\"Time_Min\"] = data[\"Start Time\"].dt.minute + data[\"Start Time\"].dt.hour * 60\n",
    "\n",
    "        data[\"Date\"] = pd.to_datetime(data[\"Date\"], format=\"%d/%m/%Y\")\n",
    "        data[\"Date_Day\"] = data[\"Date\"].dt.day\n",
    "        data[\"Date_Month\"] = data[\"Date\"].dt.month\n",
    "\n",
    "        data.drop(columns=[\"Start Time\", \"Date\"], inplace=True)\n",
    "\n",
    "\n",
    "    scaler = MinMaxScaler()\n",
    "    data['Duration'] = scaler.fit_transform(data[['Duration']])\n",
    "\n",
    "    cyclical = CyclicalFeatures(variables=['Time_Min', 'Date_Day', 'Date_Month'], drop_original=True, )\n",
    "    data = cyclical.fit_transform(data)\n",
    "\n",
    "    print(data.head())\n",
    "    return data"
   ],
   "metadata": {
    "collapsed": false,
    "ExecuteTime": {
     "end_time": "2023-06-23T19:28:42.105645Z",
     "start_time": "2023-06-23T19:28:41.744487600Z"
    }
   }
  },
  {
   "cell_type": "code",
   "execution_count": 6,
   "outputs": [
    {
     "name": "stdout",
     "output_type": "stream",
     "text": [
      "   Label Number  Duration Importance  Time_Min_sin  Time_Min_cos  \\\n",
      "0             0       0.5          3 -9.350162e-01     -0.354605   \n",
      "1             4       1.0          3 -2.449294e-16      1.000000   \n",
      "2             5       1.0          3  0.000000e+00      1.000000   \n",
      "3             1       0.0          2 -9.927089e-01      0.120537   \n",
      "4             2       1.0          0 -8.229839e-01      0.568065   \n",
      "\n",
      "   Date_Day_sin  Date_Day_cos  Date_Month_sin  Date_Month_cos  \n",
      "0 -2.449294e-16           1.0   -2.449294e-16             1.0  \n",
      "1  0.000000e+00           1.0    0.000000e+00             1.0  \n",
      "2 -2.449294e-16           1.0   -2.449294e-16             1.0  \n",
      "3 -2.449294e-16           1.0   -2.449294e-16             1.0  \n",
      "4 -2.449294e-16           1.0   -2.449294e-16             1.0  \n"
     ]
    },
    {
     "data": {
      "text/plain": "   Label Number  Duration Importance  Time_Min_sin  Time_Min_cos  \\\n0             0       0.5          3 -9.350162e-01     -0.354605   \n1             4       1.0          3 -2.449294e-16      1.000000   \n2             5       1.0          3  0.000000e+00      1.000000   \n3             1       0.0          2 -9.927089e-01      0.120537   \n4             2       1.0          0 -8.229839e-01      0.568065   \n5             3       0.0          0 -4.647232e-01      0.885456   \n\n   Date_Day_sin  Date_Day_cos  Date_Month_sin  Date_Month_cos  \n0 -2.449294e-16           1.0   -2.449294e-16             1.0  \n1  0.000000e+00           1.0    0.000000e+00             1.0  \n2 -2.449294e-16           1.0   -2.449294e-16             1.0  \n3 -2.449294e-16           1.0   -2.449294e-16             1.0  \n4 -2.449294e-16           1.0   -2.449294e-16             1.0  \n5 -2.449294e-16           1.0   -2.449294e-16             1.0  ",
      "text/html": "<div>\n<style scoped>\n    .dataframe tbody tr th:only-of-type {\n        vertical-align: middle;\n    }\n\n    .dataframe tbody tr th {\n        vertical-align: top;\n    }\n\n    .dataframe thead th {\n        text-align: right;\n    }\n</style>\n<table border=\"1\" class=\"dataframe\">\n  <thead>\n    <tr style=\"text-align: right;\">\n      <th></th>\n      <th>Label Number</th>\n      <th>Duration</th>\n      <th>Importance</th>\n      <th>Time_Min_sin</th>\n      <th>Time_Min_cos</th>\n      <th>Date_Day_sin</th>\n      <th>Date_Day_cos</th>\n      <th>Date_Month_sin</th>\n      <th>Date_Month_cos</th>\n    </tr>\n  </thead>\n  <tbody>\n    <tr>\n      <th>0</th>\n      <td>0</td>\n      <td>0.5</td>\n      <td>3</td>\n      <td>-9.350162e-01</td>\n      <td>-0.354605</td>\n      <td>-2.449294e-16</td>\n      <td>1.0</td>\n      <td>-2.449294e-16</td>\n      <td>1.0</td>\n    </tr>\n    <tr>\n      <th>1</th>\n      <td>4</td>\n      <td>1.0</td>\n      <td>3</td>\n      <td>-2.449294e-16</td>\n      <td>1.000000</td>\n      <td>0.000000e+00</td>\n      <td>1.0</td>\n      <td>0.000000e+00</td>\n      <td>1.0</td>\n    </tr>\n    <tr>\n      <th>2</th>\n      <td>5</td>\n      <td>1.0</td>\n      <td>3</td>\n      <td>0.000000e+00</td>\n      <td>1.000000</td>\n      <td>-2.449294e-16</td>\n      <td>1.0</td>\n      <td>-2.449294e-16</td>\n      <td>1.0</td>\n    </tr>\n    <tr>\n      <th>3</th>\n      <td>1</td>\n      <td>0.0</td>\n      <td>2</td>\n      <td>-9.927089e-01</td>\n      <td>0.120537</td>\n      <td>-2.449294e-16</td>\n      <td>1.0</td>\n      <td>-2.449294e-16</td>\n      <td>1.0</td>\n    </tr>\n    <tr>\n      <th>4</th>\n      <td>2</td>\n      <td>1.0</td>\n      <td>0</td>\n      <td>-8.229839e-01</td>\n      <td>0.568065</td>\n      <td>-2.449294e-16</td>\n      <td>1.0</td>\n      <td>-2.449294e-16</td>\n      <td>1.0</td>\n    </tr>\n    <tr>\n      <th>5</th>\n      <td>3</td>\n      <td>0.0</td>\n      <td>0</td>\n      <td>-4.647232e-01</td>\n      <td>0.885456</td>\n      <td>-2.449294e-16</td>\n      <td>1.0</td>\n      <td>-2.449294e-16</td>\n      <td>1.0</td>\n    </tr>\n  </tbody>\n</table>\n</div>"
     },
     "execution_count": 6,
     "metadata": {},
     "output_type": "execute_result"
    }
   ],
   "source": [
    "data = [\n",
    "    \"Sport-90-3-1-9:00-1/1/1970\",\n",
    "    \"Food-60-2-1-10:00-1/1/1970\",\n",
    "    \"Hobby Active-120-0-1-11:00-1/1/1970\",\n",
    "    \"Hobby Passive-60-0-1-12:00-1/1/1970\",\n",
    "    \"Studying-120-3-1-13:00\",\n",
    "    \"Work-120-3-1-1/1/1970\",\n",
    "]\n",
    "preprocessor(data)"
   ],
   "metadata": {
    "collapsed": false,
    "ExecuteTime": {
     "end_time": "2023-06-23T19:28:42.152096300Z",
     "start_time": "2023-06-23T19:28:42.113645100Z"
    }
   }
  },
  {
   "cell_type": "code",
   "execution_count": 7,
   "outputs": [
    {
     "name": "stdout",
     "output_type": "stream",
     "text": [
      "   Label Number  Duration  Importance  Time_Min_sin  Time_Min_cos  \\\n",
      "0             3  0.571429           1      0.988948     -0.148264   \n",
      "1             5  0.714286           2      0.818625     -0.574329   \n",
      "2             0  0.142857           0      0.475947     -0.879474   \n",
      "3             1  0.142857           1      0.293250     -0.956036   \n",
      "4             6  0.000000           0      0.099046     -0.995083   \n",
      "\n",
      "   Date_Day_sin  Date_Day_cos  Date_Month_sin  Date_Month_cos  \n",
      "0     -0.968077     -0.250653       -0.866025            -0.5  \n",
      "1     -0.968077     -0.250653       -0.866025            -0.5  \n",
      "2     -0.968077     -0.250653       -0.866025            -0.5  \n",
      "3     -0.968077     -0.250653       -0.866025            -0.5  \n",
      "4     -0.968077     -0.250653       -0.866025            -0.5  \n"
     ]
    },
    {
     "data": {
      "text/plain": "     Label Number  Duration  Importance  Time_Min_sin  Time_Min_cos  \\\n0               3  0.571429           1      0.988948     -0.148264   \n1               5  0.714286           2      0.818625     -0.574329   \n2               0  0.142857           0      0.475947     -0.879474   \n3               1  0.142857           1      0.293250     -0.956036   \n4               6  0.000000           0      0.099046     -0.995083   \n..            ...       ...         ...           ...           ...   \n967             4  0.714286           2     -0.993309      0.115485   \n968             1  0.142857           1     -0.901991      0.431754   \n969             6  0.285714           0     -0.712928      0.701237   \n970             3  0.285714           1     -0.446609      0.894729   \n971             5  1.000000           3     -0.131892      0.991264   \n\n     Date_Day_sin  Date_Day_cos  Date_Month_sin  Date_Month_cos  \n0       -0.968077     -0.250653   -8.660254e-01            -0.5  \n1       -0.968077     -0.250653   -8.660254e-01            -0.5  \n2       -0.968077     -0.250653   -8.660254e-01            -0.5  \n3       -0.968077     -0.250653   -8.660254e-01            -0.5  \n4       -0.968077     -0.250653   -8.660254e-01            -0.5  \n..            ...           ...             ...             ...  \n967      0.201299      0.979530   -2.449294e-16             1.0  \n968      0.201299      0.979530   -2.449294e-16             1.0  \n969      0.201299      0.979530   -2.449294e-16             1.0  \n970      0.201299      0.979530   -2.449294e-16             1.0  \n971      0.201299      0.979530   -2.449294e-16             1.0  \n\n[972 rows x 9 columns]",
      "text/html": "<div>\n<style scoped>\n    .dataframe tbody tr th:only-of-type {\n        vertical-align: middle;\n    }\n\n    .dataframe tbody tr th {\n        vertical-align: top;\n    }\n\n    .dataframe thead th {\n        text-align: right;\n    }\n</style>\n<table border=\"1\" class=\"dataframe\">\n  <thead>\n    <tr style=\"text-align: right;\">\n      <th></th>\n      <th>Label Number</th>\n      <th>Duration</th>\n      <th>Importance</th>\n      <th>Time_Min_sin</th>\n      <th>Time_Min_cos</th>\n      <th>Date_Day_sin</th>\n      <th>Date_Day_cos</th>\n      <th>Date_Month_sin</th>\n      <th>Date_Month_cos</th>\n    </tr>\n  </thead>\n  <tbody>\n    <tr>\n      <th>0</th>\n      <td>3</td>\n      <td>0.571429</td>\n      <td>1</td>\n      <td>0.988948</td>\n      <td>-0.148264</td>\n      <td>-0.968077</td>\n      <td>-0.250653</td>\n      <td>-8.660254e-01</td>\n      <td>-0.5</td>\n    </tr>\n    <tr>\n      <th>1</th>\n      <td>5</td>\n      <td>0.714286</td>\n      <td>2</td>\n      <td>0.818625</td>\n      <td>-0.574329</td>\n      <td>-0.968077</td>\n      <td>-0.250653</td>\n      <td>-8.660254e-01</td>\n      <td>-0.5</td>\n    </tr>\n    <tr>\n      <th>2</th>\n      <td>0</td>\n      <td>0.142857</td>\n      <td>0</td>\n      <td>0.475947</td>\n      <td>-0.879474</td>\n      <td>-0.968077</td>\n      <td>-0.250653</td>\n      <td>-8.660254e-01</td>\n      <td>-0.5</td>\n    </tr>\n    <tr>\n      <th>3</th>\n      <td>1</td>\n      <td>0.142857</td>\n      <td>1</td>\n      <td>0.293250</td>\n      <td>-0.956036</td>\n      <td>-0.968077</td>\n      <td>-0.250653</td>\n      <td>-8.660254e-01</td>\n      <td>-0.5</td>\n    </tr>\n    <tr>\n      <th>4</th>\n      <td>6</td>\n      <td>0.000000</td>\n      <td>0</td>\n      <td>0.099046</td>\n      <td>-0.995083</td>\n      <td>-0.968077</td>\n      <td>-0.250653</td>\n      <td>-8.660254e-01</td>\n      <td>-0.5</td>\n    </tr>\n    <tr>\n      <th>...</th>\n      <td>...</td>\n      <td>...</td>\n      <td>...</td>\n      <td>...</td>\n      <td>...</td>\n      <td>...</td>\n      <td>...</td>\n      <td>...</td>\n      <td>...</td>\n    </tr>\n    <tr>\n      <th>967</th>\n      <td>4</td>\n      <td>0.714286</td>\n      <td>2</td>\n      <td>-0.993309</td>\n      <td>0.115485</td>\n      <td>0.201299</td>\n      <td>0.979530</td>\n      <td>-2.449294e-16</td>\n      <td>1.0</td>\n    </tr>\n    <tr>\n      <th>968</th>\n      <td>1</td>\n      <td>0.142857</td>\n      <td>1</td>\n      <td>-0.901991</td>\n      <td>0.431754</td>\n      <td>0.201299</td>\n      <td>0.979530</td>\n      <td>-2.449294e-16</td>\n      <td>1.0</td>\n    </tr>\n    <tr>\n      <th>969</th>\n      <td>6</td>\n      <td>0.285714</td>\n      <td>0</td>\n      <td>-0.712928</td>\n      <td>0.701237</td>\n      <td>0.201299</td>\n      <td>0.979530</td>\n      <td>-2.449294e-16</td>\n      <td>1.0</td>\n    </tr>\n    <tr>\n      <th>970</th>\n      <td>3</td>\n      <td>0.285714</td>\n      <td>1</td>\n      <td>-0.446609</td>\n      <td>0.894729</td>\n      <td>0.201299</td>\n      <td>0.979530</td>\n      <td>-2.449294e-16</td>\n      <td>1.0</td>\n    </tr>\n    <tr>\n      <th>971</th>\n      <td>5</td>\n      <td>1.000000</td>\n      <td>3</td>\n      <td>-0.131892</td>\n      <td>0.991264</td>\n      <td>0.201299</td>\n      <td>0.979530</td>\n      <td>-2.449294e-16</td>\n      <td>1.0</td>\n    </tr>\n  </tbody>\n</table>\n<p>972 rows × 9 columns</p>\n</div>"
     },
     "execution_count": 7,
     "metadata": {},
     "output_type": "execute_result"
    }
   ],
   "source": [
    "data = pd.read_csv('schedule_v3.csv')\n",
    "preprocessor(data)"
   ],
   "metadata": {
    "collapsed": false,
    "ExecuteTime": {
     "end_time": "2023-06-23T19:28:42.209100500Z",
     "start_time": "2023-06-23T19:28:42.138100700Z"
    }
   }
  }
 ],
 "metadata": {
  "kernelspec": {
   "display_name": "Python 3",
   "language": "python",
   "name": "python3"
  },
  "language_info": {
   "codemirror_mode": {
    "name": "ipython",
    "version": 2
   },
   "file_extension": ".py",
   "mimetype": "text/x-python",
   "name": "python",
   "nbconvert_exporter": "python",
   "pygments_lexer": "ipython2",
   "version": "2.7.6"
  }
 },
 "nbformat": 4,
 "nbformat_minor": 0
}
