{
  "cells": [
    {
      "cell_type": "code",
      "execution_count": null,
      "id": "6904ed7b",
      "metadata": {
        "id": "6904ed7b"
      },
      "outputs": [],
      "source": [
        "# !pip install tensorflow-text\n",
        "# !pip install tf-models-official"
      ]
    },
    {
      "cell_type": "code",
      "execution_count": null,
      "id": "1035049e",
      "metadata": {
        "id": "1035049e"
      },
      "outputs": [],
      "source": [
        "import warnings\n",
        "import numpy as np\n",
        "import pandas as pd\n",
        "import tensorflow as tf\n",
        "import tensorflow_hub as hub\n",
        "import tensorflow_text as text\n",
        "from official.nlp import optimization\n",
        "\n",
        "warnings.filterwarnings(\"ignore\")\n",
        "tf.get_logger().setLevel('ERROR')"
      ]
    },
    {
      "cell_type": "code",
      "execution_count": 5,
      "id": "bcfdf218",
      "metadata": {
        "id": "bcfdf218"
      },
      "outputs": [],
      "source": [
        "json_file = open('model.json', 'r')\n",
        "loaded_model_json = json_file.read()\n",
        "json_file.close()\n",
        "loaded_model = tf.keras.models.model_from_json(\n",
        "    loaded_model_json,\n",
        "    custom_objects={'KerasLayer':hub.KerasLayer}\n",
        ")\n",
        "loaded_model.load_weights(\"model.h5\")"
      ]
    },
    {
      "cell_type": "code",
      "source": [
        "loss = tf.keras.losses.BinaryCrossentropy(from_logits=True)\n",
        "metrics = tf.metrics.BinaryAccuracy()"
      ],
      "metadata": {
        "id": "5EY7wGEFUwHC"
      },
      "id": "5EY7wGEFUwHC",
      "execution_count": 7,
      "outputs": []
    },
    {
      "cell_type": "code",
      "source": [
        "EPOCHS = 5\n",
        "steps_per_epoch = 42\n",
        "num_train_steps = steps_per_epoch * EPOCHS\n",
        "num_warmup_steps = int(0.1*num_train_steps)\n",
        "\n",
        "init_lr = 3e-5\n",
        "optimizer = optimization.create_optimizer(init_lr=init_lr,\n",
        "                                          num_train_steps=num_train_steps,\n",
        "                                          num_warmup_steps=num_warmup_steps,\n",
        "                                          optimizer_type='adamw')"
      ],
      "metadata": {
        "id": "sV2IJx4YUwjN"
      },
      "id": "sV2IJx4YUwjN",
      "execution_count": 8,
      "outputs": []
    },
    {
      "cell_type": "code",
      "execution_count": 9,
      "id": "5b4c9bbc",
      "metadata": {
        "id": "5b4c9bbc"
      },
      "outputs": [],
      "source": [
        "loaded_model.compile(optimizer=optimizer,\n",
        "                         loss=loss,\n",
        "                         metrics=metrics)"
      ]
    },
    {
      "cell_type": "code",
      "execution_count": 12,
      "id": "50a8e285",
      "metadata": {
        "colab": {
          "base_uri": "https://localhost:8080/"
        },
        "id": "50a8e285",
        "outputId": "cce13e91-670b-468f-eb47-5ccfa47a2758"
      },
      "outputs": [
        {
          "output_type": "stream",
          "name": "stdout",
          "text": [
            "1/1 [==============================] - 0s 364ms/step\n",
            "Machine Learning\n",
            "Work-study\n"
          ]
        }
      ],
      "source": [
        "text = ['Machine Learning']\n",
        "y_pred = loaded_model.predict(text)\n",
        "idx = np.argmax(y_pred, axis=1)[0]\n",
        "dictionary = {0:\"Daily Routine\",\n",
        "              1:\"Passive Rest\",\n",
        "              2:\"Physical Activity\",\n",
        "              3:\"Work-study\"}\n",
        "print(text[0])\n",
        "print(dictionary[idx])"
      ]
    }
  ],
  "metadata": {
    "kernelspec": {
      "display_name": "Python 3 (ipykernel)",
      "language": "python",
      "name": "python3"
    },
    "language_info": {
      "codemirror_mode": {
        "name": "ipython",
        "version": 3
      },
      "file_extension": ".py",
      "mimetype": "text/x-python",
      "name": "python",
      "nbconvert_exporter": "python",
      "pygments_lexer": "ipython3",
      "version": "3.9.5"
    },
    "colab": {
      "provenance": []
    }
  },
  "nbformat": 4,
  "nbformat_minor": 5
}