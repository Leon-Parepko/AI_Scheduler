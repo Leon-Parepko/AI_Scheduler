{
  "cells": [
    {
      "cell_type": "code",
      "execution_count": 1,
      "id": "472f737e",
      "metadata": {
        "id": "472f737e"
      },
      "outputs": [],
      "source": [
        "# !pip install tensorflow_hub"
      ]
    },
    {
      "cell_type": "code",
      "execution_count": 2,
      "id": "d0975e20",
      "metadata": {
        "id": "d0975e20"
      },
      "outputs": [],
      "source": [
        "import os\n",
        "import warnings\n",
        "import numpy as np\n",
        "import pandas as pd\n",
        "import tensorflow as tf\n",
        "import tensorflow_hub as hub\n",
        "from tensorflow.keras.optimizers import Adam\n",
        "from sklearn.metrics import classification_report\n",
        "from sklearn.model_selection import train_test_split\n",
        "\n",
        "warnings.filterwarnings(\"ignore\")"
      ]
    },
    {
      "cell_type": "code",
      "execution_count": 3,
      "id": "25147e2c",
      "metadata": {
        "colab": {
          "base_uri": "https://localhost:8080/",
          "height": 423
        },
        "id": "25147e2c",
        "outputId": "9f5032a1-ce3e-4cc8-d2d2-43e440a91310"
      },
      "outputs": [
        {
          "output_type": "execute_result",
          "data": {
            "text/plain": [
              "                        0                  1\n",
              "0               do sports  Physical Activity\n",
              "1            doing sports  Physical Activity\n",
              "2                training  Physical Activity\n",
              "3                to train  Physical Activity\n",
              "4                   sport  Physical Activity\n",
              "...                   ...                ...\n",
              "1136           making bed      Daily Routine\n",
              "1137         doing dishes      Daily Routine\n",
              "1138  calling a loved one      Daily Routine\n",
              "1139       mopping floors      Daily Routine\n",
              "1140         decluttering      Daily Routine\n",
              "\n",
              "[1141 rows x 2 columns]"
            ],
            "text/html": [
              "\n",
              "  <div id=\"df-9bf7e687-54c7-44fb-8c11-ecb10cff8f1e\">\n",
              "    <div class=\"colab-df-container\">\n",
              "      <div>\n",
              "<style scoped>\n",
              "    .dataframe tbody tr th:only-of-type {\n",
              "        vertical-align: middle;\n",
              "    }\n",
              "\n",
              "    .dataframe tbody tr th {\n",
              "        vertical-align: top;\n",
              "    }\n",
              "\n",
              "    .dataframe thead th {\n",
              "        text-align: right;\n",
              "    }\n",
              "</style>\n",
              "<table border=\"1\" class=\"dataframe\">\n",
              "  <thead>\n",
              "    <tr style=\"text-align: right;\">\n",
              "      <th></th>\n",
              "      <th>0</th>\n",
              "      <th>1</th>\n",
              "    </tr>\n",
              "  </thead>\n",
              "  <tbody>\n",
              "    <tr>\n",
              "      <th>0</th>\n",
              "      <td>do sports</td>\n",
              "      <td>Physical Activity</td>\n",
              "    </tr>\n",
              "    <tr>\n",
              "      <th>1</th>\n",
              "      <td>doing sports</td>\n",
              "      <td>Physical Activity</td>\n",
              "    </tr>\n",
              "    <tr>\n",
              "      <th>2</th>\n",
              "      <td>training</td>\n",
              "      <td>Physical Activity</td>\n",
              "    </tr>\n",
              "    <tr>\n",
              "      <th>3</th>\n",
              "      <td>to train</td>\n",
              "      <td>Physical Activity</td>\n",
              "    </tr>\n",
              "    <tr>\n",
              "      <th>4</th>\n",
              "      <td>sport</td>\n",
              "      <td>Physical Activity</td>\n",
              "    </tr>\n",
              "    <tr>\n",
              "      <th>...</th>\n",
              "      <td>...</td>\n",
              "      <td>...</td>\n",
              "    </tr>\n",
              "    <tr>\n",
              "      <th>1136</th>\n",
              "      <td>making bed</td>\n",
              "      <td>Daily Routine</td>\n",
              "    </tr>\n",
              "    <tr>\n",
              "      <th>1137</th>\n",
              "      <td>doing dishes</td>\n",
              "      <td>Daily Routine</td>\n",
              "    </tr>\n",
              "    <tr>\n",
              "      <th>1138</th>\n",
              "      <td>calling a loved one</td>\n",
              "      <td>Daily Routine</td>\n",
              "    </tr>\n",
              "    <tr>\n",
              "      <th>1139</th>\n",
              "      <td>mopping floors</td>\n",
              "      <td>Daily Routine</td>\n",
              "    </tr>\n",
              "    <tr>\n",
              "      <th>1140</th>\n",
              "      <td>decluttering</td>\n",
              "      <td>Daily Routine</td>\n",
              "    </tr>\n",
              "  </tbody>\n",
              "</table>\n",
              "<p>1141 rows × 2 columns</p>\n",
              "</div>\n",
              "      <button class=\"colab-df-convert\" onclick=\"convertToInteractive('df-9bf7e687-54c7-44fb-8c11-ecb10cff8f1e')\"\n",
              "              title=\"Convert this dataframe to an interactive table.\"\n",
              "              style=\"display:none;\">\n",
              "        \n",
              "  <svg xmlns=\"http://www.w3.org/2000/svg\" height=\"24px\"viewBox=\"0 0 24 24\"\n",
              "       width=\"24px\">\n",
              "    <path d=\"M0 0h24v24H0V0z\" fill=\"none\"/>\n",
              "    <path d=\"M18.56 5.44l.94 2.06.94-2.06 2.06-.94-2.06-.94-.94-2.06-.94 2.06-2.06.94zm-11 1L8.5 8.5l.94-2.06 2.06-.94-2.06-.94L8.5 2.5l-.94 2.06-2.06.94zm10 10l.94 2.06.94-2.06 2.06-.94-2.06-.94-.94-2.06-.94 2.06-2.06.94z\"/><path d=\"M17.41 7.96l-1.37-1.37c-.4-.4-.92-.59-1.43-.59-.52 0-1.04.2-1.43.59L10.3 9.45l-7.72 7.72c-.78.78-.78 2.05 0 2.83L4 21.41c.39.39.9.59 1.41.59.51 0 1.02-.2 1.41-.59l7.78-7.78 2.81-2.81c.8-.78.8-2.07 0-2.86zM5.41 20L4 18.59l7.72-7.72 1.47 1.35L5.41 20z\"/>\n",
              "  </svg>\n",
              "      </button>\n",
              "      \n",
              "  <style>\n",
              "    .colab-df-container {\n",
              "      display:flex;\n",
              "      flex-wrap:wrap;\n",
              "      gap: 12px;\n",
              "    }\n",
              "\n",
              "    .colab-df-convert {\n",
              "      background-color: #E8F0FE;\n",
              "      border: none;\n",
              "      border-radius: 50%;\n",
              "      cursor: pointer;\n",
              "      display: none;\n",
              "      fill: #1967D2;\n",
              "      height: 32px;\n",
              "      padding: 0 0 0 0;\n",
              "      width: 32px;\n",
              "    }\n",
              "\n",
              "    .colab-df-convert:hover {\n",
              "      background-color: #E2EBFA;\n",
              "      box-shadow: 0px 1px 2px rgba(60, 64, 67, 0.3), 0px 1px 3px 1px rgba(60, 64, 67, 0.15);\n",
              "      fill: #174EA6;\n",
              "    }\n",
              "\n",
              "    [theme=dark] .colab-df-convert {\n",
              "      background-color: #3B4455;\n",
              "      fill: #D2E3FC;\n",
              "    }\n",
              "\n",
              "    [theme=dark] .colab-df-convert:hover {\n",
              "      background-color: #434B5C;\n",
              "      box-shadow: 0px 1px 3px 1px rgba(0, 0, 0, 0.15);\n",
              "      filter: drop-shadow(0px 1px 2px rgba(0, 0, 0, 0.3));\n",
              "      fill: #FFFFFF;\n",
              "    }\n",
              "  </style>\n",
              "\n",
              "      <script>\n",
              "        const buttonEl =\n",
              "          document.querySelector('#df-9bf7e687-54c7-44fb-8c11-ecb10cff8f1e button.colab-df-convert');\n",
              "        buttonEl.style.display =\n",
              "          google.colab.kernel.accessAllowed ? 'block' : 'none';\n",
              "\n",
              "        async function convertToInteractive(key) {\n",
              "          const element = document.querySelector('#df-9bf7e687-54c7-44fb-8c11-ecb10cff8f1e');\n",
              "          const dataTable =\n",
              "            await google.colab.kernel.invokeFunction('convertToInteractive',\n",
              "                                                     [key], {});\n",
              "          if (!dataTable) return;\n",
              "\n",
              "          const docLinkHtml = 'Like what you see? Visit the ' +\n",
              "            '<a target=\"_blank\" href=https://colab.research.google.com/notebooks/data_table.ipynb>data table notebook</a>'\n",
              "            + ' to learn more about interactive tables.';\n",
              "          element.innerHTML = '';\n",
              "          dataTable['output_type'] = 'display_data';\n",
              "          await google.colab.output.renderOutput(dataTable, element);\n",
              "          const docLink = document.createElement('div');\n",
              "          docLink.innerHTML = docLinkHtml;\n",
              "          element.appendChild(docLink);\n",
              "        }\n",
              "      </script>\n",
              "    </div>\n",
              "  </div>\n",
              "  "
            ]
          },
          "metadata": {},
          "execution_count": 3
        }
      ],
      "source": [
        "df = pd.read_csv(\"NLP_dataset_Mark_4.csv\")\n",
        "df"
      ]
    },
    {
      "cell_type": "code",
      "source": [
        "# a, b = df.shape\n",
        "# for i in range(a):\n",
        "#     if df['1'].iloc[i] == \"Food\":\n",
        "#         df.loc[i, '1'] = \"Daily Routine\""
      ],
      "metadata": {
        "id": "SHNADV1r7JIW"
      },
      "id": "SHNADV1r7JIW",
      "execution_count": 4,
      "outputs": []
    },
    {
      "cell_type": "code",
      "execution_count": 5,
      "id": "d1d6bfe4",
      "metadata": {
        "id": "d1d6bfe4"
      },
      "outputs": [],
      "source": [
        "X, y = df[\"0\"], df[\"1\"]\n",
        "\n",
        "y = pd.get_dummies(y)\n",
        "\n",
        "X_train, X_test, y_train, y_test = train_test_split(X, y, test_size=0.2,\n",
        "                                                    random_state=0,\n",
        "                                                    shuffle=True,\n",
        "                                                    stratify=y.to_numpy())"
      ]
    },
    {
      "cell_type": "code",
      "execution_count": 6,
      "id": "5a3f4d34",
      "metadata": {
        "colab": {
          "base_uri": "https://localhost:8080/"
        },
        "id": "5a3f4d34",
        "outputId": "072729d5-6f48-41f5-9970-c6d723b5af31"
      },
      "outputs": [
        {
          "output_type": "stream",
          "name": "stdout",
          "text": [
            "Model: \"sequential\"\n",
            "_________________________________________________________________\n",
            " Layer (type)                Output Shape              Param #   \n",
            "=================================================================\n",
            " keras_layer (KerasLayer)    (None, 20)                400020    \n",
            "                                                                 \n",
            " dense (Dense)               (None, 16)                336       \n",
            "                                                                 \n",
            " dense_1 (Dense)             (None, 4)                 68        \n",
            "                                                                 \n",
            "=================================================================\n",
            "Total params: 400,424\n",
            "Trainable params: 404\n",
            "Non-trainable params: 400,020\n",
            "_________________________________________________________________\n"
          ]
        }
      ],
      "source": [
        "# Pre-Trained Text Embedding Model & Layer Definition\n",
        "Embed = 'https://tfhub.dev/google/tf2-preview/gnews-swivel-20dim/1'\n",
        "# Embed = 'https://tfhub.dev/tensorflow/bert_en_uncased_L-24_H-1024_A-16/2'\n",
        "# Embed = 'https://tfhub.dev/google/edgetpu/nlp/mobilebert-edgetpu/xs/1'\n",
        "Trainable_Module = False\n",
        "hub_layer = hub.KerasLayer(Embed, input_shape=[], dtype=tf.string, trainable=Trainable_Module)\n",
        "\n",
        "# hub_layer = hub.KerasLayer(\"https://tfhub.dev/google/tf2-preview/gnews-swivel-20dim/1\",\n",
        "#                            output_shape=[20], input_shape=[], dtype=tf.string)\n",
        "\n",
        "# Build Model (Original Title Text)\n",
        "model = tf.keras.Sequential()\n",
        "model.add(hub_layer)           #pre-trained text embedding layer\n",
        "model.add(tf.keras.layers.Dense(16, activation='relu'))\n",
        "model.add(tf.keras.layers.Dense(4))\n",
        "\n",
        "model.summary()"
      ]
    },
    {
      "cell_type": "code",
      "execution_count": 7,
      "id": "e3924623",
      "metadata": {
        "id": "e3924623"
      },
      "outputs": [],
      "source": [
        "adam = Adam(learning_rate=0.01)\n",
        "model.compile(optimizer=adam,\n",
        "              loss=tf.keras.losses.BinaryCrossentropy(from_logits=True),\n",
        "              metrics=['accuracy']\n",
        "              )"
      ]
    },
    {
      "cell_type": "code",
      "execution_count": 8,
      "id": "8401a6cb",
      "metadata": {
        "colab": {
          "base_uri": "https://localhost:8080/"
        },
        "id": "8401a6cb",
        "outputId": "f54f1fe5-4cc8-49e2-de1c-02e4be7062ad"
      },
      "outputs": [
        {
          "output_type": "stream",
          "name": "stdout",
          "text": [
            "Epoch 1/25\n",
            "52/52 [==============================] - 5s 97ms/step - loss: 0.3337 - accuracy: 0.7256 - val_loss: 0.1488 - val_accuracy: 0.8913\n",
            "Epoch 2/25\n",
            "52/52 [==============================] - 4s 81ms/step - loss: 0.1602 - accuracy: 0.8610 - val_loss: 0.1251 - val_accuracy: 0.8804\n",
            "Epoch 3/25\n",
            "52/52 [==============================] - 3s 67ms/step - loss: 0.1379 - accuracy: 0.8659 - val_loss: 0.1099 - val_accuracy: 0.9022\n",
            "Epoch 4/25\n",
            "52/52 [==============================] - 5s 97ms/step - loss: 0.1248 - accuracy: 0.8902 - val_loss: 0.1179 - val_accuracy: 0.8804\n",
            "Epoch 5/25\n",
            "52/52 [==============================] - 2s 40ms/step - loss: 0.1175 - accuracy: 0.8927 - val_loss: 0.1038 - val_accuracy: 0.9022\n",
            "Epoch 6/25\n",
            "52/52 [==============================] - 2s 34ms/step - loss: 0.1119 - accuracy: 0.9049 - val_loss: 0.1034 - val_accuracy: 0.9239\n",
            "Epoch 7/25\n",
            "52/52 [==============================] - 2s 33ms/step - loss: 0.1092 - accuracy: 0.9098 - val_loss: 0.1002 - val_accuracy: 0.9239\n",
            "Epoch 8/25\n",
            "52/52 [==============================] - 2s 33ms/step - loss: 0.1040 - accuracy: 0.9049 - val_loss: 0.1070 - val_accuracy: 0.9239\n",
            "Epoch 9/25\n",
            "52/52 [==============================] - 2s 33ms/step - loss: 0.1023 - accuracy: 0.9183 - val_loss: 0.1038 - val_accuracy: 0.9130\n",
            "Epoch 10/25\n",
            "52/52 [==============================] - 2s 32ms/step - loss: 0.0973 - accuracy: 0.9146 - val_loss: 0.1010 - val_accuracy: 0.9239\n",
            "Epoch 11/25\n",
            "52/52 [==============================] - 2s 39ms/step - loss: 0.0956 - accuracy: 0.9171 - val_loss: 0.1000 - val_accuracy: 0.9130\n",
            "Epoch 12/25\n",
            "52/52 [==============================] - 2s 40ms/step - loss: 0.0947 - accuracy: 0.9183 - val_loss: 0.1014 - val_accuracy: 0.9130\n",
            "Epoch 13/25\n",
            "52/52 [==============================] - 2s 33ms/step - loss: 0.0922 - accuracy: 0.9122 - val_loss: 0.1037 - val_accuracy: 0.9239\n",
            "Epoch 14/25\n",
            "52/52 [==============================] - 2s 33ms/step - loss: 0.0884 - accuracy: 0.9207 - val_loss: 0.1127 - val_accuracy: 0.9130\n",
            "Epoch 15/25\n",
            "52/52 [==============================] - 2s 34ms/step - loss: 0.0871 - accuracy: 0.9244 - val_loss: 0.0947 - val_accuracy: 0.9130\n",
            "Epoch 16/25\n",
            "52/52 [==============================] - 2s 34ms/step - loss: 0.0845 - accuracy: 0.9317 - val_loss: 0.0997 - val_accuracy: 0.9130\n",
            "Epoch 17/25\n",
            "52/52 [==============================] - 2s 33ms/step - loss: 0.0831 - accuracy: 0.9293 - val_loss: 0.1070 - val_accuracy: 0.9022\n",
            "Epoch 18/25\n",
            "52/52 [==============================] - 2s 47ms/step - loss: 0.0844 - accuracy: 0.9305 - val_loss: 0.1003 - val_accuracy: 0.9239\n",
            "Epoch 19/25\n",
            "52/52 [==============================] - 2s 39ms/step - loss: 0.0822 - accuracy: 0.9256 - val_loss: 0.1005 - val_accuracy: 0.9130\n",
            "Epoch 20/25\n",
            "52/52 [==============================] - 2s 34ms/step - loss: 0.0775 - accuracy: 0.9341 - val_loss: 0.1023 - val_accuracy: 0.9130\n",
            "Epoch 21/25\n",
            "52/52 [==============================] - 2s 34ms/step - loss: 0.0783 - accuracy: 0.9293 - val_loss: 0.0961 - val_accuracy: 0.9348\n",
            "Epoch 22/25\n",
            "52/52 [==============================] - 2s 32ms/step - loss: 0.0782 - accuracy: 0.9329 - val_loss: 0.1048 - val_accuracy: 0.9022\n",
            "Epoch 23/25\n",
            "52/52 [==============================] - 3s 55ms/step - loss: 0.0767 - accuracy: 0.9354 - val_loss: 0.1214 - val_accuracy: 0.9130\n",
            "Epoch 24/25\n",
            "52/52 [==============================] - 5s 97ms/step - loss: 0.0758 - accuracy: 0.9378 - val_loss: 0.1127 - val_accuracy: 0.9130\n",
            "Epoch 25/25\n",
            "52/52 [==============================] - 4s 74ms/step - loss: 0.0730 - accuracy: 0.9305 - val_loss: 0.1218 - val_accuracy: 0.9130\n"
          ]
        }
      ],
      "source": [
        "EPOCHS = 25\n",
        "BATCH_SIZE = 16\n",
        "\n",
        "tf.config.run_functions_eagerly(True)\n",
        "\n",
        "history = model.fit(X_train, y_train, batch_size = BATCH_SIZE,\n",
        "                    epochs = EPOCHS, validation_split = 0.1,\n",
        "                    verbose=1)"
      ]
    },
    {
      "cell_type": "code",
      "source": [
        "score = model.evaluate(X_test, y_test, verbose=0)\n",
        "print('Test loss:', score[0])\n",
        "print('Test accuracy:', score[1])"
      ],
      "metadata": {
        "colab": {
          "base_uri": "https://localhost:8080/"
        },
        "id": "yGw38RNuapZQ",
        "outputId": "b8bbece4-34d4-4bd4-a10f-76cdba6fbc00"
      },
      "id": "yGw38RNuapZQ",
      "execution_count": 9,
      "outputs": [
        {
          "output_type": "stream",
          "name": "stdout",
          "text": [
            "Test loss: 0.17784957587718964\n",
            "Test accuracy: 0.9082969427108765\n"
          ]
        }
      ]
    },
    {
      "cell_type": "code",
      "source": [
        "y_true = [np.argmax(row, axis = 0) for row in y_test.to_numpy()]\n",
        "y_pred = [np.argmax(row, axis = 0) for row in model.predict(X_test)]\n",
        "target_names = [\"Daily Routine\",\t\"Passive Rest\",\t\"Physical Activity\",\n",
        "                \"Work-study\"]\n",
        "print(classification_report(y_true, y_pred, target_names=target_names))"
      ],
      "metadata": {
        "colab": {
          "base_uri": "https://localhost:8080/"
        },
        "id": "zc51aV342lkA",
        "outputId": "23e43845-415b-4250-cc9a-2f9842b97df3"
      },
      "id": "zc51aV342lkA",
      "execution_count": 10,
      "outputs": [
        {
          "output_type": "stream",
          "name": "stdout",
          "text": [
            "8/8 [==============================] - 0s 15ms/step\n",
            "                   precision    recall  f1-score   support\n",
            "\n",
            "    Daily Routine       0.82      0.84      0.83        32\n",
            "     Passive Rest       0.93      0.76      0.84        17\n",
            "Physical Activity       0.85      0.97      0.91        64\n",
            "       Work-study       0.97      0.91      0.94       116\n",
            "\n",
            "         accuracy                           0.91       229\n",
            "        macro avg       0.89      0.87      0.88       229\n",
            "     weighted avg       0.91      0.91      0.91       229\n",
            "\n"
          ]
        }
      ]
    },
    {
      "cell_type": "code",
      "source": [
        "dictionary = {0:\"Daily Routine\",\n",
        "              1:\"Passive Rest\",\n",
        "              2:\"Physical Activity\",\n",
        "              3:\"Work-study\"}\n",
        "\n",
        "example = 2\n",
        "\n",
        "idx = np.argmax(model.predict(X_test)[example], axis = 0)\n",
        "max_idx = np.argmax(y_test.iloc[example], axis = 0)\n",
        "print(\"X:\", X_test.iloc[example], \"- predicted label:\",\n",
        "      dictionary[idx], \"- true label:\", dictionary[max_idx])\n",
        "model.predict(X_test)[example]"
      ],
      "metadata": {
        "colab": {
          "base_uri": "https://localhost:8080/"
        },
        "id": "7rBLpHN4bDML",
        "outputId": "084f0cfa-7f0e-4466-c8cd-85077b1238e0"
      },
      "id": "7rBLpHN4bDML",
      "execution_count": 11,
      "outputs": [
        {
          "output_type": "stream",
          "name": "stdout",
          "text": [
            "8/8 [==============================] - 0s 10ms/step\n",
            "X: science - predicted label: Work-study - true label: Work-study\n",
            "8/8 [==============================] - 0s 12ms/step\n"
          ]
        },
        {
          "output_type": "execute_result",
          "data": {
            "text/plain": [
              "array([-20.690817, -18.869396, -26.726114,  20.696804], dtype=float32)"
            ]
          },
          "metadata": {},
          "execution_count": 11
        }
      ]
    }
  ],
  "metadata": {
    "kernelspec": {
      "display_name": "Python 3 (ipykernel)",
      "language": "python",
      "name": "python3"
    },
    "language_info": {
      "codemirror_mode": {
        "name": "ipython",
        "version": 3
      },
      "file_extension": ".py",
      "mimetype": "text/x-python",
      "name": "python",
      "nbconvert_exporter": "python",
      "pygments_lexer": "ipython3",
      "version": "3.9.5"
    },
    "colab": {
      "provenance": []
    }
  },
  "nbformat": 4,
  "nbformat_minor": 5
}