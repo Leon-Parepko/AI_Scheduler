{
 "cells": [
  {
   "cell_type": "markdown",
   "source": [
    "# This file is used to train and test the model."
   ],
   "metadata": {
    "collapsed": false
   }
  },
  {
   "cell_type": "code",
   "execution_count": 1,
   "metadata": {
    "collapsed": true,
    "ExecuteTime": {
     "start_time": "2023-06-24T20:26:16.523399Z",
     "end_time": "2023-06-24T20:26:17.988872Z"
    }
   },
   "outputs": [],
   "source": [
    "import torch\n",
    "import numpy as np\n",
    "from model import SC_LSTM as Model"
   ]
  },
  {
   "cell_type": "markdown",
   "source": [
    "# Device init"
   ],
   "metadata": {
    "collapsed": false
   }
  },
  {
   "cell_type": "code",
   "execution_count": 2,
   "outputs": [
    {
     "name": "stdout",
     "output_type": "stream",
     "text": [
      "Sat Jun 24 20:26:18 2023       \r\n",
      "+---------------------------------------------------------------------------------------+\r\n",
      "| NVIDIA-SMI 530.41.03              Driver Version: 530.41.03    CUDA Version: 12.1     |\r\n",
      "|-----------------------------------------+----------------------+----------------------+\r\n",
      "| GPU  Name                  Persistence-M| Bus-Id        Disp.A | Volatile Uncorr. ECC |\r\n",
      "| Fan  Temp  Perf            Pwr:Usage/Cap|         Memory-Usage | GPU-Util  Compute M. |\r\n",
      "|                                         |                      |               MIG M. |\r\n",
      "|=========================================+======================+======================|\r\n",
      "|   0  NVIDIA GeForce GTX 1650 Ti      Off| 00000000:01:00.0 Off |                  N/A |\r\n",
      "| N/A   41C    P3               20W /  N/A|    590MiB /  4096MiB |     36%      Default |\r\n",
      "|                                         |                      |                  N/A |\r\n",
      "+-----------------------------------------+----------------------+----------------------+\r\n",
      "                                                                                         \r\n",
      "+---------------------------------------------------------------------------------------+\r\n",
      "| Processes:                                                                            |\r\n",
      "|  GPU   GI   CI        PID   Type   Process name                            GPU Memory |\r\n",
      "|        ID   ID                                                             Usage      |\r\n",
      "|=======================================================================================|\r\n",
      "|    0   N/A  N/A       570      G   /usr/lib/Xorg                               273MiB |\r\n",
      "|    0   N/A  N/A       651      G   /usr/bin/kwalletd5                            1MiB |\r\n",
      "|    0   N/A  N/A       735      G   /usr/bin/ksmserver                            1MiB |\r\n",
      "|    0   N/A  N/A       737      G   /usr/bin/kded5                                1MiB |\r\n",
      "|    0   N/A  N/A       806      G   ...b/polkit-kde-authentication-agent-1        1MiB |\r\n",
      "|    0   N/A  N/A       808      G   /usr/lib/xdg-desktop-portal-kde               9MiB |\r\n",
      "|    0   N/A  N/A       966      G   /usr/lib/kdeconnectd                          1MiB |\r\n",
      "|    0   N/A  N/A       974      G   /usr/bin/telegram-desktop                     2MiB |\r\n",
      "|    0   N/A  N/A       979      G   /usr/bin/kaccess                              1MiB |\r\n",
      "|    0   N/A  N/A       986      G   /usr/lib/DiscoverNotifier                     1MiB |\r\n",
      "|    0   N/A  N/A       988      G   /usr/bin/kalendarac                           1MiB |\r\n",
      "|    0   N/A  N/A       992      G   /usr/bin/kmix                                 1MiB |\r\n",
      "|    0   N/A  N/A      1179      G   /usr/bin/ktorrent                             1MiB |\r\n",
      "|    0   N/A  N/A      1209      G   /usr/bin/yakuake                              1MiB |\r\n",
      "|    0   N/A  N/A      1224      G   /usr/bin/okular                               1MiB |\r\n",
      "|    0   N/A  N/A      1245      G   /usr/bin/okular                               1MiB |\r\n",
      "|    0   N/A  N/A      1278      G   /usr/bin/okular                               1MiB |\r\n",
      "|    0   N/A  N/A      1292      G   /usr/bin/okular                               1MiB |\r\n",
      "|    0   N/A  N/A      1949      G   ...bin/plasma-browser-integration-host       31MiB |\r\n",
      "|    0   N/A  N/A      5315      G   /usr/bin/latte-dock                          10MiB |\r\n",
      "|    0   N/A  N/A     17306      G   /usr/bin/krunner                              5MiB |\r\n",
      "|    0   N/A  N/A     17307      G   /usr/bin/okular                              11MiB |\r\n",
      "|    0   N/A  N/A     26281      G   ...ures=SpareRendererForSitePerProcess       34MiB |\r\n",
      "|    0   N/A  N/A     35528      G   ...5486537061,68797749366413443,131072       33MiB |\r\n",
      "|    0   N/A  N/A     35657      G   /usr/bin/plasmashell                         35MiB |\r\n",
      "|    0   N/A  N/A     37635      G   /usr/bin/kwin_x11                            97MiB |\r\n",
      "+---------------------------------------------------------------------------------------+\r\n",
      "NVIDIA GeForce GTX 1650 Ti\n"
     ]
    }
   ],
   "source": [
    "device = torch.device('cuda' if torch.cuda.is_available() else 'cpu')\n",
    "if device.type == 'cuda':\n",
    "    !nvidia-smi\n",
    "    print(torch.cuda.get_device_name(0))\n",
    "\n",
    "else:\n",
    "    print(\"No GPU :(\")"
   ],
   "metadata": {
    "collapsed": false,
    "ExecuteTime": {
     "start_time": "2023-06-24T20:26:18.009371Z",
     "end_time": "2023-06-24T20:26:18.247077Z"
    }
   }
  },
  {
   "cell_type": "code",
   "execution_count": 3,
   "outputs": [],
   "source": [
    "device = 'cpu'"
   ],
   "metadata": {
    "collapsed": false,
    "ExecuteTime": {
     "start_time": "2023-06-24T20:26:18.253101Z",
     "end_time": "2023-06-24T20:26:18.258847Z"
    }
   }
  },
  {
   "cell_type": "markdown",
   "source": [
    "## Init the model"
   ],
   "metadata": {
    "collapsed": false
   }
  },
  {
   "cell_type": "code",
   "execution_count": 9,
   "outputs": [
    {
     "name": "stdout",
     "output_type": "stream",
     "text": [
      "True\n"
     ]
    }
   ],
   "source": [
    "# Defining a model\n",
    "in_features = 10\n",
    "out_features = 3\n",
    "n_layers = 5\n",
    "\n",
    "SC_LSTM = Model(in_features, out_features, n_layers).to(device)"
   ],
   "metadata": {
    "collapsed": false,
    "ExecuteTime": {
     "start_time": "2023-06-24T20:26:49.958596Z",
     "end_time": "2023-06-24T20:26:49.960595Z"
    }
   }
  },
  {
   "cell_type": "markdown",
   "source": [
    "## Loading the data"
   ],
   "metadata": {
    "collapsed": false
   }
  },
  {
   "cell_type": "code",
   "execution_count": null,
   "outputs": [],
   "source": [
    "#TODO"
   ],
   "metadata": {
    "collapsed": false
   }
  }
 ],
 "metadata": {
  "kernelspec": {
   "display_name": "Python 3",
   "language": "python",
   "name": "python3"
  },
  "language_info": {
   "codemirror_mode": {
    "name": "ipython",
    "version": 2
   },
   "file_extension": ".py",
   "mimetype": "text/x-python",
   "name": "python",
   "nbconvert_exporter": "python",
   "pygments_lexer": "ipython2",
   "version": "2.7.6"
  }
 },
 "nbformat": 4,
 "nbformat_minor": 0
}
