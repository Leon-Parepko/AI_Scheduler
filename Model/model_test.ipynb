{
 "cells": [
  {
   "cell_type": "markdown",
   "source": [
    "# This file is used to train and test the model."
   ],
   "metadata": {
    "collapsed": false
   }
  },
  {
   "cell_type": "code",
   "execution_count": 1,
   "metadata": {
    "collapsed": true,
    "ExecuteTime": {
     "start_time": "2023-06-24T21:32:08.128490Z",
     "end_time": "2023-06-24T21:32:09.210950Z"
    }
   },
   "outputs": [],
   "source": [
    "import torch\n",
    "import numpy as np\n",
    "import pandas as pd\n",
    "from model import SC_LSTM as Model"
   ]
  },
  {
   "cell_type": "markdown",
   "source": [
    "# Device init"
   ],
   "metadata": {
    "collapsed": false
   }
  },
  {
   "cell_type": "code",
   "execution_count": 2,
   "outputs": [
    {
     "name": "stdout",
     "output_type": "stream",
     "text": [
      "Sat Jun 24 21:32:09 2023       \r\n",
      "+---------------------------------------------------------------------------------------+\r\n",
      "| NVIDIA-SMI 530.41.03              Driver Version: 530.41.03    CUDA Version: 12.1     |\r\n",
      "|-----------------------------------------+----------------------+----------------------+\r\n",
      "| GPU  Name                  Persistence-M| Bus-Id        Disp.A | Volatile Uncorr. ECC |\r\n",
      "| Fan  Temp  Perf            Pwr:Usage/Cap|         Memory-Usage | GPU-Util  Compute M. |\r\n",
      "|                                         |                      |               MIG M. |\r\n",
      "|=========================================+======================+======================|\r\n",
      "|   0  NVIDIA GeForce GTX 1650 Ti      Off| 00000000:01:00.0  On |                  N/A |\r\n",
      "| N/A   41C    P5                9W /  N/A|    601MiB /  4096MiB |     24%      Default |\r\n",
      "|                                         |                      |                  N/A |\r\n",
      "+-----------------------------------------+----------------------+----------------------+\r\n",
      "                                                                                         \r\n",
      "+---------------------------------------------------------------------------------------+\r\n",
      "| Processes:                                                                            |\r\n",
      "|  GPU   GI   CI        PID   Type   Process name                            GPU Memory |\r\n",
      "|        ID   ID                                                             Usage      |\r\n",
      "|=======================================================================================|\r\n",
      "|    0   N/A  N/A       570      G   /usr/lib/Xorg                               295MiB |\r\n",
      "|    0   N/A  N/A       651      G   /usr/bin/kwalletd5                            1MiB |\r\n",
      "|    0   N/A  N/A       735      G   /usr/bin/ksmserver                            1MiB |\r\n",
      "|    0   N/A  N/A       737      G   /usr/bin/kded5                                1MiB |\r\n",
      "|    0   N/A  N/A       806      G   ...b/polkit-kde-authentication-agent-1        1MiB |\r\n",
      "|    0   N/A  N/A       808      G   /usr/lib/xdg-desktop-portal-kde               9MiB |\r\n",
      "|    0   N/A  N/A       966      G   /usr/lib/kdeconnectd                          1MiB |\r\n",
      "|    0   N/A  N/A       979      G   /usr/bin/kaccess                              1MiB |\r\n",
      "|    0   N/A  N/A       986      G   /usr/lib/DiscoverNotifier                     1MiB |\r\n",
      "|    0   N/A  N/A       988      G   /usr/bin/kalendarac                           1MiB |\r\n",
      "|    0   N/A  N/A       992      G   /usr/bin/kmix                                 1MiB |\r\n",
      "|    0   N/A  N/A      1179      G   /usr/bin/ktorrent                             1MiB |\r\n",
      "|    0   N/A  N/A      1209      G   /usr/bin/yakuake                              1MiB |\r\n",
      "|    0   N/A  N/A      1224      G   /usr/bin/okular                               1MiB |\r\n",
      "|    0   N/A  N/A      1245      G   /usr/bin/okular                               1MiB |\r\n",
      "|    0   N/A  N/A      1278      G   /usr/bin/okular                               1MiB |\r\n",
      "|    0   N/A  N/A      1292      G   /usr/bin/okular                               1MiB |\r\n",
      "|    0   N/A  N/A      1949      G   ...bin/plasma-browser-integration-host       31MiB |\r\n",
      "|    0   N/A  N/A     17306      G   /usr/bin/krunner                              5MiB |\r\n",
      "|    0   N/A  N/A     17307      G   /usr/bin/okular                              11MiB |\r\n",
      "|    0   N/A  N/A     37635      G   /usr/bin/kwin_x11                            72MiB |\r\n",
      "|    0   N/A  N/A     44297      G   /usr/bin/telegram-desktop                    12MiB |\r\n",
      "|    0   N/A  N/A     45971      G   ...5486537061,68797749366413443,131072       34MiB |\r\n",
      "|    0   N/A  N/A     46028      G   /usr/bin/latte-dock                           3MiB |\r\n",
      "|    0   N/A  N/A     46442      G   /usr/bin/plasmashell                         66MiB |\r\n",
      "|    0   N/A  N/A     49482      G   ...ures=SpareRendererForSitePerProcess       13MiB |\r\n",
      "+---------------------------------------------------------------------------------------+\r\n",
      "NVIDIA GeForce GTX 1650 Ti\n"
     ]
    }
   ],
   "source": [
    "device = torch.device('cuda' if torch.cuda.is_available() else 'cpu')\n",
    "if device.type == 'cuda':\n",
    "    !nvidia-smi\n",
    "    print(torch.cuda.get_device_name(0))\n",
    "\n",
    "else:\n",
    "    print(\"No GPU :(\")"
   ],
   "metadata": {
    "collapsed": false,
    "ExecuteTime": {
     "start_time": "2023-06-24T21:32:09.233731Z",
     "end_time": "2023-06-24T21:32:09.445803Z"
    }
   }
  },
  {
   "cell_type": "code",
   "execution_count": 3,
   "outputs": [],
   "source": [
    "device = 'cpu'"
   ],
   "metadata": {
    "collapsed": false,
    "ExecuteTime": {
     "start_time": "2023-06-24T21:32:09.452419Z",
     "end_time": "2023-06-24T21:32:09.457538Z"
    }
   }
  },
  {
   "cell_type": "markdown",
   "source": [
    "## Init the model"
   ],
   "metadata": {
    "collapsed": false
   }
  },
  {
   "cell_type": "code",
   "execution_count": 4,
   "outputs": [],
   "source": [
    "# Defining a model\n",
    "in_features = 10\n",
    "out_features = 3\n",
    "n_layers = 5\n",
    "\n",
    "SC_LSTM = Model(in_features, out_features, n_layers).to(device)"
   ],
   "metadata": {
    "collapsed": false,
    "ExecuteTime": {
     "start_time": "2023-06-24T21:32:09.458690Z",
     "end_time": "2023-06-24T21:32:09.485848Z"
    }
   }
  },
  {
   "cell_type": "markdown",
   "source": [
    "## Loading the data"
   ],
   "metadata": {
    "collapsed": false
   }
  },
  {
   "cell_type": "code",
   "execution_count": 16,
   "outputs": [
    {
     "data": {
      "text/plain": "   Label Number  Duration  Importance Start Time        Date\n0             3        75           1       6:30  22/06/2023\n1             5        90           2       8:15  22/06/2023\n2             0        30           0      10:00  22/06/2023\n3             1        30           1      10:45  22/06/2023\n4             6        15           0      11:30  22/06/2023",
      "text/html": "<div>\n<style scoped>\n    .dataframe tbody tr th:only-of-type {\n        vertical-align: middle;\n    }\n\n    .dataframe tbody tr th {\n        vertical-align: top;\n    }\n\n    .dataframe thead th {\n        text-align: right;\n    }\n</style>\n<table border=\"1\" class=\"dataframe\">\n  <thead>\n    <tr style=\"text-align: right;\">\n      <th></th>\n      <th>Label Number</th>\n      <th>Duration</th>\n      <th>Importance</th>\n      <th>Start Time</th>\n      <th>Date</th>\n    </tr>\n  </thead>\n  <tbody>\n    <tr>\n      <th>0</th>\n      <td>3</td>\n      <td>75</td>\n      <td>1</td>\n      <td>6:30</td>\n      <td>22/06/2023</td>\n    </tr>\n    <tr>\n      <th>1</th>\n      <td>5</td>\n      <td>90</td>\n      <td>2</td>\n      <td>8:15</td>\n      <td>22/06/2023</td>\n    </tr>\n    <tr>\n      <th>2</th>\n      <td>0</td>\n      <td>30</td>\n      <td>0</td>\n      <td>10:00</td>\n      <td>22/06/2023</td>\n    </tr>\n    <tr>\n      <th>3</th>\n      <td>1</td>\n      <td>30</td>\n      <td>1</td>\n      <td>10:45</td>\n      <td>22/06/2023</td>\n    </tr>\n    <tr>\n      <th>4</th>\n      <td>6</td>\n      <td>15</td>\n      <td>0</td>\n      <td>11:30</td>\n      <td>22/06/2023</td>\n    </tr>\n  </tbody>\n</table>\n</div>"
     },
     "execution_count": 16,
     "metadata": {},
     "output_type": "execute_result"
    }
   ],
   "source": [
    "from Data.Preprocessor import Preprocessor\n",
    "\n",
    "preproc = Preprocessor()\n",
    "\n",
    "data = pd.read_csv('../Data/schedule_v3.csv')\n",
    "data.head()"
   ],
   "metadata": {
    "collapsed": false,
    "ExecuteTime": {
     "start_time": "2023-06-24T21:33:56.758923Z",
     "end_time": "2023-06-24T21:33:56.811547Z"
    }
   }
  },
  {
   "cell_type": "code",
   "execution_count": 18,
   "outputs": [
    {
     "data": {
      "text/plain": "     Label Number  Duration  Importance  Time_Min_sin  Time_Min_cos  \\\n0               3  0.571429           1      0.988948     -0.148264   \n1               5  0.714286           2      0.818625     -0.574329   \n2               0  0.142857           0      0.475947     -0.879474   \n3               1  0.142857           1      0.293250     -0.956036   \n4               6  0.000000           0      0.099046     -0.995083   \n..            ...       ...         ...           ...           ...   \n967             4  0.714286           2     -0.993309      0.115485   \n968             1  0.142857           1     -0.901991      0.431754   \n969             6  0.285714           0     -0.712928      0.701237   \n970             3  0.285714           1     -0.446609      0.894729   \n971             5  1.000000           3     -0.131892      0.991264   \n\n     Date_Day_sin  Date_Day_cos  Date_Month_sin  Date_Month_cos  \n0       -0.968077     -0.250653   -8.660254e-01            -0.5  \n1       -0.968077     -0.250653   -8.660254e-01            -0.5  \n2       -0.968077     -0.250653   -8.660254e-01            -0.5  \n3       -0.968077     -0.250653   -8.660254e-01            -0.5  \n4       -0.968077     -0.250653   -8.660254e-01            -0.5  \n..            ...           ...             ...             ...  \n967      0.201299      0.979530   -2.449294e-16             1.0  \n968      0.201299      0.979530   -2.449294e-16             1.0  \n969      0.201299      0.979530   -2.449294e-16             1.0  \n970      0.201299      0.979530   -2.449294e-16             1.0  \n971      0.201299      0.979530   -2.449294e-16             1.0  \n\n[972 rows x 9 columns]",
      "text/html": "<div>\n<style scoped>\n    .dataframe tbody tr th:only-of-type {\n        vertical-align: middle;\n    }\n\n    .dataframe tbody tr th {\n        vertical-align: top;\n    }\n\n    .dataframe thead th {\n        text-align: right;\n    }\n</style>\n<table border=\"1\" class=\"dataframe\">\n  <thead>\n    <tr style=\"text-align: right;\">\n      <th></th>\n      <th>Label Number</th>\n      <th>Duration</th>\n      <th>Importance</th>\n      <th>Time_Min_sin</th>\n      <th>Time_Min_cos</th>\n      <th>Date_Day_sin</th>\n      <th>Date_Day_cos</th>\n      <th>Date_Month_sin</th>\n      <th>Date_Month_cos</th>\n    </tr>\n  </thead>\n  <tbody>\n    <tr>\n      <th>0</th>\n      <td>3</td>\n      <td>0.571429</td>\n      <td>1</td>\n      <td>0.988948</td>\n      <td>-0.148264</td>\n      <td>-0.968077</td>\n      <td>-0.250653</td>\n      <td>-8.660254e-01</td>\n      <td>-0.5</td>\n    </tr>\n    <tr>\n      <th>1</th>\n      <td>5</td>\n      <td>0.714286</td>\n      <td>2</td>\n      <td>0.818625</td>\n      <td>-0.574329</td>\n      <td>-0.968077</td>\n      <td>-0.250653</td>\n      <td>-8.660254e-01</td>\n      <td>-0.5</td>\n    </tr>\n    <tr>\n      <th>2</th>\n      <td>0</td>\n      <td>0.142857</td>\n      <td>0</td>\n      <td>0.475947</td>\n      <td>-0.879474</td>\n      <td>-0.968077</td>\n      <td>-0.250653</td>\n      <td>-8.660254e-01</td>\n      <td>-0.5</td>\n    </tr>\n    <tr>\n      <th>3</th>\n      <td>1</td>\n      <td>0.142857</td>\n      <td>1</td>\n      <td>0.293250</td>\n      <td>-0.956036</td>\n      <td>-0.968077</td>\n      <td>-0.250653</td>\n      <td>-8.660254e-01</td>\n      <td>-0.5</td>\n    </tr>\n    <tr>\n      <th>4</th>\n      <td>6</td>\n      <td>0.000000</td>\n      <td>0</td>\n      <td>0.099046</td>\n      <td>-0.995083</td>\n      <td>-0.968077</td>\n      <td>-0.250653</td>\n      <td>-8.660254e-01</td>\n      <td>-0.5</td>\n    </tr>\n    <tr>\n      <th>...</th>\n      <td>...</td>\n      <td>...</td>\n      <td>...</td>\n      <td>...</td>\n      <td>...</td>\n      <td>...</td>\n      <td>...</td>\n      <td>...</td>\n      <td>...</td>\n    </tr>\n    <tr>\n      <th>967</th>\n      <td>4</td>\n      <td>0.714286</td>\n      <td>2</td>\n      <td>-0.993309</td>\n      <td>0.115485</td>\n      <td>0.201299</td>\n      <td>0.979530</td>\n      <td>-2.449294e-16</td>\n      <td>1.0</td>\n    </tr>\n    <tr>\n      <th>968</th>\n      <td>1</td>\n      <td>0.142857</td>\n      <td>1</td>\n      <td>-0.901991</td>\n      <td>0.431754</td>\n      <td>0.201299</td>\n      <td>0.979530</td>\n      <td>-2.449294e-16</td>\n      <td>1.0</td>\n    </tr>\n    <tr>\n      <th>969</th>\n      <td>6</td>\n      <td>0.285714</td>\n      <td>0</td>\n      <td>-0.712928</td>\n      <td>0.701237</td>\n      <td>0.201299</td>\n      <td>0.979530</td>\n      <td>-2.449294e-16</td>\n      <td>1.0</td>\n    </tr>\n    <tr>\n      <th>970</th>\n      <td>3</td>\n      <td>0.285714</td>\n      <td>1</td>\n      <td>-0.446609</td>\n      <td>0.894729</td>\n      <td>0.201299</td>\n      <td>0.979530</td>\n      <td>-2.449294e-16</td>\n      <td>1.0</td>\n    </tr>\n    <tr>\n      <th>971</th>\n      <td>5</td>\n      <td>1.000000</td>\n      <td>3</td>\n      <td>-0.131892</td>\n      <td>0.991264</td>\n      <td>0.201299</td>\n      <td>0.979530</td>\n      <td>-2.449294e-16</td>\n      <td>1.0</td>\n    </tr>\n  </tbody>\n</table>\n<p>972 rows × 9 columns</p>\n</div>"
     },
     "execution_count": 18,
     "metadata": {},
     "output_type": "execute_result"
    }
   ],
   "source": [
    "preproc.preprocess(data)"
   ],
   "metadata": {
    "collapsed": false,
    "ExecuteTime": {
     "start_time": "2023-06-24T21:34:19.640144Z",
     "end_time": "2023-06-24T21:34:19.716281Z"
    }
   }
  }
 ],
 "metadata": {
  "kernelspec": {
   "display_name": "Python 3",
   "language": "python",
   "name": "python3"
  },
  "language_info": {
   "codemirror_mode": {
    "name": "ipython",
    "version": 2
   },
   "file_extension": ".py",
   "mimetype": "text/x-python",
   "name": "python",
   "nbconvert_exporter": "python",
   "pygments_lexer": "ipython2",
   "version": "2.7.6"
  }
 },
 "nbformat": 4,
 "nbformat_minor": 0
}
