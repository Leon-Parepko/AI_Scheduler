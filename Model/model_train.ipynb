{
 "cells": [
  {
   "cell_type": "markdown",
   "source": [
    "# This file is used to train"
   ],
   "metadata": {
    "collapsed": false
   }
  },
  {
   "cell_type": "code",
   "execution_count": 1,
   "metadata": {
    "collapsed": true,
    "ExecuteTime": {
     "start_time": "2023-07-10T06:40:36.943685Z",
     "end_time": "2023-07-10T06:40:39.182905Z"
    }
   },
   "outputs": [],
   "source": [
    "import torch\n",
    "import numpy as np\n",
    "from tqdm import tqdm\n",
    "import pandas as pd\n",
    "from sc_model import SC_LSTM as Model"
   ]
  },
  {
   "cell_type": "markdown",
   "source": [
    "# Device init"
   ],
   "metadata": {
    "collapsed": false
   }
  },
  {
   "cell_type": "code",
   "execution_count": 2,
   "outputs": [
    {
     "name": "stdout",
     "output_type": "stream",
     "text": [
      "Mon Jul 10 06:40:39 2023       \r\n",
      "+---------------------------------------------------------------------------------------+\r\n",
      "| NVIDIA-SMI 530.41.03              Driver Version: 530.41.03    CUDA Version: 12.1     |\r\n",
      "|-----------------------------------------+----------------------+----------------------+\r\n",
      "| GPU  Name                  Persistence-M| Bus-Id        Disp.A | Volatile Uncorr. ECC |\r\n",
      "| Fan  Temp  Perf            Pwr:Usage/Cap|         Memory-Usage | GPU-Util  Compute M. |\r\n",
      "|                                         |                      |               MIG M. |\r\n",
      "|=========================================+======================+======================|\r\n",
      "|   0  NVIDIA GeForce GTX 1650 Ti      Off| 00000000:01:00.0  On |                  N/A |\r\n",
      "| N/A   51C    P0               27W /  N/A|   1049MiB /  4096MiB |     56%      Default |\r\n",
      "|                                         |                      |                  N/A |\r\n",
      "+-----------------------------------------+----------------------+----------------------+\r\n",
      "                                                                                         \r\n",
      "+---------------------------------------------------------------------------------------+\r\n",
      "| Processes:                                                                            |\r\n",
      "|  GPU   GI   CI        PID   Type   Process name                            GPU Memory |\r\n",
      "|        ID   ID                                                             Usage      |\r\n",
      "|=======================================================================================|\r\n",
      "|    0   N/A  N/A       572      G   /usr/lib/Xorg                               439MiB |\r\n",
      "|    0   N/A  N/A       636      G   /usr/bin/kwalletd5                            1MiB |\r\n",
      "|    0   N/A  N/A       725      G   /usr/bin/ksmserver                            1MiB |\r\n",
      "|    0   N/A  N/A       727      G   /usr/bin/kded5                                1MiB |\r\n",
      "|    0   N/A  N/A       730      G   /usr/bin/kwin_x11                           169MiB |\r\n",
      "|    0   N/A  N/A       799      G   ...b/polkit-kde-authentication-agent-1       15MiB |\r\n",
      "|    0   N/A  N/A       801      G   /usr/lib/xdg-desktop-portal-kde               1MiB |\r\n",
      "|    0   N/A  N/A       955      G   /usr/lib/kdeconnectd                          1MiB |\r\n",
      "|    0   N/A  N/A       958      G   /usr/bin/latte-dock                          18MiB |\r\n",
      "|    0   N/A  N/A       966      G   /usr/bin/kaccess                              1MiB |\r\n",
      "|    0   N/A  N/A       974      G   /usr/bin/kalendarac                           1MiB |\r\n",
      "|    0   N/A  N/A       979      G   /usr/bin/kmix                                 1MiB |\r\n",
      "|    0   N/A  N/A       988      G   /usr/lib/DiscoverNotifier                     1MiB |\r\n",
      "|    0   N/A  N/A      1182      G   /usr/bin/ktorrent                             1MiB |\r\n",
      "|    0   N/A  N/A      1209      G   /usr/bin/yakuake                             15MiB |\r\n",
      "|    0   N/A  N/A      2023      G   ...bin/plasma-browser-integration-host        1MiB |\r\n",
      "|    0   N/A  N/A     52012      G   /usr/bin/krunner                             36MiB |\r\n",
      "|    0   N/A  N/A     74929      G   /usr/bin/telegram-desktop                    32MiB |\r\n",
      "|    0   N/A  N/A     81258      G   /usr/bin/plasmashell                         70MiB |\r\n",
      "|    0   N/A  N/A     91827      G   ...35454217,2260994688081749193,131072      140MiB |\r\n",
      "|    0   N/A  N/A     92876      G   ...,WinRetrieveSuggestionsOnlyOnDemand       56MiB |\r\n",
      "+---------------------------------------------------------------------------------------+\r\n",
      "NVIDIA GeForce GTX 1650 Ti\n"
     ]
    }
   ],
   "source": [
    "device = torch.device('cuda' if torch.cuda.is_available() else 'cpu')\n",
    "if device.type == 'cuda':\n",
    "    !nvidia-smi\n",
    "    print(torch.cuda.get_device_name(0))\n",
    "\n",
    "else:\n",
    "    print(\"No GPU :(\")"
   ],
   "metadata": {
    "collapsed": false,
    "ExecuteTime": {
     "start_time": "2023-07-10T06:40:39.189581Z",
     "end_time": "2023-07-10T06:40:39.362885Z"
    }
   }
  },
  {
   "cell_type": "code",
   "execution_count": 3,
   "outputs": [],
   "source": [
    "device = 'cpu'"
   ],
   "metadata": {
    "collapsed": false,
    "ExecuteTime": {
     "start_time": "2023-07-10T06:40:39.365373Z",
     "end_time": "2023-07-10T06:40:39.374601Z"
    }
   }
  },
  {
   "cell_type": "markdown",
   "source": [
    "## Loading the data"
   ],
   "metadata": {
    "collapsed": false
   }
  },
  {
   "cell_type": "code",
   "execution_count": 4,
   "outputs": [
    {
     "data": {
      "text/plain": "      Label Number  Duration  Importance Start Time        Date\n0                0        20           0      10:13  10/07/2023\n1                1        80           1      12:13  10/07/2023\n2                1        40           2      14:53  10/07/2023\n3                3       170           2      17:13  10/07/2023\n4                1        30           1      20:53  10/07/2023\n...            ...       ...         ...        ...         ...\n5386             2        70           0      15:25  16/09/2025\n5387             0        20           0      17:00  16/09/2025\n5388             1        80           1      18:45  16/09/2025\n5389             0        30           1      21:20  16/09/2025\n5390             1       110           1      22:05  16/09/2025\n\n[5391 rows x 5 columns]",
      "text/html": "<div>\n<style scoped>\n    .dataframe tbody tr th:only-of-type {\n        vertical-align: middle;\n    }\n\n    .dataframe tbody tr th {\n        vertical-align: top;\n    }\n\n    .dataframe thead th {\n        text-align: right;\n    }\n</style>\n<table border=\"1\" class=\"dataframe\">\n  <thead>\n    <tr style=\"text-align: right;\">\n      <th></th>\n      <th>Label Number</th>\n      <th>Duration</th>\n      <th>Importance</th>\n      <th>Start Time</th>\n      <th>Date</th>\n    </tr>\n  </thead>\n  <tbody>\n    <tr>\n      <th>0</th>\n      <td>0</td>\n      <td>20</td>\n      <td>0</td>\n      <td>10:13</td>\n      <td>10/07/2023</td>\n    </tr>\n    <tr>\n      <th>1</th>\n      <td>1</td>\n      <td>80</td>\n      <td>1</td>\n      <td>12:13</td>\n      <td>10/07/2023</td>\n    </tr>\n    <tr>\n      <th>2</th>\n      <td>1</td>\n      <td>40</td>\n      <td>2</td>\n      <td>14:53</td>\n      <td>10/07/2023</td>\n    </tr>\n    <tr>\n      <th>3</th>\n      <td>3</td>\n      <td>170</td>\n      <td>2</td>\n      <td>17:13</td>\n      <td>10/07/2023</td>\n    </tr>\n    <tr>\n      <th>4</th>\n      <td>1</td>\n      <td>30</td>\n      <td>1</td>\n      <td>20:53</td>\n      <td>10/07/2023</td>\n    </tr>\n    <tr>\n      <th>...</th>\n      <td>...</td>\n      <td>...</td>\n      <td>...</td>\n      <td>...</td>\n      <td>...</td>\n    </tr>\n    <tr>\n      <th>5386</th>\n      <td>2</td>\n      <td>70</td>\n      <td>0</td>\n      <td>15:25</td>\n      <td>16/09/2025</td>\n    </tr>\n    <tr>\n      <th>5387</th>\n      <td>0</td>\n      <td>20</td>\n      <td>0</td>\n      <td>17:00</td>\n      <td>16/09/2025</td>\n    </tr>\n    <tr>\n      <th>5388</th>\n      <td>1</td>\n      <td>80</td>\n      <td>1</td>\n      <td>18:45</td>\n      <td>16/09/2025</td>\n    </tr>\n    <tr>\n      <th>5389</th>\n      <td>0</td>\n      <td>30</td>\n      <td>1</td>\n      <td>21:20</td>\n      <td>16/09/2025</td>\n    </tr>\n    <tr>\n      <th>5390</th>\n      <td>1</td>\n      <td>110</td>\n      <td>1</td>\n      <td>22:05</td>\n      <td>16/09/2025</td>\n    </tr>\n  </tbody>\n</table>\n<p>5391 rows × 5 columns</p>\n</div>"
     },
     "execution_count": 4,
     "metadata": {},
     "output_type": "execute_result"
    }
   ],
   "source": [
    "from Data.PreprocessorOfGeneratedData import Preprocessor\n",
    "\n",
    "preproc = Preprocessor()\n",
    "\n",
    "data = pd.read_csv('../Data/schedule_gen.csv')\n",
    "data"
   ],
   "metadata": {
    "collapsed": false,
    "ExecuteTime": {
     "start_time": "2023-07-10T06:40:39.369336Z",
     "end_time": "2023-07-10T06:40:39.485252Z"
    }
   }
  },
  {
   "cell_type": "code",
   "execution_count": 5,
   "outputs": [
    {
     "data": {
      "text/plain": "       0    1    2    3         4     5         6         7         8   \\\n0     0.0  0.0  0.0  0.0  0.090909  0.00  0.002778  0.000012  1.000000   \n1     0.0  1.0  0.0  0.0  0.454545  0.25  0.086111  0.000376  1.000000   \n2     0.0  0.0  0.0  0.0  0.212121  0.50  0.197222  0.000861  1.000000   \n3     0.0  0.0  0.0  0.0  1.000000  0.50  0.294444  0.001285  0.999999   \n4     0.0  0.0  0.0  0.0  0.151515  0.25  0.447222  0.001951  0.999998   \n...   ...  ...  ...  ...       ...   ...       ...       ...       ...   \n5386  0.0  0.0  0.0  0.0  0.393939  0.00  0.311111  0.001357  0.999999   \n5387  0.0  0.0  0.0  0.0  0.090909  0.00  0.377083  0.001645  0.999999   \n5388  0.0  0.0  0.0  0.0  0.454545  0.25  0.450000  0.001963  0.999998   \n5389  0.0  0.0  0.0  0.0  0.151515  0.25  0.557639  0.002433  0.999997   \n5390  0.0  0.0  0.0  0.0  0.636364  0.25  0.588889  0.002570  0.999997   \n\n            9         10        11   12            13  \n0     0.523288  0.897805 -0.440394 -0.5 -8.660254e-01  \n1     0.523288  0.897805 -0.440394 -0.5 -8.660254e-01  \n2     0.000000  0.000000  1.000000  0.0  1.000000e+00  \n3     0.523288  0.897805 -0.440394 -0.5 -8.660254e-01  \n4     0.523288  0.897805 -0.440394 -0.5 -8.660254e-01  \n...        ...       ...       ...  ...           ...  \n5386  0.709589 -0.207912 -0.978148 -1.0 -1.836970e-16  \n5387  0.709589 -0.207912 -0.978148 -1.0 -1.836970e-16  \n5388  0.000000  0.000000  1.000000  0.0  1.000000e+00  \n5389  0.000000  0.000000  1.000000  0.0  1.000000e+00  \n5390  0.709589 -0.207912 -0.978148 -1.0 -1.836970e-16  \n\n[5391 rows x 14 columns]",
      "text/html": "<div>\n<style scoped>\n    .dataframe tbody tr th:only-of-type {\n        vertical-align: middle;\n    }\n\n    .dataframe tbody tr th {\n        vertical-align: top;\n    }\n\n    .dataframe thead th {\n        text-align: right;\n    }\n</style>\n<table border=\"1\" class=\"dataframe\">\n  <thead>\n    <tr style=\"text-align: right;\">\n      <th></th>\n      <th>0</th>\n      <th>1</th>\n      <th>2</th>\n      <th>3</th>\n      <th>4</th>\n      <th>5</th>\n      <th>6</th>\n      <th>7</th>\n      <th>8</th>\n      <th>9</th>\n      <th>10</th>\n      <th>11</th>\n      <th>12</th>\n      <th>13</th>\n    </tr>\n  </thead>\n  <tbody>\n    <tr>\n      <th>0</th>\n      <td>0.0</td>\n      <td>0.0</td>\n      <td>0.0</td>\n      <td>0.0</td>\n      <td>0.090909</td>\n      <td>0.00</td>\n      <td>0.002778</td>\n      <td>0.000012</td>\n      <td>1.000000</td>\n      <td>0.523288</td>\n      <td>0.897805</td>\n      <td>-0.440394</td>\n      <td>-0.5</td>\n      <td>-8.660254e-01</td>\n    </tr>\n    <tr>\n      <th>1</th>\n      <td>0.0</td>\n      <td>1.0</td>\n      <td>0.0</td>\n      <td>0.0</td>\n      <td>0.454545</td>\n      <td>0.25</td>\n      <td>0.086111</td>\n      <td>0.000376</td>\n      <td>1.000000</td>\n      <td>0.523288</td>\n      <td>0.897805</td>\n      <td>-0.440394</td>\n      <td>-0.5</td>\n      <td>-8.660254e-01</td>\n    </tr>\n    <tr>\n      <th>2</th>\n      <td>0.0</td>\n      <td>0.0</td>\n      <td>0.0</td>\n      <td>0.0</td>\n      <td>0.212121</td>\n      <td>0.50</td>\n      <td>0.197222</td>\n      <td>0.000861</td>\n      <td>1.000000</td>\n      <td>0.000000</td>\n      <td>0.000000</td>\n      <td>1.000000</td>\n      <td>0.0</td>\n      <td>1.000000e+00</td>\n    </tr>\n    <tr>\n      <th>3</th>\n      <td>0.0</td>\n      <td>0.0</td>\n      <td>0.0</td>\n      <td>0.0</td>\n      <td>1.000000</td>\n      <td>0.50</td>\n      <td>0.294444</td>\n      <td>0.001285</td>\n      <td>0.999999</td>\n      <td>0.523288</td>\n      <td>0.897805</td>\n      <td>-0.440394</td>\n      <td>-0.5</td>\n      <td>-8.660254e-01</td>\n    </tr>\n    <tr>\n      <th>4</th>\n      <td>0.0</td>\n      <td>0.0</td>\n      <td>0.0</td>\n      <td>0.0</td>\n      <td>0.151515</td>\n      <td>0.25</td>\n      <td>0.447222</td>\n      <td>0.001951</td>\n      <td>0.999998</td>\n      <td>0.523288</td>\n      <td>0.897805</td>\n      <td>-0.440394</td>\n      <td>-0.5</td>\n      <td>-8.660254e-01</td>\n    </tr>\n    <tr>\n      <th>...</th>\n      <td>...</td>\n      <td>...</td>\n      <td>...</td>\n      <td>...</td>\n      <td>...</td>\n      <td>...</td>\n      <td>...</td>\n      <td>...</td>\n      <td>...</td>\n      <td>...</td>\n      <td>...</td>\n      <td>...</td>\n      <td>...</td>\n      <td>...</td>\n    </tr>\n    <tr>\n      <th>5386</th>\n      <td>0.0</td>\n      <td>0.0</td>\n      <td>0.0</td>\n      <td>0.0</td>\n      <td>0.393939</td>\n      <td>0.00</td>\n      <td>0.311111</td>\n      <td>0.001357</td>\n      <td>0.999999</td>\n      <td>0.709589</td>\n      <td>-0.207912</td>\n      <td>-0.978148</td>\n      <td>-1.0</td>\n      <td>-1.836970e-16</td>\n    </tr>\n    <tr>\n      <th>5387</th>\n      <td>0.0</td>\n      <td>0.0</td>\n      <td>0.0</td>\n      <td>0.0</td>\n      <td>0.090909</td>\n      <td>0.00</td>\n      <td>0.377083</td>\n      <td>0.001645</td>\n      <td>0.999999</td>\n      <td>0.709589</td>\n      <td>-0.207912</td>\n      <td>-0.978148</td>\n      <td>-1.0</td>\n      <td>-1.836970e-16</td>\n    </tr>\n    <tr>\n      <th>5388</th>\n      <td>0.0</td>\n      <td>0.0</td>\n      <td>0.0</td>\n      <td>0.0</td>\n      <td>0.454545</td>\n      <td>0.25</td>\n      <td>0.450000</td>\n      <td>0.001963</td>\n      <td>0.999998</td>\n      <td>0.000000</td>\n      <td>0.000000</td>\n      <td>1.000000</td>\n      <td>0.0</td>\n      <td>1.000000e+00</td>\n    </tr>\n    <tr>\n      <th>5389</th>\n      <td>0.0</td>\n      <td>0.0</td>\n      <td>0.0</td>\n      <td>0.0</td>\n      <td>0.151515</td>\n      <td>0.25</td>\n      <td>0.557639</td>\n      <td>0.002433</td>\n      <td>0.999997</td>\n      <td>0.000000</td>\n      <td>0.000000</td>\n      <td>1.000000</td>\n      <td>0.0</td>\n      <td>1.000000e+00</td>\n    </tr>\n    <tr>\n      <th>5390</th>\n      <td>0.0</td>\n      <td>0.0</td>\n      <td>0.0</td>\n      <td>0.0</td>\n      <td>0.636364</td>\n      <td>0.25</td>\n      <td>0.588889</td>\n      <td>0.002570</td>\n      <td>0.999997</td>\n      <td>0.709589</td>\n      <td>-0.207912</td>\n      <td>-0.978148</td>\n      <td>-1.0</td>\n      <td>-1.836970e-16</td>\n    </tr>\n  </tbody>\n</table>\n<p>5391 rows × 14 columns</p>\n</div>"
     },
     "execution_count": 5,
     "metadata": {},
     "output_type": "execute_result"
    }
   ],
   "source": [
    "input_data, type_vector, output_data = preproc.preprocess('../Data/schedule_gen.csv')\n",
    "input_data = np.array(input_data, dtype=np.float64)\n",
    "pd.DataFrame(input_data)\n",
    "# input_data"
   ],
   "metadata": {
    "collapsed": false,
    "ExecuteTime": {
     "start_time": "2023-07-10T06:40:39.455663Z",
     "end_time": "2023-07-10T06:40:45.120213Z"
    }
   }
  },
  {
   "cell_type": "code",
   "execution_count": 6,
   "outputs": [
    {
     "data": {
      "text/plain": "             0         1         2\n0     0.002778  0.013889  0.000000\n1     0.086111  0.065972  0.010417\n2     0.197222  0.027778  0.000000\n3     0.294444  0.118056  0.000000\n4     0.447222  0.020833  0.000000\n...        ...       ...       ...\n5386  0.311111  0.048611  0.000000\n5387  0.377083  0.013889  0.000000\n5388  0.450000  0.055556  0.000000\n5389  0.557639  0.020833  0.000000\n5390  0.588889  0.076389  0.000000\n\n[5391 rows x 3 columns]",
      "text/html": "<div>\n<style scoped>\n    .dataframe tbody tr th:only-of-type {\n        vertical-align: middle;\n    }\n\n    .dataframe tbody tr th {\n        vertical-align: top;\n    }\n\n    .dataframe thead th {\n        text-align: right;\n    }\n</style>\n<table border=\"1\" class=\"dataframe\">\n  <thead>\n    <tr style=\"text-align: right;\">\n      <th></th>\n      <th>0</th>\n      <th>1</th>\n      <th>2</th>\n    </tr>\n  </thead>\n  <tbody>\n    <tr>\n      <th>0</th>\n      <td>0.002778</td>\n      <td>0.013889</td>\n      <td>0.000000</td>\n    </tr>\n    <tr>\n      <th>1</th>\n      <td>0.086111</td>\n      <td>0.065972</td>\n      <td>0.010417</td>\n    </tr>\n    <tr>\n      <th>2</th>\n      <td>0.197222</td>\n      <td>0.027778</td>\n      <td>0.000000</td>\n    </tr>\n    <tr>\n      <th>3</th>\n      <td>0.294444</td>\n      <td>0.118056</td>\n      <td>0.000000</td>\n    </tr>\n    <tr>\n      <th>4</th>\n      <td>0.447222</td>\n      <td>0.020833</td>\n      <td>0.000000</td>\n    </tr>\n    <tr>\n      <th>...</th>\n      <td>...</td>\n      <td>...</td>\n      <td>...</td>\n    </tr>\n    <tr>\n      <th>5386</th>\n      <td>0.311111</td>\n      <td>0.048611</td>\n      <td>0.000000</td>\n    </tr>\n    <tr>\n      <th>5387</th>\n      <td>0.377083</td>\n      <td>0.013889</td>\n      <td>0.000000</td>\n    </tr>\n    <tr>\n      <th>5388</th>\n      <td>0.450000</td>\n      <td>0.055556</td>\n      <td>0.000000</td>\n    </tr>\n    <tr>\n      <th>5389</th>\n      <td>0.557639</td>\n      <td>0.020833</td>\n      <td>0.000000</td>\n    </tr>\n    <tr>\n      <th>5390</th>\n      <td>0.588889</td>\n      <td>0.076389</td>\n      <td>0.000000</td>\n    </tr>\n  </tbody>\n</table>\n<p>5391 rows × 3 columns</p>\n</div>"
     },
     "execution_count": 6,
     "metadata": {},
     "output_type": "execute_result"
    }
   ],
   "source": [
    "# Make the data positive\n",
    "output_data = np.abs(np.array(output_data, dtype=np.float64))\n",
    "pd.DataFrame(output_data)"
   ],
   "metadata": {
    "collapsed": false,
    "ExecuteTime": {
     "start_time": "2023-07-10T06:40:45.126393Z",
     "end_time": "2023-07-10T06:40:45.272102Z"
    }
   }
  },
  {
   "cell_type": "markdown",
   "source": [
    "## Creating the dataset"
   ],
   "metadata": {
    "collapsed": false
   }
  },
  {
   "cell_type": "code",
   "execution_count": 7,
   "outputs": [],
   "source": [
    "from torch.utils.data import Dataset, DataLoader\n",
    "\n",
    "class ScheduleDataset(Dataset):\n",
    "    def __init__(self, input_data, type_vector, output_vector, task_types='all', transform=None):\n",
    "        if task_types == 'all':\n",
    "            self.input_data = input_data\n",
    "            self.type_vector = type_vector\n",
    "            self.output_vector = output_vector\n",
    "        elif task_types == 'resched':\n",
    "            self.input_data = []\n",
    "            self.type_vector = []\n",
    "            self.output_vector = []\n",
    "            for i in range(len(input_data)):\n",
    "                if type_vector[i] == \"resched\":\n",
    "                    self.input_data.append(input_data[i])\n",
    "                    self.type_vector.append(type_vector[i])\n",
    "                    self.output_vector.append(output_vector[i])\n",
    "        elif task_types == 'non-resched':\n",
    "            self.input_data = []\n",
    "            self.type_vector = []\n",
    "            self.output_vector = []\n",
    "            for i in range(len(input_data)):\n",
    "                if type_vector[i] == \"non-resched\":\n",
    "                    self.input_data.append(input_data[i])\n",
    "                    self.type_vector.append(type_vector[i])\n",
    "                    self.output_vector.append(output_vector[i])\n",
    "        else:\n",
    "            raise ValueError(\"task_types must be 'all', 'resched', or 'non-resched'\")\n",
    "        self.transform = transform\n",
    "\n",
    "    def __len__(self):\n",
    "        return len(self.input_data)\n",
    "\n",
    "    def __getitem__(self, idx):\n",
    "        return self.input_data[idx], self.type_vector[idx], self.output_vector[idx]"
   ],
   "metadata": {
    "collapsed": false,
    "ExecuteTime": {
     "start_time": "2023-07-10T06:40:45.167727Z",
     "end_time": "2023-07-10T06:40:45.272182Z"
    }
   }
  },
  {
   "cell_type": "code",
   "execution_count": 8,
   "outputs": [
    {
     "name": "stdout",
     "output_type": "stream",
     "text": [
      "Resched dataset size: 4293\n",
      "Non-resched dataset size: 1098\n",
      "All dataset size: 5391\n"
     ]
    }
   ],
   "source": [
    "resched_dataset = ScheduleDataset(input_data, type_vector, output_data, task_types='resched')\n",
    "non_resched_dataset = ScheduleDataset(input_data, type_vector, output_data, task_types='non-resched')\n",
    "all_dataset = ScheduleDataset(input_data, type_vector, output_data, task_types='all')\n",
    "\n",
    "print(f\"Resched dataset size: {len(resched_dataset)}\\n\"\n",
    "      f\"Non-resched dataset size: {len(non_resched_dataset)}\\n\"\n",
    "      f\"All dataset size: {len(all_dataset)}\")"
   ],
   "metadata": {
    "collapsed": false,
    "ExecuteTime": {
     "start_time": "2023-07-10T06:40:45.167792Z",
     "end_time": "2023-07-10T06:40:45.272528Z"
    }
   }
  },
  {
   "cell_type": "markdown",
   "source": [
    "## Create dataloaders"
   ],
   "metadata": {
    "collapsed": false
   }
  },
  {
   "cell_type": "code",
   "execution_count": 9,
   "outputs": [],
   "source": [
    "batch_size = 1\n",
    "# resched_dataset_size = len(resched_dataset)\n",
    "# train_size = int(resched_dataset_size * 0.8)\n",
    "# test_size = resched_dataset_size - train_size\n",
    "#\n",
    "# train_resched_dataset, test_resched_dataset = torch.utils.data.random_split(resched_dataset, [train_size, test_size])\n",
    "\n",
    "train_resched_dataloader = DataLoader(resched_dataset, batch_size=batch_size)\n",
    "# valid_resched_dataloader = DataLoader2(resched_dataset, batch_size=batch_size)\n",
    "\n",
    "train_non_resched_dataloader = DataLoader(non_resched_dataset, batch_size=batch_size)"
   ],
   "metadata": {
    "collapsed": false,
    "ExecuteTime": {
     "start_time": "2023-07-10T06:40:45.225586Z",
     "end_time": "2023-07-10T06:40:45.272604Z"
    }
   }
  },
  {
   "cell_type": "markdown",
   "source": [
    "## Create free time slots generator"
   ],
   "metadata": {
    "collapsed": false
   }
  },
  {
   "cell_type": "code",
   "execution_count": 10,
   "outputs": [
    {
     "data": {
      "text/plain": "array([[0.        , 0.00439147],\n       [0.21093383, 0.25381218],\n       [0.43394448, 0.44736214],\n       [0.60683539, 0.6198085 ],\n       [0.64522205, 0.65522046],\n       [0.69804826, 0.71519039]])"
     },
     "execution_count": 10,
     "metadata": {},
     "output_type": "execute_result"
    }
   ],
   "source": [
    "from Data.GeneratorOfAvailableTimeslots import GeneratorOfAvailableTimeslots\n",
    "\n",
    "time_slots_gen = GeneratorOfAvailableTimeslots(5)\n",
    "time_slots = time_slots_gen.generate_available_timeslots()\n",
    "\n",
    "time_slots      # TODO: why all the intervals are closed?\n",
    "single_interval = time_slots[0]\n",
    "single_interval\n"
   ],
   "metadata": {
    "collapsed": false,
    "ExecuteTime": {
     "start_time": "2023-07-10T06:40:45.246963Z",
     "end_time": "2023-07-10T06:40:45.273131Z"
    }
   }
  },
  {
   "cell_type": "markdown",
   "source": [
    "## Init the model"
   ],
   "metadata": {
    "collapsed": false
   }
  },
  {
   "cell_type": "code",
   "execution_count": 11,
   "outputs": [],
   "source": [
    "# check if the dataloader works and get the input and output sizes\n",
    "in_features = None\n",
    "out_features = None\n",
    "for i, (features, a, ans) in enumerate(train_resched_dataloader):\n",
    "    in_features = features.shape[1]             # 13\n",
    "    out_features = ans.shape[1]                 # 3\n",
    "    break\n",
    "\n",
    "n_layers = 1\n",
    "hidden_size = 124\n",
    "hidden_injector = 64\n",
    "\n",
    "# Create the model\n",
    "SC_LSTM = Model(in_features, n_layers, hidden_size, out_features, batch_size, hidden_injector=hidden_injector).to(device)"
   ],
   "metadata": {
    "collapsed": false,
    "ExecuteTime": {
     "start_time": "2023-07-10T06:40:45.267635Z",
     "end_time": "2023-07-10T06:40:45.348966Z"
    }
   }
  },
  {
   "cell_type": "markdown",
   "source": [
    "# Training the model"
   ],
   "metadata": {
    "collapsed": false
   }
  },
  {
   "cell_type": "code",
   "execution_count": 12,
   "outputs": [],
   "source": [
    "# Configure hyper-parameters\n",
    "epochs = 7\n",
    "learning_rate = 0.001\n",
    "loss_func = torch.nn.MSELoss()\n",
    "optimizer = torch.optim.Adam(SC_LSTM.parameters(), lr=learning_rate)\n",
    "\n",
    "history = []\n",
    "loss_accomulator = []\n",
    "mean_loss = None"
   ],
   "metadata": {
    "collapsed": false,
    "ExecuteTime": {
     "start_time": "2023-07-10T06:40:45.309718Z",
     "end_time": "2023-07-10T06:40:45.385229Z"
    }
   }
  },
  {
   "cell_type": "code",
   "execution_count": 13,
   "outputs": [
    {
     "name": "stderr",
     "output_type": "stream",
     "text": [
      "                                                                                                1.20it/s]\r"
     ]
    }
   ],
   "source": [
    "# Firstly train the LSTM using only reschedulable tasks\n",
    "SC_LSTM.train_model(mode='lstm')\n",
    "\n",
    "for epoch in range(0, epochs):\n",
    "    SC_LSTM.reset_states()\n",
    "    for i, (X, task_type, Y) in enumerate(tqdm(train_resched_dataloader, desc=f\"Epoch: {epoch + 1}, Mean Loss: {mean_loss}\", leave=False, colour='green')):\n",
    "\n",
    "        # Convert X and Y to the correct type\n",
    "        X = torch.Tensor(X).type(torch.float32).to(device)\n",
    "        Y = torch.Tensor(Y).type(torch.float32).to(device)\n",
    "\n",
    "        # Make prediction\n",
    "        Y_pred = SC_LSTM.forward(X, task_type=task_type, free_time_slots=single_interval, save_states=True)\n",
    "\n",
    "        # Calculate loss\n",
    "        loss = loss_func(Y_pred.view(-1, ), Y.view(-1, ))\n",
    "\n",
    "        # print(f\"Predicted: {Y_pred[0]}\\n Real: {Y[0]}\\n\")\n",
    "\n",
    "        # Backward pass\n",
    "        loss.backward()\n",
    "        optimizer.step()\n",
    "        optimizer.zero_grad()\n",
    "\n",
    "        # Append loss to list\n",
    "        loss_accomulator.append(loss.item())\n",
    "\n",
    "    mean_loss = np.mean(loss_accomulator)\n",
    "    history.append(mean_loss)\n",
    "    loss_accomulator = []"
   ],
   "metadata": {
    "collapsed": false,
    "ExecuteTime": {
     "start_time": "2023-07-10T06:40:45.350686Z",
     "end_time": "2023-07-10T06:41:43.493302Z"
    }
   }
  },
  {
   "cell_type": "code",
   "execution_count": 14,
   "outputs": [
    {
     "data": {
      "text/plain": "<Figure size 640x480 with 1 Axes>",
      "image/png": "[encoded data removed]"
     },
     "metadata": {},
     "output_type": "display_data"
    }
   ],
   "source": [
    "import matplotlib.pyplot as plt\n",
    "# Plot the loss history\n",
    "plt.plot(history)\n",
    "plt.xlabel(\"Epoch\")\n",
    "plt.ylabel(\"Loss\")\n",
    "plt.title(\"Loss history\")\n",
    "plt.show()"
   ],
   "metadata": {
    "collapsed": false,
    "ExecuteTime": {
     "start_time": "2023-07-10T06:41:43.531578Z",
     "end_time": "2023-07-10T06:41:44.118746Z"
    }
   }
  },
  {
   "cell_type": "code",
   "execution_count": 15,
   "outputs": [],
   "source": [
    "# Configure hyper-parameters\n",
    "epochs = 20\n",
    "learning_rate = 0.001\n",
    "loss_func = torch.nn.MSELoss()\n",
    "optimizer = torch.optim.Adam(SC_LSTM.parameters(), lr=learning_rate)\n",
    "\n",
    "history = []\n",
    "loss_accomulator = []"
   ],
   "metadata": {
    "collapsed": false,
    "ExecuteTime": {
     "start_time": "2023-07-10T06:41:44.119789Z",
     "end_time": "2023-07-10T06:41:44.174635Z"
    }
   }
  },
  {
   "cell_type": "code",
   "execution_count": 16,
   "outputs": [
    {
     "name": "stderr",
     "output_type": "stream",
     "text": [
      "                                                                                                  8.54it/s]]\r"
     ]
    }
   ],
   "source": [
    "# Now train the injector using non-reschedulable tasks\n",
    "SC_LSTM.train_model(mode='injector')\n",
    "\n",
    "for epoch in range(0, epochs):\n",
    "    SC_LSTM.reset_states()\n",
    "\n",
    "    for i, (X, task_type, Y) in enumerate(tqdm(train_non_resched_dataloader, desc=f\"Epoch: {epoch + 1}, Mean Loss: {mean_loss}\", leave=False, colour='green')):\n",
    "\n",
    "        # Convert X and Y to the correct type\n",
    "        X = torch.Tensor(X).type(torch.float32).to(device)\n",
    "        Y = torch.Tensor(Y).type(torch.float32).to(device)\n",
    "\n",
    "        # Make prediction\n",
    "        Y_pred = SC_LSTM.forward(X, task_type=task_type, free_time_slots=single_interval, save_states=True)\n",
    "\n",
    "        # Calculate loss\n",
    "        loss = loss_func(Y_pred.view(-1, ), Y.view(-1, ))\n",
    "\n",
    "        # Backward pass\n",
    "        loss.backward()\n",
    "        optimizer.step()\n",
    "        optimizer.zero_grad()\n",
    "\n",
    "        # Append loss to list\n",
    "        loss_accomulator.append(loss.item())\n",
    "\n",
    "    mean_loss = np.mean(loss_accomulator)\n",
    "    history.append(mean_loss)\n",
    "    loss_accomulator = []"
   ],
   "metadata": {
    "collapsed": false,
    "ExecuteTime": {
     "start_time": "2023-07-10T06:41:44.160656Z",
     "end_time": "2023-07-10T06:42:05.290812Z"
    }
   }
  },
  {
   "cell_type": "code",
   "execution_count": 17,
   "outputs": [
    {
     "data": {
      "text/plain": "<Figure size 640x480 with 1 Axes>",
      "image/png": "[encoded data removed]"
     },
     "metadata": {},
     "output_type": "display_data"
    }
   ],
   "source": [
    "# Plot the loss history\n",
    "plt.plot(history)\n",
    "plt.xlabel(\"Epoch\")\n",
    "plt.ylabel(\"Loss\")\n",
    "plt.title(\"Loss history\")\n",
    "plt.show()"
   ],
   "metadata": {
    "collapsed": false,
    "ExecuteTime": {
     "start_time": "2023-07-10T06:42:05.326588Z",
     "end_time": "2023-07-10T06:42:05.486545Z"
    }
   }
  },
  {
   "cell_type": "markdown",
   "source": [
    "# Save weights"
   ],
   "metadata": {
    "collapsed": false
   }
  },
  {
   "cell_type": "code",
   "execution_count": 18,
   "outputs": [],
   "source": [
    "torch.save(SC_LSTM.state_dict(), \"sc_lstm_weights.pth\")"
   ],
   "metadata": {
    "collapsed": false,
    "ExecuteTime": {
     "start_time": "2023-07-10T06:42:05.484654Z",
     "end_time": "2023-07-10T06:42:05.486793Z"
    }
   }
  }
 ],
 "metadata": {
  "kernelspec": {
   "display_name": "Python 3",
   "language": "python",
   "name": "python3"
  },
  "language_info": {
   "codemirror_mode": {
    "name": "ipython",
    "version": 2
   },
   "file_extension": ".py",
   "mimetype": "text/x-python",
   "name": "python",
   "nbconvert_exporter": "python",
   "pygments_lexer": "ipython2",
   "version": "2.7.6"
  }
 },
 "nbformat": 4,
 "nbformat_minor": 0
}
