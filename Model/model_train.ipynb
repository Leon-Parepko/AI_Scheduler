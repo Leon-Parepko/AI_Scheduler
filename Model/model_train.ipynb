{
 "cells": [
  {
   "cell_type": "markdown",
   "source": [
    "# This file is used to train"
   ],
   "metadata": {
    "collapsed": false
   }
  },
  {
   "cell_type": "code",
   "execution_count": 1,
   "metadata": {
    "collapsed": true,
    "ExecuteTime": {
     "start_time": "2023-07-08T01:24:26.439105Z",
     "end_time": "2023-07-08T01:24:27.374477Z"
    }
   },
   "outputs": [],
   "source": [
    "import torch\n",
    "import numpy as np\n",
    "from tqdm import tqdm\n",
    "import pandas as pd\n",
    "from sc_model import SC_LSTM as Model"
   ]
  },
  {
   "cell_type": "markdown",
   "source": [
    "# Device init"
   ],
   "metadata": {
    "collapsed": false
   }
  },
  {
   "cell_type": "code",
   "execution_count": 2,
   "outputs": [
    {
     "name": "stdout",
     "output_type": "stream",
     "text": [
      "Sat Jul  8 01:24:27 2023       \r\n",
      "+---------------------------------------------------------------------------------------+\r\n",
      "| NVIDIA-SMI 530.41.03              Driver Version: 530.41.03    CUDA Version: 12.1     |\r\n",
      "|-----------------------------------------+----------------------+----------------------+\r\n",
      "| GPU  Name                  Persistence-M| Bus-Id        Disp.A | Volatile Uncorr. ECC |\r\n",
      "| Fan  Temp  Perf            Pwr:Usage/Cap|         Memory-Usage | GPU-Util  Compute M. |\r\n",
      "|                                         |                      |               MIG M. |\r\n",
      "|=========================================+======================+======================|\r\n",
      "|   0  NVIDIA GeForce GTX 1650 Ti      Off| 00000000:01:00.0  On |                  N/A |\r\n",
      "| N/A   40C    P5                8W /  N/A|    541MiB /  4096MiB |     28%      Default |\r\n",
      "|                                         |                      |                  N/A |\r\n",
      "+-----------------------------------------+----------------------+----------------------+\r\n",
      "                                                                                         \r\n",
      "+---------------------------------------------------------------------------------------+\r\n",
      "| Processes:                                                                            |\r\n",
      "|  GPU   GI   CI        PID   Type   Process name                            GPU Memory |\r\n",
      "|        ID   ID                                                             Usage      |\r\n",
      "|=======================================================================================|\r\n",
      "|    0   N/A  N/A       584      G   /usr/lib/Xorg                               243MiB |\r\n",
      "|    0   N/A  N/A       635      G   /usr/bin/kwalletd5                            1MiB |\r\n",
      "|    0   N/A  N/A       719      G   /usr/bin/ksmserver                            1MiB |\r\n",
      "|    0   N/A  N/A       721      G   /usr/bin/kded5                                1MiB |\r\n",
      "|    0   N/A  N/A       778      G   ...b/polkit-kde-authentication-agent-1        1MiB |\r\n",
      "|    0   N/A  N/A       781      G   /usr/lib/xdg-desktop-portal-kde               1MiB |\r\n",
      "|    0   N/A  N/A       886      G   /usr/lib/kdeconnectd                          1MiB |\r\n",
      "|    0   N/A  N/A       888      G   /usr/bin/latte-dock                          22MiB |\r\n",
      "|    0   N/A  N/A       896      G   /usr/bin/kaccess                              1MiB |\r\n",
      "|    0   N/A  N/A       903      G   /usr/lib/DiscoverNotifier                     1MiB |\r\n",
      "|    0   N/A  N/A       904      G   /usr/bin/kalendarac                          15MiB |\r\n",
      "|    0   N/A  N/A       911      G   /usr/bin/kmix                                 1MiB |\r\n",
      "|    0   N/A  N/A      1081      G   /usr/bin/ktorrent                             1MiB |\r\n",
      "|    0   N/A  N/A      1150      G   /usr/bin/yakuake                              1MiB |\r\n",
      "|    0   N/A  N/A      1928      G   ...bin/plasma-browser-integration-host       31MiB |\r\n",
      "|    0   N/A  N/A     34869      G   /usr/bin/kwin_x11                            70MiB |\r\n",
      "|    0   N/A  N/A     41807      G   /usr/bin/dolphin                             11MiB |\r\n",
      "|    0   N/A  N/A     48137      G   /usr/bin/krunner                              6MiB |\r\n",
      "|    0   N/A  N/A     79836      G   /usr/bin/plasmashell                         67MiB |\r\n",
      "|    0   N/A  N/A     79951      G   /usr/bin/telegram-desktop                    32MiB |\r\n",
      "|    0   N/A  N/A    110042      G   ...ures=SpareRendererForSitePerProcess        1MiB |\r\n",
      "+---------------------------------------------------------------------------------------+\r\n",
      "NVIDIA GeForce GTX 1650 Ti\n"
     ]
    }
   ],
   "source": [
    "device = torch.device('cuda' if torch.cuda.is_available() else 'cpu')\n",
    "if device.type == 'cuda':\n",
    "    !nvidia-smi\n",
    "    print(torch.cuda.get_device_name(0))\n",
    "\n",
    "else:\n",
    "    print(\"No GPU :(\")"
   ],
   "metadata": {
    "collapsed": false,
    "ExecuteTime": {
     "start_time": "2023-07-08T01:24:27.415800Z",
     "end_time": "2023-07-08T01:24:27.586820Z"
    }
   }
  },
  {
   "cell_type": "code",
   "execution_count": 3,
   "outputs": [],
   "source": [
    "device = 'cpu'"
   ],
   "metadata": {
    "collapsed": false,
    "ExecuteTime": {
     "start_time": "2023-07-08T01:24:27.590683Z",
     "end_time": "2023-07-08T01:24:27.594156Z"
    }
   }
  },
  {
   "cell_type": "markdown",
   "source": [
    "## Loading the data"
   ],
   "metadata": {
    "collapsed": false
   }
  },
  {
   "cell_type": "code",
   "execution_count": 4,
   "outputs": [
    {
     "data": {
      "text/plain": "     Label Number  Duration  Importance Start Time        Date\n0               2        30           2      06:45  14/01/2022\n1               3        90           2      09:10  14/01/2022\n2               2        60           0      13:00  14/01/2022\n3               3       120           3      14:50  14/01/2022\n4               2        90           0      19:40  14/01/2022\n..            ...       ...         ...        ...         ...\n666             0        30           2      15:35  23/04/2022\n667             1        30           1      17:25  23/04/2022\n668             0         5           2      18:20  23/04/2022\n669             2        20           0      20:35  23/04/2022\n670             1        70           0      21:55  23/04/2022\n\n[671 rows x 5 columns]",
      "text/html": "<div>\n<style scoped>\n    .dataframe tbody tr th:only-of-type {\n        vertical-align: middle;\n    }\n\n    .dataframe tbody tr th {\n        vertical-align: top;\n    }\n\n    .dataframe thead th {\n        text-align: right;\n    }\n</style>\n<table border=\"1\" class=\"dataframe\">\n  <thead>\n    <tr style=\"text-align: right;\">\n      <th></th>\n      <th>Label Number</th>\n      <th>Duration</th>\n      <th>Importance</th>\n      <th>Start Time</th>\n      <th>Date</th>\n    </tr>\n  </thead>\n  <tbody>\n    <tr>\n      <th>0</th>\n      <td>2</td>\n      <td>30</td>\n      <td>2</td>\n      <td>06:45</td>\n      <td>14/01/2022</td>\n    </tr>\n    <tr>\n      <th>1</th>\n      <td>3</td>\n      <td>90</td>\n      <td>2</td>\n      <td>09:10</td>\n      <td>14/01/2022</td>\n    </tr>\n    <tr>\n      <th>2</th>\n      <td>2</td>\n      <td>60</td>\n      <td>0</td>\n      <td>13:00</td>\n      <td>14/01/2022</td>\n    </tr>\n    <tr>\n      <th>3</th>\n      <td>3</td>\n      <td>120</td>\n      <td>3</td>\n      <td>14:50</td>\n      <td>14/01/2022</td>\n    </tr>\n    <tr>\n      <th>4</th>\n      <td>2</td>\n      <td>90</td>\n      <td>0</td>\n      <td>19:40</td>\n      <td>14/01/2022</td>\n    </tr>\n    <tr>\n      <th>...</th>\n      <td>...</td>\n      <td>...</td>\n      <td>...</td>\n      <td>...</td>\n      <td>...</td>\n    </tr>\n    <tr>\n      <th>666</th>\n      <td>0</td>\n      <td>30</td>\n      <td>2</td>\n      <td>15:35</td>\n      <td>23/04/2022</td>\n    </tr>\n    <tr>\n      <th>667</th>\n      <td>1</td>\n      <td>30</td>\n      <td>1</td>\n      <td>17:25</td>\n      <td>23/04/2022</td>\n    </tr>\n    <tr>\n      <th>668</th>\n      <td>0</td>\n      <td>5</td>\n      <td>2</td>\n      <td>18:20</td>\n      <td>23/04/2022</td>\n    </tr>\n    <tr>\n      <th>669</th>\n      <td>2</td>\n      <td>20</td>\n      <td>0</td>\n      <td>20:35</td>\n      <td>23/04/2022</td>\n    </tr>\n    <tr>\n      <th>670</th>\n      <td>1</td>\n      <td>70</td>\n      <td>0</td>\n      <td>21:55</td>\n      <td>23/04/2022</td>\n    </tr>\n  </tbody>\n</table>\n<p>671 rows × 5 columns</p>\n</div>"
     },
     "execution_count": 4,
     "metadata": {},
     "output_type": "execute_result"
    }
   ],
   "source": [
    "from Data.PreprocessorOfGeneratedData import Preprocessor\n",
    "\n",
    "preproc = Preprocessor()\n",
    "\n",
    "data = pd.read_csv('../Data/schedule_gen.csv')\n",
    "data"
   ],
   "metadata": {
    "collapsed": false,
    "ExecuteTime": {
     "start_time": "2023-07-08T01:24:27.600614Z",
     "end_time": "2023-07-08T01:24:27.903363Z"
    }
   }
  },
  {
   "cell_type": "code",
   "execution_count": 5,
   "outputs": [
    {
     "ename": "TypeError",
     "evalue": "argument of type 'method' is not iterable",
     "output_type": "error",
     "traceback": [
      "\u001B[0;31m---------------------------------------------------------------------------\u001B[0m",
      "\u001B[0;31mTypeError\u001B[0m                                 Traceback (most recent call last)",
      "\u001B[0;32m/tmp/ipykernel_111919/2536128122.py\u001B[0m in \u001B[0;36m<module>\u001B[0;34m\u001B[0m\n\u001B[0;32m----> 1\u001B[0;31m \u001B[0minput_data\u001B[0m\u001B[0;34m,\u001B[0m \u001B[0mtype_vector\u001B[0m\u001B[0;34m,\u001B[0m \u001B[0moutput_vector\u001B[0m\u001B[0;34m,\u001B[0m \u001B[0m_\u001B[0m \u001B[0;34m=\u001B[0m \u001B[0mpreproc\u001B[0m\u001B[0;34m.\u001B[0m\u001B[0mpreprocess\u001B[0m\u001B[0;34m(\u001B[0m\u001B[0mdata\u001B[0m\u001B[0;34m)\u001B[0m\u001B[0;34m\u001B[0m\u001B[0;34m\u001B[0m\u001B[0m\n\u001B[0m",
      "\u001B[0;32m~/Projects/Programming/healthy-based-productivity/Data/PreprocessorOfGeneratedData.py\u001B[0m in \u001B[0;36mpreprocess\u001B[0;34m(self, filename)\u001B[0m\n\u001B[1;32m     28\u001B[0m             \u001B[0;34m-\u001B[0m \u001B[0mvector\u001B[0m \u001B[0mof\u001B[0m \u001B[0mtime\u001B[0m \u001B[0mwhen\u001B[0m \u001B[0mthe\u001B[0m \u001B[0mtask\u001B[0m\u001B[0;34m/\u001B[0m\u001B[0mevent\u001B[0m \u001B[0mwas\u001B[0m \u001B[0mplanned\u001B[0m \u001B[0mby\u001B[0m \u001B[0muser\u001B[0m\u001B[0;34m\u001B[0m\u001B[0;34m\u001B[0m\u001B[0m\n\u001B[1;32m     29\u001B[0m         \"\"\"\n\u001B[0;32m---> 30\u001B[0;31m         \u001B[0minput_vector\u001B[0m \u001B[0;34m=\u001B[0m \u001B[0mpd\u001B[0m\u001B[0;34m.\u001B[0m\u001B[0mread_csv\u001B[0m\u001B[0;34m(\u001B[0m\u001B[0mfilename\u001B[0m\u001B[0;34m)\u001B[0m\u001B[0;34m\u001B[0m\u001B[0;34m\u001B[0m\u001B[0m\n\u001B[0m\u001B[1;32m     31\u001B[0m \u001B[0;34m\u001B[0m\u001B[0m\n\u001B[1;32m     32\u001B[0m         \u001B[0;31m# Modify input vector\u001B[0m\u001B[0;34m\u001B[0m\u001B[0;34m\u001B[0m\u001B[0;34m\u001B[0m\u001B[0m\n",
      "\u001B[0;32m~/Projects/Programming/healthy-based-productivity/venv/lib/python3.7/site-packages/pandas/util/_decorators.py\u001B[0m in \u001B[0;36mwrapper\u001B[0;34m(*args, **kwargs)\u001B[0m\n\u001B[1;32m    309\u001B[0m                     \u001B[0mstacklevel\u001B[0m\u001B[0;34m=\u001B[0m\u001B[0mstacklevel\u001B[0m\u001B[0;34m,\u001B[0m\u001B[0;34m\u001B[0m\u001B[0;34m\u001B[0m\u001B[0m\n\u001B[1;32m    310\u001B[0m                 )\n\u001B[0;32m--> 311\u001B[0;31m             \u001B[0;32mreturn\u001B[0m \u001B[0mfunc\u001B[0m\u001B[0;34m(\u001B[0m\u001B[0;34m*\u001B[0m\u001B[0margs\u001B[0m\u001B[0;34m,\u001B[0m \u001B[0;34m**\u001B[0m\u001B[0mkwargs\u001B[0m\u001B[0;34m)\u001B[0m\u001B[0;34m\u001B[0m\u001B[0;34m\u001B[0m\u001B[0m\n\u001B[0m\u001B[1;32m    312\u001B[0m \u001B[0;34m\u001B[0m\u001B[0m\n\u001B[1;32m    313\u001B[0m         \u001B[0;32mreturn\u001B[0m \u001B[0mwrapper\u001B[0m\u001B[0;34m\u001B[0m\u001B[0;34m\u001B[0m\u001B[0m\n",
      "\u001B[0;32m~/Projects/Programming/healthy-based-productivity/venv/lib/python3.7/site-packages/pandas/io/parsers/readers.py\u001B[0m in \u001B[0;36mread_csv\u001B[0;34m(filepath_or_buffer, sep, delimiter, header, names, index_col, usecols, squeeze, prefix, mangle_dupe_cols, dtype, engine, converters, true_values, false_values, skipinitialspace, skiprows, skipfooter, nrows, na_values, keep_default_na, na_filter, verbose, skip_blank_lines, parse_dates, infer_datetime_format, keep_date_col, date_parser, dayfirst, cache_dates, iterator, chunksize, compression, thousands, decimal, lineterminator, quotechar, quoting, doublequote, escapechar, comment, encoding, encoding_errors, dialect, error_bad_lines, warn_bad_lines, on_bad_lines, delim_whitespace, low_memory, memory_map, float_precision, storage_options)\u001B[0m\n\u001B[1;32m    584\u001B[0m     \u001B[0mkwds\u001B[0m\u001B[0;34m.\u001B[0m\u001B[0mupdate\u001B[0m\u001B[0;34m(\u001B[0m\u001B[0mkwds_defaults\u001B[0m\u001B[0;34m)\u001B[0m\u001B[0;34m\u001B[0m\u001B[0;34m\u001B[0m\u001B[0m\n\u001B[1;32m    585\u001B[0m \u001B[0;34m\u001B[0m\u001B[0m\n\u001B[0;32m--> 586\u001B[0;31m     \u001B[0;32mreturn\u001B[0m \u001B[0m_read\u001B[0m\u001B[0;34m(\u001B[0m\u001B[0mfilepath_or_buffer\u001B[0m\u001B[0;34m,\u001B[0m \u001B[0mkwds\u001B[0m\u001B[0;34m)\u001B[0m\u001B[0;34m\u001B[0m\u001B[0;34m\u001B[0m\u001B[0m\n\u001B[0m\u001B[1;32m    587\u001B[0m \u001B[0;34m\u001B[0m\u001B[0m\n\u001B[1;32m    588\u001B[0m \u001B[0;34m\u001B[0m\u001B[0m\n",
      "\u001B[0;32m~/Projects/Programming/healthy-based-productivity/venv/lib/python3.7/site-packages/pandas/io/parsers/readers.py\u001B[0m in \u001B[0;36m_read\u001B[0;34m(filepath_or_buffer, kwds)\u001B[0m\n\u001B[1;32m    480\u001B[0m \u001B[0;34m\u001B[0m\u001B[0m\n\u001B[1;32m    481\u001B[0m     \u001B[0;31m# Create the parser.\u001B[0m\u001B[0;34m\u001B[0m\u001B[0;34m\u001B[0m\u001B[0;34m\u001B[0m\u001B[0m\n\u001B[0;32m--> 482\u001B[0;31m     \u001B[0mparser\u001B[0m \u001B[0;34m=\u001B[0m \u001B[0mTextFileReader\u001B[0m\u001B[0;34m(\u001B[0m\u001B[0mfilepath_or_buffer\u001B[0m\u001B[0;34m,\u001B[0m \u001B[0;34m**\u001B[0m\u001B[0mkwds\u001B[0m\u001B[0;34m)\u001B[0m\u001B[0;34m\u001B[0m\u001B[0;34m\u001B[0m\u001B[0m\n\u001B[0m\u001B[1;32m    483\u001B[0m \u001B[0;34m\u001B[0m\u001B[0m\n\u001B[1;32m    484\u001B[0m     \u001B[0;32mif\u001B[0m \u001B[0mchunksize\u001B[0m \u001B[0;32mor\u001B[0m \u001B[0miterator\u001B[0m\u001B[0;34m:\u001B[0m\u001B[0;34m\u001B[0m\u001B[0;34m\u001B[0m\u001B[0m\n",
      "\u001B[0;32m~/Projects/Programming/healthy-based-productivity/venv/lib/python3.7/site-packages/pandas/io/parsers/readers.py\u001B[0m in \u001B[0;36m__init__\u001B[0;34m(self, f, engine, **kwds)\u001B[0m\n\u001B[1;32m    809\u001B[0m             \u001B[0mself\u001B[0m\u001B[0;34m.\u001B[0m\u001B[0moptions\u001B[0m\u001B[0;34m[\u001B[0m\u001B[0;34m\"has_index_names\"\u001B[0m\u001B[0;34m]\u001B[0m \u001B[0;34m=\u001B[0m \u001B[0mkwds\u001B[0m\u001B[0;34m[\u001B[0m\u001B[0;34m\"has_index_names\"\u001B[0m\u001B[0;34m]\u001B[0m\u001B[0;34m\u001B[0m\u001B[0;34m\u001B[0m\u001B[0m\n\u001B[1;32m    810\u001B[0m \u001B[0;34m\u001B[0m\u001B[0m\n\u001B[0;32m--> 811\u001B[0;31m         \u001B[0mself\u001B[0m\u001B[0;34m.\u001B[0m\u001B[0m_engine\u001B[0m \u001B[0;34m=\u001B[0m \u001B[0mself\u001B[0m\u001B[0;34m.\u001B[0m\u001B[0m_make_engine\u001B[0m\u001B[0;34m(\u001B[0m\u001B[0mself\u001B[0m\u001B[0;34m.\u001B[0m\u001B[0mengine\u001B[0m\u001B[0;34m)\u001B[0m\u001B[0;34m\u001B[0m\u001B[0;34m\u001B[0m\u001B[0m\n\u001B[0m\u001B[1;32m    812\u001B[0m \u001B[0;34m\u001B[0m\u001B[0m\n\u001B[1;32m    813\u001B[0m     \u001B[0;32mdef\u001B[0m \u001B[0mclose\u001B[0m\u001B[0;34m(\u001B[0m\u001B[0mself\u001B[0m\u001B[0;34m)\u001B[0m\u001B[0;34m:\u001B[0m\u001B[0;34m\u001B[0m\u001B[0;34m\u001B[0m\u001B[0m\n",
      "\u001B[0;32m~/Projects/Programming/healthy-based-productivity/venv/lib/python3.7/site-packages/pandas/io/parsers/readers.py\u001B[0m in \u001B[0;36m_make_engine\u001B[0;34m(self, engine)\u001B[0m\n\u001B[1;32m   1038\u001B[0m             )\n\u001B[1;32m   1039\u001B[0m         \u001B[0;31m# error: Too many arguments for \"ParserBase\"\u001B[0m\u001B[0;34m\u001B[0m\u001B[0;34m\u001B[0m\u001B[0;34m\u001B[0m\u001B[0m\n\u001B[0;32m-> 1040\u001B[0;31m         \u001B[0;32mreturn\u001B[0m \u001B[0mmapping\u001B[0m\u001B[0;34m[\u001B[0m\u001B[0mengine\u001B[0m\u001B[0;34m]\u001B[0m\u001B[0;34m(\u001B[0m\u001B[0mself\u001B[0m\u001B[0;34m.\u001B[0m\u001B[0mf\u001B[0m\u001B[0;34m,\u001B[0m \u001B[0;34m**\u001B[0m\u001B[0mself\u001B[0m\u001B[0;34m.\u001B[0m\u001B[0moptions\u001B[0m\u001B[0;34m)\u001B[0m  \u001B[0;31m# type: ignore[call-arg]\u001B[0m\u001B[0;34m\u001B[0m\u001B[0;34m\u001B[0m\u001B[0m\n\u001B[0m\u001B[1;32m   1041\u001B[0m \u001B[0;34m\u001B[0m\u001B[0m\n\u001B[1;32m   1042\u001B[0m     \u001B[0;32mdef\u001B[0m \u001B[0m_failover_to_python\u001B[0m\u001B[0;34m(\u001B[0m\u001B[0mself\u001B[0m\u001B[0;34m)\u001B[0m\u001B[0;34m:\u001B[0m\u001B[0;34m\u001B[0m\u001B[0;34m\u001B[0m\u001B[0m\n",
      "\u001B[0;32m~/Projects/Programming/healthy-based-productivity/venv/lib/python3.7/site-packages/pandas/io/parsers/c_parser_wrapper.py\u001B[0m in \u001B[0;36m__init__\u001B[0;34m(self, src, **kwds)\u001B[0m\n\u001B[1;32m     49\u001B[0m \u001B[0;34m\u001B[0m\u001B[0m\n\u001B[1;32m     50\u001B[0m         \u001B[0;31m# open handles\u001B[0m\u001B[0;34m\u001B[0m\u001B[0;34m\u001B[0m\u001B[0;34m\u001B[0m\u001B[0m\n\u001B[0;32m---> 51\u001B[0;31m         \u001B[0mself\u001B[0m\u001B[0;34m.\u001B[0m\u001B[0m_open_handles\u001B[0m\u001B[0;34m(\u001B[0m\u001B[0msrc\u001B[0m\u001B[0;34m,\u001B[0m \u001B[0mkwds\u001B[0m\u001B[0;34m)\u001B[0m\u001B[0;34m\u001B[0m\u001B[0;34m\u001B[0m\u001B[0m\n\u001B[0m\u001B[1;32m     52\u001B[0m         \u001B[0;32massert\u001B[0m \u001B[0mself\u001B[0m\u001B[0;34m.\u001B[0m\u001B[0mhandles\u001B[0m \u001B[0;32mis\u001B[0m \u001B[0;32mnot\u001B[0m \u001B[0;32mNone\u001B[0m\u001B[0;34m\u001B[0m\u001B[0;34m\u001B[0m\u001B[0m\n\u001B[1;32m     53\u001B[0m \u001B[0;34m\u001B[0m\u001B[0m\n",
      "\u001B[0;32m~/Projects/Programming/healthy-based-productivity/venv/lib/python3.7/site-packages/pandas/io/parsers/base_parser.py\u001B[0m in \u001B[0;36m_open_handles\u001B[0;34m(self, src, kwds)\u001B[0m\n\u001B[1;32m    227\u001B[0m             \u001B[0mmemory_map\u001B[0m\u001B[0;34m=\u001B[0m\u001B[0mkwds\u001B[0m\u001B[0;34m.\u001B[0m\u001B[0mget\u001B[0m\u001B[0;34m(\u001B[0m\u001B[0;34m\"memory_map\"\u001B[0m\u001B[0;34m,\u001B[0m \u001B[0;32mFalse\u001B[0m\u001B[0;34m)\u001B[0m\u001B[0;34m,\u001B[0m\u001B[0;34m\u001B[0m\u001B[0;34m\u001B[0m\u001B[0m\n\u001B[1;32m    228\u001B[0m             \u001B[0mstorage_options\u001B[0m\u001B[0;34m=\u001B[0m\u001B[0mkwds\u001B[0m\u001B[0;34m.\u001B[0m\u001B[0mget\u001B[0m\u001B[0;34m(\u001B[0m\u001B[0;34m\"storage_options\"\u001B[0m\u001B[0;34m,\u001B[0m \u001B[0;32mNone\u001B[0m\u001B[0;34m)\u001B[0m\u001B[0;34m,\u001B[0m\u001B[0;34m\u001B[0m\u001B[0;34m\u001B[0m\u001B[0m\n\u001B[0;32m--> 229\u001B[0;31m             \u001B[0merrors\u001B[0m\u001B[0;34m=\u001B[0m\u001B[0mkwds\u001B[0m\u001B[0;34m.\u001B[0m\u001B[0mget\u001B[0m\u001B[0;34m(\u001B[0m\u001B[0;34m\"encoding_errors\"\u001B[0m\u001B[0;34m,\u001B[0m \u001B[0;34m\"strict\"\u001B[0m\u001B[0;34m)\u001B[0m\u001B[0;34m,\u001B[0m\u001B[0;34m\u001B[0m\u001B[0;34m\u001B[0m\u001B[0m\n\u001B[0m\u001B[1;32m    230\u001B[0m         )\n\u001B[1;32m    231\u001B[0m \u001B[0;34m\u001B[0m\u001B[0m\n",
      "\u001B[0;32m~/Projects/Programming/healthy-based-productivity/venv/lib/python3.7/site-packages/pandas/io/common.py\u001B[0m in \u001B[0;36mget_handle\u001B[0;34m(path_or_buf, mode, encoding, compression, memory_map, is_text, errors, storage_options)\u001B[0m\n\u001B[1;32m    583\u001B[0m \u001B[0;34m\u001B[0m\u001B[0m\n\u001B[1;32m    584\u001B[0m     \u001B[0;31m# read_csv does not know whether the buffer is opened in binary/text mode\u001B[0m\u001B[0;34m\u001B[0m\u001B[0;34m\u001B[0m\u001B[0;34m\u001B[0m\u001B[0m\n\u001B[0;32m--> 585\u001B[0;31m     \u001B[0;32mif\u001B[0m \u001B[0m_is_binary_mode\u001B[0m\u001B[0;34m(\u001B[0m\u001B[0mpath_or_buf\u001B[0m\u001B[0;34m,\u001B[0m \u001B[0mmode\u001B[0m\u001B[0;34m)\u001B[0m \u001B[0;32mand\u001B[0m \u001B[0;34m\"b\"\u001B[0m \u001B[0;32mnot\u001B[0m \u001B[0;32min\u001B[0m \u001B[0mmode\u001B[0m\u001B[0;34m:\u001B[0m\u001B[0;34m\u001B[0m\u001B[0;34m\u001B[0m\u001B[0m\n\u001B[0m\u001B[1;32m    586\u001B[0m         \u001B[0mmode\u001B[0m \u001B[0;34m+=\u001B[0m \u001B[0;34m\"b\"\u001B[0m\u001B[0;34m\u001B[0m\u001B[0;34m\u001B[0m\u001B[0m\n\u001B[1;32m    587\u001B[0m \u001B[0;34m\u001B[0m\u001B[0m\n",
      "\u001B[0;32m~/Projects/Programming/healthy-based-productivity/venv/lib/python3.7/site-packages/pandas/io/common.py\u001B[0m in \u001B[0;36m_is_binary_mode\u001B[0;34m(handle, mode)\u001B[0m\n\u001B[1;32m    960\u001B[0m     \u001B[0;31m# classes that expect bytes\u001B[0m\u001B[0;34m\u001B[0m\u001B[0;34m\u001B[0m\u001B[0;34m\u001B[0m\u001B[0m\n\u001B[1;32m    961\u001B[0m     \u001B[0mbinary_classes\u001B[0m \u001B[0;34m=\u001B[0m \u001B[0;34m(\u001B[0m\u001B[0mBufferedIOBase\u001B[0m\u001B[0;34m,\u001B[0m \u001B[0mRawIOBase\u001B[0m\u001B[0;34m)\u001B[0m\u001B[0;34m\u001B[0m\u001B[0;34m\u001B[0m\u001B[0m\n\u001B[0;32m--> 962\u001B[0;31m     \u001B[0;32mreturn\u001B[0m \u001B[0misinstance\u001B[0m\u001B[0;34m(\u001B[0m\u001B[0mhandle\u001B[0m\u001B[0;34m,\u001B[0m \u001B[0mbinary_classes\u001B[0m\u001B[0;34m)\u001B[0m \u001B[0;32mor\u001B[0m \u001B[0;34m\"b\"\u001B[0m \u001B[0;32min\u001B[0m \u001B[0mgetattr\u001B[0m\u001B[0;34m(\u001B[0m\u001B[0mhandle\u001B[0m\u001B[0;34m,\u001B[0m \u001B[0;34m\"mode\"\u001B[0m\u001B[0;34m,\u001B[0m \u001B[0mmode\u001B[0m\u001B[0;34m)\u001B[0m\u001B[0;34m\u001B[0m\u001B[0;34m\u001B[0m\u001B[0m\n\u001B[0m",
      "\u001B[0;31mTypeError\u001B[0m: argument of type 'method' is not iterable"
     ]
    }
   ],
   "source": [
    "input_data, type_vector, output_vector, _ = preproc.preprocess(data)"
   ],
   "metadata": {
    "collapsed": false,
    "ExecuteTime": {
     "start_time": "2023-07-05T03:10:09.951963Z",
     "end_time": "2023-07-05T03:10:10.091605Z"
    }
   }
  },
  {
   "cell_type": "code",
   "execution_count": null,
   "outputs": [],
   "source": [
    "input_data"
   ],
   "metadata": {
    "collapsed": false,
    "ExecuteTime": {
     "start_time": "2023-07-05T03:10:10.024267Z",
     "end_time": "2023-07-05T03:10:10.109999Z"
    }
   }
  },
  {
   "cell_type": "code",
   "execution_count": null,
   "outputs": [],
   "source": [
    "output_vector"
   ],
   "metadata": {
    "collapsed": false,
    "ExecuteTime": {
     "start_time": "2023-07-05T03:10:10.067079Z",
     "end_time": "2023-07-05T03:10:10.110780Z"
    }
   }
  },
  {
   "cell_type": "code",
   "execution_count": null,
   "outputs": [],
   "source": [
    "from sklearn.preprocessing import MinMaxScaler\n",
    "\n",
    "# Normalize input and output data\n",
    "scaler = MinMaxScaler()\n",
    "input_data = scaler.fit_transform(input_data)\n",
    "output_vector = scaler.fit_transform(output_vector)"
   ],
   "metadata": {
    "collapsed": false,
    "ExecuteTime": {
     "start_time": "2023-07-05T03:10:10.067312Z",
     "end_time": "2023-07-05T03:10:10.112629Z"
    }
   }
  },
  {
   "cell_type": "markdown",
   "source": [
    "## Creating the dataset"
   ],
   "metadata": {
    "collapsed": false
   }
  },
  {
   "cell_type": "code",
   "execution_count": null,
   "outputs": [],
   "source": [
    "from torch.utils.data import Dataset, DataLoader2\n",
    "\n",
    "class ScheduleDataset(Dataset):\n",
    "    def __init__(self, input_data, type_vector, output_vector, task_types='all', transform=None):\n",
    "        if task_types == 'all':\n",
    "            self.input_data = input_data\n",
    "            self.type_vector = type_vector\n",
    "            self.output_vector = output_vector\n",
    "        elif task_types == 'resched':\n",
    "            self.input_data = []\n",
    "            self.type_vector = []\n",
    "            self.output_vector = []\n",
    "            for i in range(len(input_data)):\n",
    "                if type_vector[i] == \"resched\":\n",
    "                    self.input_data.append(input_data[i])\n",
    "                    self.type_vector.append(type_vector[i])\n",
    "                    self.output_vector.append(output_vector[i])\n",
    "        elif task_types == 'non-resched':\n",
    "            self.input_data = []\n",
    "            self.type_vector = []\n",
    "            self.output_vector = []\n",
    "            for i in range(len(input_data)):\n",
    "                if type_vector[i] == \"non-resched\":\n",
    "                    self.input_data.append(input_data[i])\n",
    "                    self.type_vector.append(type_vector[i])\n",
    "                    self.output_vector.append(output_vector[i])\n",
    "        else:\n",
    "            raise ValueError(\"task_types must be 'all', 'resched', or 'non-resched'\")\n",
    "        self.transform = transform\n",
    "\n",
    "    def __len__(self):\n",
    "        return len(self.input_data)\n",
    "\n",
    "    def __getitem__(self, idx):\n",
    "        return self.input_data[idx], self.type_vector[idx], self.output_vector[idx]\n"
   ],
   "metadata": {
    "collapsed": false,
    "ExecuteTime": {
     "start_time": "2023-07-05T03:10:10.107285Z",
     "end_time": "2023-07-05T03:10:10.137959Z"
    }
   }
  },
  {
   "cell_type": "code",
   "execution_count": null,
   "outputs": [],
   "source": [
    "resched_dataset = ScheduleDataset(input_data, type_vector, output_vector, task_types='resched')\n",
    "non_resched_dataset = ScheduleDataset(input_data, type_vector, output_vector, task_types='non-resched')\n",
    "all_dataset = ScheduleDataset(input_data, type_vector, output_vector, task_types='all')\n",
    "\n",
    "print(f\"Resched dataset size: {len(resched_dataset)}\\n\"\n",
    "      f\"Non-resched dataset size: {len(non_resched_dataset)}\\n\"\n",
    "      f\"All dataset size: {len(all_dataset)}\")"
   ],
   "metadata": {
    "collapsed": false,
    "ExecuteTime": {
     "start_time": "2023-07-05T03:10:10.116575Z",
     "end_time": "2023-07-05T03:10:10.219013Z"
    }
   }
  },
  {
   "cell_type": "markdown",
   "source": [
    "## Create dataloaders"
   ],
   "metadata": {
    "collapsed": false
   }
  },
  {
   "cell_type": "code",
   "execution_count": null,
   "outputs": [],
   "source": [
    "batch_size = 1\n",
    "# resched_dataset_size = len(resched_dataset)\n",
    "# train_size = int(resched_dataset_size * 0.8)\n",
    "# test_size = resched_dataset_size - train_size\n",
    "#\n",
    "# train_resched_dataset, test_resched_dataset = torch.utils.data.random_split(resched_dataset, [train_size, test_size])\n",
    "\n",
    "train_resched_dataloader = DataLoader2(resched_dataset, batch_size=batch_size)\n",
    "# valid_resched_dataloader = DataLoader2(resched_dataset, batch_size=batch_size)\n",
    "\n",
    "train_non_resched_dataloader = DataLoader2(non_resched_dataset, batch_size=batch_size)"
   ],
   "metadata": {
    "collapsed": false,
    "ExecuteTime": {
     "start_time": "2023-07-05T03:10:10.140863Z",
     "end_time": "2023-07-05T03:10:10.325864Z"
    }
   }
  },
  {
   "cell_type": "markdown",
   "source": [
    "## Create free time slots generator"
   ],
   "metadata": {
    "collapsed": false
   }
  },
  {
   "cell_type": "code",
   "execution_count": null,
   "outputs": [],
   "source": [
    "from Data.GeneratorOfAvailableTimeslots import GeneratorOfAvailableTimeslots\n",
    "\n",
    "time_slots_gen = GeneratorOfAvailableTimeslots(5)\n",
    "time_slots = time_slots_gen.generate_available_timeslots()\n",
    "\n",
    "time_slots      # TODO: why all the intervals are closed?\n",
    "single_interval = time_slots[0]\n",
    "single_interval"
   ],
   "metadata": {
    "collapsed": false,
    "ExecuteTime": {
     "start_time": "2023-07-07T03:36:15.743501Z",
     "end_time": "2023-07-07T03:36:15.904644Z"
    }
   }
  },
  {
   "cell_type": "markdown",
   "source": [
    "## Init the model"
   ],
   "metadata": {
    "collapsed": false
   }
  },
  {
   "cell_type": "code",
   "execution_count": null,
   "outputs": [],
   "source": [
    "# check if the dataloader works and get the input and output sizes\n",
    "in_features = 11\n",
    "out_features = 3\n",
    "for i, (features, a, ans) in enumerate(train_resched_dataloader):\n",
    "    in_features = features.shape[1]\n",
    "    out_features = ans.shape[1]\n",
    "    break\n",
    "\n",
    "n_layers = 2\n",
    "hidden_size = 124\n",
    "hidden_injector = 64\n",
    "\n",
    "# Create the model\n",
    "SC_LSTM = Model(in_features, n_layers, hidden_size, out_features, batch_size, hidden_injector=hidden_injector).to(device)"
   ],
   "metadata": {
    "collapsed": false,
    "ExecuteTime": {
     "start_time": "2023-07-07T04:51:55.644279Z",
     "end_time": "2023-07-07T04:51:55.806801Z"
    }
   }
  },
  {
   "cell_type": "code",
   "execution_count": null,
   "outputs": [],
   "source": [
    "\n",
    "x = torch.tensor([0.5, 0.1, 0], dtype=torch.float32)\n",
    "free_time_slots = np.array([[0.1, 0.4], [0.6, 0.7]])\n",
    "\n",
    "res = SC_LSTM._plan_resched(x, free_time_slots, save_states=False)\n",
    "print(res)"
   ],
   "metadata": {
    "collapsed": false,
    "ExecuteTime": {
     "start_time": "2023-07-07T04:52:37.551011Z",
     "end_time": "2023-07-07T04:52:37.593305Z"
    }
   }
  },
  {
   "cell_type": "markdown",
   "source": [
    "# Testing the model"
   ],
   "metadata": {
    "collapsed": false
   }
  },
  {
   "cell_type": "code",
   "execution_count": null,
   "outputs": [],
   "source": [
    "# Configure hyper-parameters\n",
    "epochs = 20\n",
    "learning_rate = 0.001\n",
    "loss_func = torch.nn.MSELoss()\n",
    "optimizer = torch.optim.Adam(SC_LSTM.parameters(), lr=learning_rate)\n",
    "\n",
    "history = []\n",
    "loss_accomulator = []\n",
    "mean_loss = None"
   ],
   "metadata": {
    "collapsed": false,
    "ExecuteTime": {
     "start_time": "2023-07-05T03:10:10.285161Z",
     "end_time": "2023-07-05T03:10:10.412632Z"
    }
   }
  },
  {
   "cell_type": "code",
   "execution_count": null,
   "outputs": [],
   "source": [
    "# Firstly train the LSTM using only reschedulable tasks\n",
    "SC_LSTM.train(mode='lstm')\n",
    "\n",
    "for epoch in range(0, epochs):\n",
    "    SC_LSTM.reset_states()\n",
    "    for i, (X, task_type, Y) in enumerate(tqdm(train_resched_dataloader, desc=f\"Epoch: {epoch + 1}, Mean Loss: {mean_loss}\", leave=False, colour='green')):\n",
    "\n",
    "        # Convert X and Y to the correct type\n",
    "        X = torch.Tensor(X).type(torch.float32).to(device)\n",
    "        Y = torch.Tensor(Y).type(torch.float32).to(device)\n",
    "\n",
    "        # Make prediction\n",
    "        Y_pred = SC_LSTM.forward(X, task_type=task_type, free_time_slots=single_interval, save_states=True)\n",
    "\n",
    "        # Calculate loss\n",
    "        loss = loss_func(Y_pred.view(-1, ), Y.view(-1, ))\n",
    "\n",
    "        # Backward pass\n",
    "        loss.backward()\n",
    "        optimizer.step()\n",
    "        optimizer.zero_grad()\n",
    "\n",
    "        # Append loss to list\n",
    "        loss_accomulator.append(loss.item())\n",
    "\n",
    "    mean_loss = np.mean(loss_accomulator)\n",
    "    history.append(mean_loss)\n",
    "    loss_accomulator = []"
   ],
   "metadata": {
    "collapsed": false,
    "ExecuteTime": {
     "start_time": "2023-07-05T03:10:10.285300Z",
     "end_time": "2023-07-05T03:10:47.484531Z"
    }
   }
  },
  {
   "cell_type": "code",
   "execution_count": null,
   "outputs": [],
   "source": [
    "import matplotlib.pyplot as plt\n",
    "# Plot the loss history\n",
    "plt.plot(history)\n",
    "plt.xlabel(\"Epoch\")\n",
    "plt.ylabel(\"Loss\")\n",
    "plt.title(\"Loss history\")\n",
    "plt.show()"
   ],
   "metadata": {
    "collapsed": false,
    "ExecuteTime": {
     "start_time": "2023-07-05T03:10:47.483997Z",
     "end_time": "2023-07-05T03:10:48.414045Z"
    }
   }
  },
  {
   "cell_type": "code",
   "execution_count": null,
   "outputs": [],
   "source": [
    "# Configure hyper-parameters\n",
    "epochs = 20\n",
    "learning_rate = 0.001\n",
    "loss_func = torch.nn.MSELoss()\n",
    "optimizer = torch.optim.Adam(SC_LSTM.parameters(), lr=learning_rate)\n",
    "\n",
    "history = []\n",
    "loss_accomulator = []"
   ],
   "metadata": {
    "collapsed": false,
    "ExecuteTime": {
     "start_time": "2023-07-05T03:10:48.413608Z",
     "end_time": "2023-07-05T03:10:48.454034Z"
    }
   }
  },
  {
   "cell_type": "code",
   "execution_count": null,
   "outputs": [],
   "source": [
    "# Now train the injector using non-reschedulable tasks\n",
    "SC_LSTM.train(mode='injector')\n",
    "\n",
    "for epoch in range(0, epochs):\n",
    "    SC_LSTM.reset_states()\n",
    "\n",
    "    for i, (X, task_type, Y) in enumerate(tqdm(train_non_resched_dataloader, desc=f\"Epoch: {epoch + 1}, Mean Loss: {mean_loss}\", leave=False, colour='green')):\n",
    "\n",
    "        # Convert X and Y to the correct type\n",
    "        X = torch.Tensor(X).type(torch.float32).to(device)\n",
    "        Y = torch.Tensor(Y).type(torch.float32).to(device)\n",
    "\n",
    "        # Make prediction\n",
    "        Y_pred = SC_LSTM.forward(X, task_type=task_type, free_time_slots=single_interval, save_states=True)\n",
    "\n",
    "        # Calculate loss\n",
    "        loss = loss_func(Y_pred.view(-1, ), Y.view(-1, ))\n",
    "\n",
    "        # Backward pass\n",
    "        loss.backward()\n",
    "        optimizer.step()\n",
    "        optimizer.zero_grad()\n",
    "\n",
    "        # Append loss to list\n",
    "        loss_accomulator.append(loss.item())\n",
    "\n",
    "    mean_loss = np.mean(loss_accomulator)\n",
    "    history.append(mean_loss)\n",
    "    loss_accomulator = []"
   ],
   "metadata": {
    "collapsed": false,
    "ExecuteTime": {
     "start_time": "2023-07-05T03:10:48.453878Z",
     "end_time": "2023-07-05T03:10:57.671777Z"
    }
   }
  },
  {
   "cell_type": "code",
   "execution_count": null,
   "outputs": [],
   "source": [
    "# Plot the loss history\n",
    "plt.plot(history)\n",
    "plt.xlabel(\"Epoch\")\n",
    "plt.ylabel(\"Loss\")\n",
    "plt.title(\"Loss history\")\n",
    "plt.show()"
   ],
   "metadata": {
    "collapsed": false,
    "ExecuteTime": {
     "start_time": "2023-07-05T03:10:57.681520Z",
     "end_time": "2023-07-05T03:10:57.816155Z"
    }
   }
  },
  {
   "cell_type": "markdown",
   "source": [
    "# Save weights"
   ],
   "metadata": {
    "collapsed": false
   }
  },
  {
   "cell_type": "code",
   "execution_count": null,
   "outputs": [],
   "source": [
    "torch.save(SC_LSTM.state_dict(), \"sc_lstm_weights.pth\")"
   ],
   "metadata": {
    "collapsed": false,
    "ExecuteTime": {
     "start_time": "2023-07-05T03:10:57.812846Z",
     "end_time": "2023-07-05T03:10:57.816629Z"
    }
   }
  }
 ],
 "metadata": {
  "kernelspec": {
   "display_name": "Python 3",
   "language": "python",
   "name": "python3"
  },
  "language_info": {
   "codemirror_mode": {
    "name": "ipython",
    "version": 2
   },
   "file_extension": ".py",
   "mimetype": "text/x-python",
   "name": "python",
   "nbconvert_exporter": "python",
   "pygments_lexer": "ipython2",
   "version": "2.7.6"
  }
 },
 "nbformat": 4,
 "nbformat_minor": 0
}
