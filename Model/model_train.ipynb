{
 "cells": [
  {
   "cell_type": "markdown",
   "source": [
    "# This file is used to train"
   ],
   "metadata": {
    "collapsed": false
   }
  },
  {
   "cell_type": "code",
   "execution_count": 17,
   "metadata": {
    "collapsed": true,
    "ExecuteTime": {
     "start_time": "2023-07-09T03:18:48.177659Z",
     "end_time": "2023-07-09T03:18:48.261300Z"
    }
   },
   "outputs": [],
   "source": [
    "import torch\n",
    "import numpy as np\n",
    "from tqdm import tqdm\n",
    "import pandas as pd\n",
    "from sc_model import SC_LSTM as Model"
   ]
  },
  {
   "cell_type": "markdown",
   "source": [
    "# Device init"
   ],
   "metadata": {
    "collapsed": false
   }
  },
  {
   "cell_type": "code",
   "execution_count": 18,
   "outputs": [
    {
     "name": "stdout",
     "output_type": "stream",
     "text": [
      "Sun Jul  9 03:18:48 2023       \r\n",
      "+---------------------------------------------------------------------------------------+\r\n",
      "| NVIDIA-SMI 530.41.03              Driver Version: 530.41.03    CUDA Version: 12.1     |\r\n",
      "|-----------------------------------------+----------------------+----------------------+\r\n",
      "| GPU  Name                  Persistence-M| Bus-Id        Disp.A | Volatile Uncorr. ECC |\r\n",
      "| Fan  Temp  Perf            Pwr:Usage/Cap|         Memory-Usage | GPU-Util  Compute M. |\r\n",
      "|                                         |                      |               MIG M. |\r\n",
      "|=========================================+======================+======================|\r\n",
      "|   0  NVIDIA GeForce GTX 1650 Ti      Off| 00000000:01:00.0  On |                  N/A |\r\n",
      "| N/A   50C    P0               20W /  N/A|    741MiB /  4096MiB |     19%      Default |\r\n",
      "|                                         |                      |                  N/A |\r\n",
      "+-----------------------------------------+----------------------+----------------------+\r\n",
      "                                                                                         \r\n",
      "+---------------------------------------------------------------------------------------+\r\n",
      "| Processes:                                                                            |\r\n",
      "|  GPU   GI   CI        PID   Type   Process name                            GPU Memory |\r\n",
      "|        ID   ID                                                             Usage      |\r\n",
      "|=======================================================================================|\r\n",
      "|    0   N/A  N/A       572      G   /usr/lib/Xorg                               315MiB |\r\n",
      "|    0   N/A  N/A       636      G   /usr/bin/kwalletd5                            1MiB |\r\n",
      "|    0   N/A  N/A       725      G   /usr/bin/ksmserver                            1MiB |\r\n",
      "|    0   N/A  N/A       727      G   /usr/bin/kded5                                1MiB |\r\n",
      "|    0   N/A  N/A       730      G   /usr/bin/kwin_x11                            34MiB |\r\n",
      "|    0   N/A  N/A       748      G   /usr/bin/plasmashell                         81MiB |\r\n",
      "|    0   N/A  N/A       799      G   ...b/polkit-kde-authentication-agent-1       15MiB |\r\n",
      "|    0   N/A  N/A       801      G   /usr/lib/xdg-desktop-portal-kde               1MiB |\r\n",
      "|    0   N/A  N/A       955      G   /usr/lib/kdeconnectd                          1MiB |\r\n",
      "|    0   N/A  N/A       958      G   /usr/bin/latte-dock                           8MiB |\r\n",
      "|    0   N/A  N/A       961      G   /usr/bin/telegram-desktop                     2MiB |\r\n",
      "|    0   N/A  N/A       966      G   /usr/bin/kaccess                              1MiB |\r\n",
      "|    0   N/A  N/A       974      G   /usr/bin/kalendarac                           1MiB |\r\n",
      "|    0   N/A  N/A       979      G   /usr/bin/kmix                                 1MiB |\r\n",
      "|    0   N/A  N/A       988      G   /usr/lib/DiscoverNotifier                     1MiB |\r\n",
      "|    0   N/A  N/A      1182      G   /usr/bin/ktorrent                             1MiB |\r\n",
      "|    0   N/A  N/A      1209      G   /usr/bin/yakuake                             15MiB |\r\n",
      "|    0   N/A  N/A      1418      G   ...35454217,2260994688081749193,131072      214MiB |\r\n",
      "|    0   N/A  N/A      2023      G   ...bin/plasma-browser-integration-host        1MiB |\r\n",
      "|    0   N/A  N/A     25902      G   ...ures=SpareRendererForSitePerProcess        1MiB |\r\n",
      "+---------------------------------------------------------------------------------------+\r\n",
      "NVIDIA GeForce GTX 1650 Ti\n"
     ]
    }
   ],
   "source": [
    "device = torch.device('cuda' if torch.cuda.is_available() else 'cpu')\n",
    "if device.type == 'cuda':\n",
    "    !nvidia-smi\n",
    "    print(torch.cuda.get_device_name(0))\n",
    "\n",
    "else:\n",
    "    print(\"No GPU :(\")"
   ],
   "metadata": {
    "collapsed": false,
    "ExecuteTime": {
     "start_time": "2023-07-09T03:18:48.188570Z",
     "end_time": "2023-07-09T03:18:48.397253Z"
    }
   }
  },
  {
   "cell_type": "code",
   "execution_count": 19,
   "outputs": [],
   "source": [
    "device = 'cpu'"
   ],
   "metadata": {
    "collapsed": false,
    "ExecuteTime": {
     "start_time": "2023-07-09T03:18:48.370315Z",
     "end_time": "2023-07-09T03:18:48.431022Z"
    }
   }
  },
  {
   "cell_type": "markdown",
   "source": [
    "## Loading the data"
   ],
   "metadata": {
    "collapsed": false
   }
  },
  {
   "cell_type": "code",
   "execution_count": 20,
   "outputs": [
    {
     "data": {
      "text/plain": "     Label Number  Duration  Importance Start Time        Date\n0               3        40           2      09:26  10/07/2023\n1               1        50           0      10:31  10/07/2023\n2               2        20           0      12:41  10/07/2023\n3               0        15           0      14:01  10/07/2023\n4               2        20           1      16:16  10/07/2023\n..            ...       ...         ...        ...         ...\n707             2        90           0      08:45  17/10/2023\n708             1        20           0      13:00  17/10/2023\n709             3       170           2      16:05  17/10/2023\n710             1        40           2      20:15  17/10/2023\n711             3        50           1      23:05  17/10/2023\n\n[712 rows x 5 columns]",
      "text/html": "<div>\n<style scoped>\n    .dataframe tbody tr th:only-of-type {\n        vertical-align: middle;\n    }\n\n    .dataframe tbody tr th {\n        vertical-align: top;\n    }\n\n    .dataframe thead th {\n        text-align: right;\n    }\n</style>\n<table border=\"1\" class=\"dataframe\">\n  <thead>\n    <tr style=\"text-align: right;\">\n      <th></th>\n      <th>Label Number</th>\n      <th>Duration</th>\n      <th>Importance</th>\n      <th>Start Time</th>\n      <th>Date</th>\n    </tr>\n  </thead>\n  <tbody>\n    <tr>\n      <th>0</th>\n      <td>3</td>\n      <td>40</td>\n      <td>2</td>\n      <td>09:26</td>\n      <td>10/07/2023</td>\n    </tr>\n    <tr>\n      <th>1</th>\n      <td>1</td>\n      <td>50</td>\n      <td>0</td>\n      <td>10:31</td>\n      <td>10/07/2023</td>\n    </tr>\n    <tr>\n      <th>2</th>\n      <td>2</td>\n      <td>20</td>\n      <td>0</td>\n      <td>12:41</td>\n      <td>10/07/2023</td>\n    </tr>\n    <tr>\n      <th>3</th>\n      <td>0</td>\n      <td>15</td>\n      <td>0</td>\n      <td>14:01</td>\n      <td>10/07/2023</td>\n    </tr>\n    <tr>\n      <th>4</th>\n      <td>2</td>\n      <td>20</td>\n      <td>1</td>\n      <td>16:16</td>\n      <td>10/07/2023</td>\n    </tr>\n    <tr>\n      <th>...</th>\n      <td>...</td>\n      <td>...</td>\n      <td>...</td>\n      <td>...</td>\n      <td>...</td>\n    </tr>\n    <tr>\n      <th>707</th>\n      <td>2</td>\n      <td>90</td>\n      <td>0</td>\n      <td>08:45</td>\n      <td>17/10/2023</td>\n    </tr>\n    <tr>\n      <th>708</th>\n      <td>1</td>\n      <td>20</td>\n      <td>0</td>\n      <td>13:00</td>\n      <td>17/10/2023</td>\n    </tr>\n    <tr>\n      <th>709</th>\n      <td>3</td>\n      <td>170</td>\n      <td>2</td>\n      <td>16:05</td>\n      <td>17/10/2023</td>\n    </tr>\n    <tr>\n      <th>710</th>\n      <td>1</td>\n      <td>40</td>\n      <td>2</td>\n      <td>20:15</td>\n      <td>17/10/2023</td>\n    </tr>\n    <tr>\n      <th>711</th>\n      <td>3</td>\n      <td>50</td>\n      <td>1</td>\n      <td>23:05</td>\n      <td>17/10/2023</td>\n    </tr>\n  </tbody>\n</table>\n<p>712 rows × 5 columns</p>\n</div>"
     },
     "execution_count": 20,
     "metadata": {},
     "output_type": "execute_result"
    }
   ],
   "source": [
    "from Data.PreprocessorOfGeneratedData import Preprocessor\n",
    "\n",
    "preproc = Preprocessor()\n",
    "\n",
    "data = pd.read_csv('../Data/schedule_gen.csv')\n",
    "data"
   ],
   "metadata": {
    "collapsed": false,
    "ExecuteTime": {
     "start_time": "2023-07-09T03:18:48.411195Z",
     "end_time": "2023-07-09T03:18:48.431580Z"
    }
   }
  },
  {
   "cell_type": "code",
   "execution_count": 21,
   "outputs": [],
   "source": [
    "input_data, type_vector, output_vector = preproc.preprocess('../Data/schedule_gen.csv')"
   ],
   "metadata": {
    "collapsed": false,
    "ExecuteTime": {
     "start_time": "2023-07-09T03:18:48.411446Z",
     "end_time": "2023-07-09T03:18:49.440183Z"
    }
   }
  },
  {
   "cell_type": "code",
   "execution_count": 22,
   "outputs": [
    {
     "data": {
      "text/plain": "     Label Number_0  Label Number_1  Label Number_2  Label Number_3  Duration  \\\n0                 0               0               0               0  0.212121   \n1                 0               0               0               0  0.272727   \n2                 0               0               0               0  0.090909   \n3                 0               0               0               1  0.060606   \n4                 0               0               0               0  0.090909   \n..              ...             ...             ...             ...       ...   \n707               0               0               0               0  0.515152   \n708               0               0               0               0  0.090909   \n709               0               0               0               0  1.000000   \n710               0               0               0               0  0.212121   \n711               0               0               0               0  0.272727   \n\n     Importance_0  Importance_1  Importance_2  Importance_3  Time_Min  ...  \\\n0               0             0             0             0  0.393056  ...   \n1               0             1             0             0  0.438194  ...   \n2               0             0             0             0  0.528472  ...   \n3               0             0             0             0  0.584028  ...   \n4               0             0             0             0  0.000000  ...   \n..            ...           ...           ...           ...       ...  ...   \n707             0             0             0             0  0.364583  ...   \n708             0             0             0             0  0.541667  ...   \n709             0             0             0             0  0.670139  ...   \n710             0             0             0             0  0.843750  ...   \n711             0             0             0             0  0.000000  ...   \n\n     Date_Month_sin  Date_Month_cos  Plan_Time_Min  Plan_Time_Min_sin  \\\n0         -0.500000       -0.866025       0.385417           0.659346   \n1         -0.500000       -0.866025       0.388889           0.642788   \n2         -0.500000       -0.866025       0.388889           0.642788   \n3         -0.500000       -0.866025       0.388889           0.642788   \n4         -0.500000       -0.866025       0.388889           0.642788   \n..              ...             ...            ...                ...   \n707       -0.866025        0.500000       0.358333           0.777146   \n708        0.000000        1.000000       0.538194          -0.237686   \n709       -0.866025        0.500000       0.667361          -0.868199   \n710       -0.866025        0.500000       0.667361          -0.868199   \n711       -0.866025        0.500000       0.000000           0.000000   \n\n     Plan_Time_Min_cos  Plan_Date_Categorical  Plan_Date_Day_sin  \\\n0            -0.751840               0.523288           0.897805   \n1            -0.766044               0.523288           0.897805   \n2            -0.766044               0.523288           0.897805   \n3            -0.766044               0.523288           0.897805   \n4            -0.766044               0.523288           0.897805   \n..                 ...                    ...                ...   \n707          -0.629320               0.794521          -0.299363   \n708          -0.971342               0.794521          -0.299363   \n709          -0.496217               0.794521          -0.299363   \n710          -0.496217               0.794521          -0.299363   \n711           1.000000               0.794521          -0.299363   \n\n     Plan_Date_Day_cos  Plan_Date_Month_sin  Plan_Date_Month_cos  \n0            -0.440394            -0.500000            -0.866025  \n1            -0.440394            -0.500000            -0.866025  \n2            -0.440394            -0.500000            -0.866025  \n3            -0.440394            -0.500000            -0.866025  \n4            -0.440394            -0.500000            -0.866025  \n..                 ...                  ...                  ...  \n707          -0.954139            -0.866025             0.500000  \n708          -0.954139            -0.866025             0.500000  \n709          -0.954139            -0.866025             0.500000  \n710          -0.954139            -0.866025             0.500000  \n711          -0.954139            -0.866025             0.500000  \n\n[712 rows x 25 columns]",
      "text/html": "<div>\n<style scoped>\n    .dataframe tbody tr th:only-of-type {\n        vertical-align: middle;\n    }\n\n    .dataframe tbody tr th {\n        vertical-align: top;\n    }\n\n    .dataframe thead th {\n        text-align: right;\n    }\n</style>\n<table border=\"1\" class=\"dataframe\">\n  <thead>\n    <tr style=\"text-align: right;\">\n      <th></th>\n      <th>Label Number_0</th>\n      <th>Label Number_1</th>\n      <th>Label Number_2</th>\n      <th>Label Number_3</th>\n      <th>Duration</th>\n      <th>Importance_0</th>\n      <th>Importance_1</th>\n      <th>Importance_2</th>\n      <th>Importance_3</th>\n      <th>Time_Min</th>\n      <th>...</th>\n      <th>Date_Month_sin</th>\n      <th>Date_Month_cos</th>\n      <th>Plan_Time_Min</th>\n      <th>Plan_Time_Min_sin</th>\n      <th>Plan_Time_Min_cos</th>\n      <th>Plan_Date_Categorical</th>\n      <th>Plan_Date_Day_sin</th>\n      <th>Plan_Date_Day_cos</th>\n      <th>Plan_Date_Month_sin</th>\n      <th>Plan_Date_Month_cos</th>\n    </tr>\n  </thead>\n  <tbody>\n    <tr>\n      <th>0</th>\n      <td>0</td>\n      <td>0</td>\n      <td>0</td>\n      <td>0</td>\n      <td>0.212121</td>\n      <td>0</td>\n      <td>0</td>\n      <td>0</td>\n      <td>0</td>\n      <td>0.393056</td>\n      <td>...</td>\n      <td>-0.500000</td>\n      <td>-0.866025</td>\n      <td>0.385417</td>\n      <td>0.659346</td>\n      <td>-0.751840</td>\n      <td>0.523288</td>\n      <td>0.897805</td>\n      <td>-0.440394</td>\n      <td>-0.500000</td>\n      <td>-0.866025</td>\n    </tr>\n    <tr>\n      <th>1</th>\n      <td>0</td>\n      <td>0</td>\n      <td>0</td>\n      <td>0</td>\n      <td>0.272727</td>\n      <td>0</td>\n      <td>1</td>\n      <td>0</td>\n      <td>0</td>\n      <td>0.438194</td>\n      <td>...</td>\n      <td>-0.500000</td>\n      <td>-0.866025</td>\n      <td>0.388889</td>\n      <td>0.642788</td>\n      <td>-0.766044</td>\n      <td>0.523288</td>\n      <td>0.897805</td>\n      <td>-0.440394</td>\n      <td>-0.500000</td>\n      <td>-0.866025</td>\n    </tr>\n    <tr>\n      <th>2</th>\n      <td>0</td>\n      <td>0</td>\n      <td>0</td>\n      <td>0</td>\n      <td>0.090909</td>\n      <td>0</td>\n      <td>0</td>\n      <td>0</td>\n      <td>0</td>\n      <td>0.528472</td>\n      <td>...</td>\n      <td>-0.500000</td>\n      <td>-0.866025</td>\n      <td>0.388889</td>\n      <td>0.642788</td>\n      <td>-0.766044</td>\n      <td>0.523288</td>\n      <td>0.897805</td>\n      <td>-0.440394</td>\n      <td>-0.500000</td>\n      <td>-0.866025</td>\n    </tr>\n    <tr>\n      <th>3</th>\n      <td>0</td>\n      <td>0</td>\n      <td>0</td>\n      <td>1</td>\n      <td>0.060606</td>\n      <td>0</td>\n      <td>0</td>\n      <td>0</td>\n      <td>0</td>\n      <td>0.584028</td>\n      <td>...</td>\n      <td>-0.500000</td>\n      <td>-0.866025</td>\n      <td>0.388889</td>\n      <td>0.642788</td>\n      <td>-0.766044</td>\n      <td>0.523288</td>\n      <td>0.897805</td>\n      <td>-0.440394</td>\n      <td>-0.500000</td>\n      <td>-0.866025</td>\n    </tr>\n    <tr>\n      <th>4</th>\n      <td>0</td>\n      <td>0</td>\n      <td>0</td>\n      <td>0</td>\n      <td>0.090909</td>\n      <td>0</td>\n      <td>0</td>\n      <td>0</td>\n      <td>0</td>\n      <td>0.000000</td>\n      <td>...</td>\n      <td>-0.500000</td>\n      <td>-0.866025</td>\n      <td>0.388889</td>\n      <td>0.642788</td>\n      <td>-0.766044</td>\n      <td>0.523288</td>\n      <td>0.897805</td>\n      <td>-0.440394</td>\n      <td>-0.500000</td>\n      <td>-0.866025</td>\n    </tr>\n    <tr>\n      <th>...</th>\n      <td>...</td>\n      <td>...</td>\n      <td>...</td>\n      <td>...</td>\n      <td>...</td>\n      <td>...</td>\n      <td>...</td>\n      <td>...</td>\n      <td>...</td>\n      <td>...</td>\n      <td>...</td>\n      <td>...</td>\n      <td>...</td>\n      <td>...</td>\n      <td>...</td>\n      <td>...</td>\n      <td>...</td>\n      <td>...</td>\n      <td>...</td>\n      <td>...</td>\n      <td>...</td>\n    </tr>\n    <tr>\n      <th>707</th>\n      <td>0</td>\n      <td>0</td>\n      <td>0</td>\n      <td>0</td>\n      <td>0.515152</td>\n      <td>0</td>\n      <td>0</td>\n      <td>0</td>\n      <td>0</td>\n      <td>0.364583</td>\n      <td>...</td>\n      <td>-0.866025</td>\n      <td>0.500000</td>\n      <td>0.358333</td>\n      <td>0.777146</td>\n      <td>-0.629320</td>\n      <td>0.794521</td>\n      <td>-0.299363</td>\n      <td>-0.954139</td>\n      <td>-0.866025</td>\n      <td>0.500000</td>\n    </tr>\n    <tr>\n      <th>708</th>\n      <td>0</td>\n      <td>0</td>\n      <td>0</td>\n      <td>0</td>\n      <td>0.090909</td>\n      <td>0</td>\n      <td>0</td>\n      <td>0</td>\n      <td>0</td>\n      <td>0.541667</td>\n      <td>...</td>\n      <td>0.000000</td>\n      <td>1.000000</td>\n      <td>0.538194</td>\n      <td>-0.237686</td>\n      <td>-0.971342</td>\n      <td>0.794521</td>\n      <td>-0.299363</td>\n      <td>-0.954139</td>\n      <td>-0.866025</td>\n      <td>0.500000</td>\n    </tr>\n    <tr>\n      <th>709</th>\n      <td>0</td>\n      <td>0</td>\n      <td>0</td>\n      <td>0</td>\n      <td>1.000000</td>\n      <td>0</td>\n      <td>0</td>\n      <td>0</td>\n      <td>0</td>\n      <td>0.670139</td>\n      <td>...</td>\n      <td>-0.866025</td>\n      <td>0.500000</td>\n      <td>0.667361</td>\n      <td>-0.868199</td>\n      <td>-0.496217</td>\n      <td>0.794521</td>\n      <td>-0.299363</td>\n      <td>-0.954139</td>\n      <td>-0.866025</td>\n      <td>0.500000</td>\n    </tr>\n    <tr>\n      <th>710</th>\n      <td>0</td>\n      <td>0</td>\n      <td>0</td>\n      <td>0</td>\n      <td>0.212121</td>\n      <td>0</td>\n      <td>0</td>\n      <td>0</td>\n      <td>0</td>\n      <td>0.843750</td>\n      <td>...</td>\n      <td>-0.866025</td>\n      <td>0.500000</td>\n      <td>0.667361</td>\n      <td>-0.868199</td>\n      <td>-0.496217</td>\n      <td>0.794521</td>\n      <td>-0.299363</td>\n      <td>-0.954139</td>\n      <td>-0.866025</td>\n      <td>0.500000</td>\n    </tr>\n    <tr>\n      <th>711</th>\n      <td>0</td>\n      <td>0</td>\n      <td>0</td>\n      <td>0</td>\n      <td>0.272727</td>\n      <td>0</td>\n      <td>0</td>\n      <td>0</td>\n      <td>0</td>\n      <td>0.000000</td>\n      <td>...</td>\n      <td>-0.866025</td>\n      <td>0.500000</td>\n      <td>0.000000</td>\n      <td>0.000000</td>\n      <td>1.000000</td>\n      <td>0.794521</td>\n      <td>-0.299363</td>\n      <td>-0.954139</td>\n      <td>-0.866025</td>\n      <td>0.500000</td>\n    </tr>\n  </tbody>\n</table>\n<p>712 rows × 25 columns</p>\n</div>"
     },
     "execution_count": 22,
     "metadata": {},
     "output_type": "execute_result"
    }
   ],
   "source": [
    "input_data"
   ],
   "metadata": {
    "collapsed": false,
    "ExecuteTime": {
     "start_time": "2023-07-09T03:18:49.454700Z",
     "end_time": "2023-07-09T03:18:49.497021Z"
    }
   }
  },
  {
   "cell_type": "code",
   "execution_count": 23,
   "outputs": [
    {
     "data": {
      "text/plain": "          start       end refr\n0      1.273611  0.027778  0.0\n1       1.31875  0.034722  0.0\n2      1.409028  0.013889  0.0\n3      1.464583  0.010417  0.0\n4      0.880556  0.013889  0.0\n..          ...       ...  ...\n707  100.245139    0.0625  0.0\n708  100.422222  0.013889  0.0\n709  100.550694  0.118056  0.0\n710  100.724306  0.027778  0.0\n711   99.880556  0.034722  0.0\n\n[712 rows x 3 columns]",
      "text/html": "<div>\n<style scoped>\n    .dataframe tbody tr th:only-of-type {\n        vertical-align: middle;\n    }\n\n    .dataframe tbody tr th {\n        vertical-align: top;\n    }\n\n    .dataframe thead th {\n        text-align: right;\n    }\n</style>\n<table border=\"1\" class=\"dataframe\">\n  <thead>\n    <tr style=\"text-align: right;\">\n      <th></th>\n      <th>start</th>\n      <th>end</th>\n      <th>refr</th>\n    </tr>\n  </thead>\n  <tbody>\n    <tr>\n      <th>0</th>\n      <td>1.273611</td>\n      <td>0.027778</td>\n      <td>0.0</td>\n    </tr>\n    <tr>\n      <th>1</th>\n      <td>1.31875</td>\n      <td>0.034722</td>\n      <td>0.0</td>\n    </tr>\n    <tr>\n      <th>2</th>\n      <td>1.409028</td>\n      <td>0.013889</td>\n      <td>0.0</td>\n    </tr>\n    <tr>\n      <th>3</th>\n      <td>1.464583</td>\n      <td>0.010417</td>\n      <td>0.0</td>\n    </tr>\n    <tr>\n      <th>4</th>\n      <td>0.880556</td>\n      <td>0.013889</td>\n      <td>0.0</td>\n    </tr>\n    <tr>\n      <th>...</th>\n      <td>...</td>\n      <td>...</td>\n      <td>...</td>\n    </tr>\n    <tr>\n      <th>707</th>\n      <td>100.245139</td>\n      <td>0.0625</td>\n      <td>0.0</td>\n    </tr>\n    <tr>\n      <th>708</th>\n      <td>100.422222</td>\n      <td>0.013889</td>\n      <td>0.0</td>\n    </tr>\n    <tr>\n      <th>709</th>\n      <td>100.550694</td>\n      <td>0.118056</td>\n      <td>0.0</td>\n    </tr>\n    <tr>\n      <th>710</th>\n      <td>100.724306</td>\n      <td>0.027778</td>\n      <td>0.0</td>\n    </tr>\n    <tr>\n      <th>711</th>\n      <td>99.880556</td>\n      <td>0.034722</td>\n      <td>0.0</td>\n    </tr>\n  </tbody>\n</table>\n<p>712 rows × 3 columns</p>\n</div>"
     },
     "execution_count": 23,
     "metadata": {},
     "output_type": "execute_result"
    }
   ],
   "source": [
    "output_vector"
   ],
   "metadata": {
    "collapsed": false,
    "ExecuteTime": {
     "start_time": "2023-07-09T03:18:49.496686Z",
     "end_time": "2023-07-09T03:18:49.497949Z"
    }
   }
  },
  {
   "cell_type": "code",
   "execution_count": 24,
   "outputs": [
    {
     "ename": "NameError",
     "evalue": "name 'alpha' is not defined",
     "output_type": "error",
     "traceback": [
      "\u001B[0;31m---------------------------------------------------------------------------\u001B[0m",
      "\u001B[0;31mNameError\u001B[0m                                 Traceback (most recent call last)",
      "Cell \u001B[0;32mIn[24], line 5\u001B[0m\n\u001B[1;32m      2\u001B[0m output_vector \u001B[38;5;241m=\u001B[39m np\u001B[38;5;241m.\u001B[39mabs(output_vector)\n\u001B[1;32m      4\u001B[0m \u001B[38;5;66;03m# Add first element as 1440, 1440, 1440 to the output vector\u001B[39;00m\n\u001B[0;32m----> 5\u001B[0m output_vector \u001B[38;5;241m=\u001B[39m np\u001B[38;5;241m.\u001B[39minsert(output_vector, \u001B[38;5;241m0\u001B[39m, [\u001B[43malpha\u001B[49m]\u001B[38;5;241m*\u001B[39m\u001B[38;5;241m3\u001B[39m, axis\u001B[38;5;241m=\u001B[39m\u001B[38;5;241m0\u001B[39m)\n\u001B[1;32m      7\u001B[0m pd\u001B[38;5;241m.\u001B[39mDataFrame(output_vector)\n",
      "\u001B[0;31mNameError\u001B[0m: name 'alpha' is not defined"
     ]
    }
   ],
   "source": [
    "# Make all output values positive\n",
    "output_vector = np.abs(output_vector)\n",
    "\n",
    "# Add first element as 1440, 1440, 1440 to the output vector\n",
    "output_vector = np.insert(output_vector, 0, [alpha]*3, axis=0)\n",
    "\n",
    "pd.DataFrame(output_vector)"
   ],
   "metadata": {
    "collapsed": false,
    "ExecuteTime": {
     "start_time": "2023-07-09T02:26:17.340852Z",
     "end_time": "2023-07-09T02:26:17.381687Z"
    }
   }
  },
  {
   "cell_type": "code",
   "execution_count": null,
   "outputs": [],
   "source": [
    "from sklearn.preprocessing import MinMaxScaler\n",
    "\n",
    "in_scaler = MinMaxScaler()\n",
    "input_data = in_scaler.fit_transform(input_data)\n",
    "\n",
    "out_scaler = MinMaxScaler()\n",
    "output_vector = out_scaler.fit_transform(output_vector)\n",
    "\n",
    "# Remove first element from the output vector\n",
    "output_vector = np.delete(output_vector, 0, axis=0)"
   ],
   "metadata": {
    "collapsed": false,
    "ExecuteTime": {
     "start_time": "2023-07-09T02:26:17.364841Z",
     "end_time": "2023-07-09T02:26:17.433144Z"
    }
   }
  },
  {
   "cell_type": "code",
   "execution_count": null,
   "outputs": [],
   "source": [
    "# TODO DELETE\n",
    "# print the output vector as pandas dataframe\n",
    "pd.DataFrame(output_vector)"
   ],
   "metadata": {
    "collapsed": false,
    "ExecuteTime": {
     "start_time": "2023-07-09T02:26:17.387829Z",
     "end_time": "2023-07-09T02:26:17.457701Z"
    }
   }
  },
  {
   "cell_type": "markdown",
   "source": [
    "## Creating the dataset"
   ],
   "metadata": {
    "collapsed": false
   }
  },
  {
   "cell_type": "code",
   "execution_count": null,
   "outputs": [],
   "source": [
    "from torch.utils.data import Dataset, DataLoader\n",
    "\n",
    "class ScheduleDataset(Dataset):\n",
    "    def __init__(self, input_data, type_vector, output_vector, task_types='all', transform=None):\n",
    "        if task_types == 'all':\n",
    "            self.input_data = input_data\n",
    "            self.type_vector = type_vector\n",
    "            self.output_vector = output_vector\n",
    "        elif task_types == 'resched':\n",
    "            self.input_data = []\n",
    "            self.type_vector = []\n",
    "            self.output_vector = []\n",
    "            for i in range(len(input_data)):\n",
    "                if type_vector[i] == \"resched\":\n",
    "                    self.input_data.append(input_data[i])\n",
    "                    self.type_vector.append(type_vector[i])\n",
    "                    self.output_vector.append(output_vector[i])\n",
    "        elif task_types == 'non-resched':\n",
    "            self.input_data = []\n",
    "            self.type_vector = []\n",
    "            self.output_vector = []\n",
    "            for i in range(len(input_data)):\n",
    "                if type_vector[i] == \"non-resched\":\n",
    "                    self.input_data.append(input_data[i])\n",
    "                    self.type_vector.append(type_vector[i])\n",
    "                    self.output_vector.append(output_vector[i])\n",
    "        else:\n",
    "            raise ValueError(\"task_types must be 'all', 'resched', or 'non-resched'\")\n",
    "        self.transform = transform\n",
    "\n",
    "    def __len__(self):\n",
    "        return len(self.input_data)\n",
    "\n",
    "    def __getitem__(self, idx):\n",
    "        return self.input_data[idx], self.type_vector[idx], self.output_vector[idx]\n"
   ],
   "metadata": {
    "collapsed": false,
    "ExecuteTime": {
     "start_time": "2023-07-09T02:26:17.428092Z",
     "end_time": "2023-07-09T02:26:17.515189Z"
    }
   }
  },
  {
   "cell_type": "code",
   "execution_count": null,
   "outputs": [],
   "source": [
    "resched_dataset = ScheduleDataset(input_data, type_vector, output_vector, task_types='resched')\n",
    "non_resched_dataset = ScheduleDataset(input_data, type_vector, output_vector, task_types='non-resched')\n",
    "all_dataset = ScheduleDataset(input_data, type_vector, output_vector, task_types='all')\n",
    "\n",
    "print(f\"Resched dataset size: {len(resched_dataset)}\\n\"\n",
    "      f\"Non-resched dataset size: {len(non_resched_dataset)}\\n\"\n",
    "      f\"All dataset size: {len(all_dataset)}\")"
   ],
   "metadata": {
    "collapsed": false,
    "ExecuteTime": {
     "start_time": "2023-07-09T02:26:17.469965Z",
     "end_time": "2023-07-09T02:26:17.566140Z"
    }
   }
  },
  {
   "cell_type": "markdown",
   "source": [
    "## Create dataloaders"
   ],
   "metadata": {
    "collapsed": false
   }
  },
  {
   "cell_type": "code",
   "execution_count": null,
   "outputs": [],
   "source": [
    "batch_size = 1\n",
    "# resched_dataset_size = len(resched_dataset)\n",
    "# train_size = int(resched_dataset_size * 0.8)\n",
    "# test_size = resched_dataset_size - train_size\n",
    "#\n",
    "# train_resched_dataset, test_resched_dataset = torch.utils.data.random_split(resched_dataset, [train_size, test_size])\n",
    "\n",
    "train_resched_dataloader = DataLoader(resched_dataset, batch_size=batch_size)\n",
    "# valid_resched_dataloader = DataLoader2(resched_dataset, batch_size=batch_size)\n",
    "\n",
    "train_non_resched_dataloader = DataLoader(non_resched_dataset, batch_size=batch_size)"
   ],
   "metadata": {
    "collapsed": false,
    "ExecuteTime": {
     "start_time": "2023-07-09T02:26:17.488986Z",
     "end_time": "2023-07-09T02:26:17.566560Z"
    }
   }
  },
  {
   "cell_type": "markdown",
   "source": [
    "## Create free time slots generator"
   ],
   "metadata": {
    "collapsed": false
   }
  },
  {
   "cell_type": "code",
   "execution_count": null,
   "outputs": [],
   "source": [
    "from Data.GeneratorOfAvailableTimeslots import GeneratorOfAvailableTimeslots\n",
    "\n",
    "time_slots_gen = GeneratorOfAvailableTimeslots(5)\n",
    "time_slots = time_slots_gen.generate_available_timeslots()\n",
    "\n",
    "time_slots      # TODO: why all the intervals are closed?\n",
    "single_interval = time_slots[0]\n",
    "single_interval"
   ],
   "metadata": {
    "collapsed": false,
    "ExecuteTime": {
     "start_time": "2023-07-09T02:26:17.530078Z",
     "end_time": "2023-07-09T02:26:17.640218Z"
    }
   }
  },
  {
   "cell_type": "markdown",
   "source": [
    "## Init the model"
   ],
   "metadata": {
    "collapsed": false
   }
  },
  {
   "cell_type": "code",
   "execution_count": null,
   "outputs": [],
   "source": [
    "# check if the dataloader works and get the input and output sizes\n",
    "in_features = 22\n",
    "out_features = 3\n",
    "for i, (features, a, ans) in enumerate(train_resched_dataloader):\n",
    "    in_features = features.shape[1]\n",
    "    out_features = ans.shape[1]\n",
    "    break\n",
    "\n",
    "n_layers = 1\n",
    "hidden_size = 124\n",
    "hidden_injector = 64\n",
    "\n",
    "# Create the model\n",
    "SC_LSTM = Model(in_features, n_layers, hidden_size, out_features, batch_size, hidden_injector=hidden_injector).to(device)"
   ],
   "metadata": {
    "collapsed": false,
    "ExecuteTime": {
     "start_time": "2023-07-09T02:26:17.572046Z",
     "end_time": "2023-07-09T02:26:17.640450Z"
    }
   }
  },
  {
   "cell_type": "markdown",
   "source": [
    "# Training the model"
   ],
   "metadata": {
    "collapsed": false
   }
  },
  {
   "cell_type": "code",
   "execution_count": null,
   "outputs": [],
   "source": [
    "# Configure hyper-parameters\n",
    "epochs = 20\n",
    "learning_rate = 0.001\n",
    "loss_func = torch.nn.MSELoss()\n",
    "optimizer = torch.optim.Adam(SC_LSTM.parameters(), lr=learning_rate)\n",
    "\n",
    "history = []\n",
    "loss_accomulator = []\n",
    "mean_loss = None"
   ],
   "metadata": {
    "collapsed": false,
    "ExecuteTime": {
     "start_time": "2023-07-09T02:26:17.580508Z",
     "end_time": "2023-07-09T02:26:17.641858Z"
    }
   }
  },
  {
   "cell_type": "code",
   "execution_count": null,
   "outputs": [],
   "source": [
    "# Firstly train the LSTM using only reschedulable tasks\n",
    "SC_LSTM.train_model(mode='lstm')\n",
    "\n",
    "for epoch in range(0, epochs):\n",
    "    SC_LSTM.reset_states()\n",
    "    for i, (X, task_type, Y) in enumerate(tqdm(train_resched_dataloader, desc=f\"Epoch: {epoch + 1}, Mean Loss: {mean_loss}\", leave=False, colour='green')):\n",
    "\n",
    "        # Convert X and Y to the correct type\n",
    "        X = torch.Tensor(X).type(torch.float32).to(device)\n",
    "        Y = torch.Tensor(Y).type(torch.float32).to(device)\n",
    "\n",
    "        # Make prediction\n",
    "        Y_pred = SC_LSTM.forward(X, task_type=task_type, free_time_slots=single_interval, save_states=True)\n",
    "\n",
    "        # Calculate loss\n",
    "        loss = loss_func(Y_pred.view(-1, ), Y.view(-1, ))\n",
    "\n",
    "        # Backward pass\n",
    "        loss.backward()\n",
    "        optimizer.step()\n",
    "        optimizer.zero_grad()\n",
    "\n",
    "        # Append loss to list\n",
    "        loss_accomulator.append(loss.item())\n",
    "\n",
    "    mean_loss = np.mean(loss_accomulator)\n",
    "    history.append(mean_loss)\n",
    "    loss_accomulator = []"
   ],
   "metadata": {
    "collapsed": false,
    "ExecuteTime": {
     "start_time": "2023-07-09T02:26:17.621055Z",
     "end_time": "2023-07-09T02:26:38.022207Z"
    }
   }
  },
  {
   "cell_type": "code",
   "execution_count": null,
   "outputs": [],
   "source": [
    "import matplotlib.pyplot as plt\n",
    "# Plot the loss history\n",
    "plt.plot(history)\n",
    "plt.xlabel(\"Epoch\")\n",
    "plt.ylabel(\"Loss\")\n",
    "plt.title(\"Loss history\")\n",
    "plt.show()"
   ],
   "metadata": {
    "collapsed": false,
    "ExecuteTime": {
     "start_time": "2023-07-09T02:26:38.023355Z",
     "end_time": "2023-07-09T02:26:38.564560Z"
    }
   }
  },
  {
   "cell_type": "code",
   "execution_count": null,
   "outputs": [],
   "source": [
    "# Configure hyper-parameters\n",
    "epochs = 20\n",
    "learning_rate = 0.001\n",
    "loss_func = torch.nn.MSELoss()\n",
    "optimizer = torch.optim.Adam(SC_LSTM.parameters(), lr=learning_rate)\n",
    "\n",
    "history = []\n",
    "loss_accomulator = []"
   ],
   "metadata": {
    "collapsed": false,
    "ExecuteTime": {
     "start_time": "2023-07-09T02:26:38.565984Z",
     "end_time": "2023-07-09T02:26:38.622001Z"
    }
   }
  },
  {
   "cell_type": "code",
   "execution_count": null,
   "outputs": [],
   "source": [
    "# Now train the injector using non-reschedulable tasks\n",
    "SC_LSTM.train_model(mode='injector')\n",
    "\n",
    "for epoch in range(0, epochs):\n",
    "    SC_LSTM.reset_states()\n",
    "\n",
    "    for i, (X, task_type, Y) in enumerate(tqdm(train_non_resched_dataloader, desc=f\"Epoch: {epoch + 1}, Mean Loss: {mean_loss}\", leave=False, colour='green')):\n",
    "\n",
    "        # Convert X and Y to the correct type\n",
    "        X = torch.Tensor(X).type(torch.float32).to(device)\n",
    "        Y = torch.Tensor(Y).type(torch.float32).to(device)\n",
    "\n",
    "        # Make prediction\n",
    "        Y_pred = SC_LSTM.forward(X, task_type=task_type, free_time_slots=single_interval, save_states=True)\n",
    "\n",
    "        # Calculate loss\n",
    "        loss = loss_func(Y_pred.view(-1, ), Y.view(-1, ))\n",
    "\n",
    "        # Backward pass\n",
    "        loss.backward()\n",
    "        optimizer.step()\n",
    "        optimizer.zero_grad()\n",
    "\n",
    "        # Append loss to list\n",
    "        loss_accomulator.append(loss.item())\n",
    "\n",
    "    mean_loss = np.mean(loss_accomulator)\n",
    "    history.append(mean_loss)\n",
    "    loss_accomulator = []"
   ],
   "metadata": {
    "collapsed": false,
    "ExecuteTime": {
     "start_time": "2023-07-09T02:26:38.608015Z",
     "end_time": "2023-07-09T02:26:40.863411Z"
    }
   }
  },
  {
   "cell_type": "code",
   "execution_count": null,
   "outputs": [],
   "source": [
    "# Plot the loss history\n",
    "plt.plot(history)\n",
    "plt.xlabel(\"Epoch\")\n",
    "plt.ylabel(\"Loss\")\n",
    "plt.title(\"Loss history\")\n",
    "plt.show()"
   ],
   "metadata": {
    "collapsed": false,
    "ExecuteTime": {
     "start_time": "2023-07-09T02:26:40.881671Z",
     "end_time": "2023-07-09T02:26:41.040185Z"
    }
   }
  },
  {
   "cell_type": "markdown",
   "source": [
    "# Save weights"
   ],
   "metadata": {
    "collapsed": false
   }
  },
  {
   "cell_type": "code",
   "execution_count": null,
   "outputs": [],
   "source": [
    "torch.save(SC_LSTM.state_dict(), \"sc_lstm_weights.pth\")"
   ],
   "metadata": {
    "collapsed": false,
    "ExecuteTime": {
     "start_time": "2023-07-09T02:26:41.037017Z",
     "end_time": "2023-07-09T02:26:41.040507Z"
    }
   }
  }
 ],
 "metadata": {
  "kernelspec": {
   "display_name": "Python 3",
   "language": "python",
   "name": "python3"
  },
  "language_info": {
   "codemirror_mode": {
    "name": "ipython",
    "version": 2
   },
   "file_extension": ".py",
   "mimetype": "text/x-python",
   "name": "python",
   "nbconvert_exporter": "python",
   "pygments_lexer": "ipython2",
   "version": "2.7.6"
  }
 },
 "nbformat": 4,
 "nbformat_minor": 0
}
