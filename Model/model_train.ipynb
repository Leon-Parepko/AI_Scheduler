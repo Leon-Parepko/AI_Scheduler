{
 "cells": [
  {
   "cell_type": "markdown",
   "source": [
    "# This file is used to train"
   ],
   "metadata": {
    "collapsed": false
   }
  },
  {
   "cell_type": "code",
   "execution_count": 1,
   "metadata": {
    "collapsed": true,
    "ExecuteTime": {
     "start_time": "2023-07-08T05:05:31.084266Z",
     "end_time": "2023-07-08T05:05:32.055624Z"
    }
   },
   "outputs": [],
   "source": [
    "import torch\n",
    "import numpy as np\n",
    "from tqdm import tqdm\n",
    "import pandas as pd\n",
    "from sc_model import SC_LSTM as Model"
   ]
  },
  {
   "cell_type": "markdown",
   "source": [
    "# Device init"
   ],
   "metadata": {
    "collapsed": false
   }
  },
  {
   "cell_type": "code",
   "execution_count": 2,
   "outputs": [
    {
     "name": "stdout",
     "output_type": "stream",
     "text": [
      "Sat Jul  8 05:05:32 2023       \r\n",
      "+---------------------------------------------------------------------------------------+\r\n",
      "| NVIDIA-SMI 530.41.03              Driver Version: 530.41.03    CUDA Version: 12.1     |\r\n",
      "|-----------------------------------------+----------------------+----------------------+\r\n",
      "| GPU  Name                  Persistence-M| Bus-Id        Disp.A | Volatile Uncorr. ECC |\r\n",
      "| Fan  Temp  Perf            Pwr:Usage/Cap|         Memory-Usage | GPU-Util  Compute M. |\r\n",
      "|                                         |                      |               MIG M. |\r\n",
      "|=========================================+======================+======================|\r\n",
      "|   0  NVIDIA GeForce GTX 1650 Ti      Off| 00000000:01:00.0  On |                  N/A |\r\n",
      "| N/A   48C    P0               24W /  N/A|    697MiB /  4096MiB |     14%      Default |\r\n",
      "|                                         |                      |                  N/A |\r\n",
      "+-----------------------------------------+----------------------+----------------------+\r\n",
      "                                                                                         \r\n",
      "+---------------------------------------------------------------------------------------+\r\n",
      "| Processes:                                                                            |\r\n",
      "|  GPU   GI   CI        PID   Type   Process name                            GPU Memory |\r\n",
      "|        ID   ID                                                             Usage      |\r\n",
      "|=======================================================================================|\r\n",
      "|    0   N/A  N/A       584      G   /usr/lib/Xorg                               301MiB |\r\n",
      "|    0   N/A  N/A       635      G   /usr/bin/kwalletd5                            1MiB |\r\n",
      "|    0   N/A  N/A       719      G   /usr/bin/ksmserver                            1MiB |\r\n",
      "|    0   N/A  N/A       721      G   /usr/bin/kded5                                1MiB |\r\n",
      "|    0   N/A  N/A       778      G   ...b/polkit-kde-authentication-agent-1        1MiB |\r\n",
      "|    0   N/A  N/A       781      G   /usr/lib/xdg-desktop-portal-kde               1MiB |\r\n",
      "|    0   N/A  N/A       886      G   /usr/lib/kdeconnectd                          1MiB |\r\n",
      "|    0   N/A  N/A       888      G   /usr/bin/latte-dock                          20MiB |\r\n",
      "|    0   N/A  N/A       896      G   /usr/bin/kaccess                              1MiB |\r\n",
      "|    0   N/A  N/A       903      G   /usr/lib/DiscoverNotifier                     1MiB |\r\n",
      "|    0   N/A  N/A       904      G   /usr/bin/kalendarac                          15MiB |\r\n",
      "|    0   N/A  N/A       911      G   /usr/bin/kmix                                 1MiB |\r\n",
      "|    0   N/A  N/A      1081      G   /usr/bin/ktorrent                             1MiB |\r\n",
      "|    0   N/A  N/A      1150      G   /usr/bin/yakuake                              1MiB |\r\n",
      "|    0   N/A  N/A      1928      G   ...bin/plasma-browser-integration-host       31MiB |\r\n",
      "|    0   N/A  N/A     34869      G   /usr/bin/kwin_x11                           160MiB |\r\n",
      "|    0   N/A  N/A     41807      G   /usr/bin/dolphin                             11MiB |\r\n",
      "|    0   N/A  N/A     48137      G   /usr/bin/krunner                              6MiB |\r\n",
      "|    0   N/A  N/A     79951      G   /usr/bin/telegram-desktop                    32MiB |\r\n",
      "|    0   N/A  N/A    125194      G   /usr/bin/plasmashell                         63MiB |\r\n",
      "+---------------------------------------------------------------------------------------+\r\n",
      "NVIDIA GeForce GTX 1650 Ti\n"
     ]
    }
   ],
   "source": [
    "device = torch.device('cuda' if torch.cuda.is_available() else 'cpu')\n",
    "if device.type == 'cuda':\n",
    "    !nvidia-smi\n",
    "    print(torch.cuda.get_device_name(0))\n",
    "\n",
    "else:\n",
    "    print(\"No GPU :(\")"
   ],
   "metadata": {
    "collapsed": false,
    "ExecuteTime": {
     "start_time": "2023-07-08T05:05:32.096342Z",
     "end_time": "2023-07-08T05:05:32.278452Z"
    }
   }
  },
  {
   "cell_type": "code",
   "execution_count": 3,
   "outputs": [],
   "source": [
    "device = 'cpu'"
   ],
   "metadata": {
    "collapsed": false,
    "ExecuteTime": {
     "start_time": "2023-07-08T05:05:32.280857Z",
     "end_time": "2023-07-08T05:05:32.283516Z"
    }
   }
  },
  {
   "cell_type": "markdown",
   "source": [
    "## Loading the data"
   ],
   "metadata": {
    "collapsed": false
   }
  },
  {
   "cell_type": "code",
   "execution_count": 4,
   "outputs": [
    {
     "data": {
      "text/plain": "     Label Number  Duration  Importance Start Time        Date\n0               2        30           2      06:45  14/01/2022\n1               3        90           2      09:10  14/01/2022\n2               2        60           0      13:00  14/01/2022\n3               3       120           3      14:50  14/01/2022\n4               2        90           0      19:40  14/01/2022\n..            ...       ...         ...        ...         ...\n666             0        30           2      15:35  23/04/2022\n667             1        30           1      17:25  23/04/2022\n668             0         5           2      18:20  23/04/2022\n669             2        20           0      20:35  23/04/2022\n670             1        70           0      21:55  23/04/2022\n\n[671 rows x 5 columns]",
      "text/html": "<div>\n<style scoped>\n    .dataframe tbody tr th:only-of-type {\n        vertical-align: middle;\n    }\n\n    .dataframe tbody tr th {\n        vertical-align: top;\n    }\n\n    .dataframe thead th {\n        text-align: right;\n    }\n</style>\n<table border=\"1\" class=\"dataframe\">\n  <thead>\n    <tr style=\"text-align: right;\">\n      <th></th>\n      <th>Label Number</th>\n      <th>Duration</th>\n      <th>Importance</th>\n      <th>Start Time</th>\n      <th>Date</th>\n    </tr>\n  </thead>\n  <tbody>\n    <tr>\n      <th>0</th>\n      <td>2</td>\n      <td>30</td>\n      <td>2</td>\n      <td>06:45</td>\n      <td>14/01/2022</td>\n    </tr>\n    <tr>\n      <th>1</th>\n      <td>3</td>\n      <td>90</td>\n      <td>2</td>\n      <td>09:10</td>\n      <td>14/01/2022</td>\n    </tr>\n    <tr>\n      <th>2</th>\n      <td>2</td>\n      <td>60</td>\n      <td>0</td>\n      <td>13:00</td>\n      <td>14/01/2022</td>\n    </tr>\n    <tr>\n      <th>3</th>\n      <td>3</td>\n      <td>120</td>\n      <td>3</td>\n      <td>14:50</td>\n      <td>14/01/2022</td>\n    </tr>\n    <tr>\n      <th>4</th>\n      <td>2</td>\n      <td>90</td>\n      <td>0</td>\n      <td>19:40</td>\n      <td>14/01/2022</td>\n    </tr>\n    <tr>\n      <th>...</th>\n      <td>...</td>\n      <td>...</td>\n      <td>...</td>\n      <td>...</td>\n      <td>...</td>\n    </tr>\n    <tr>\n      <th>666</th>\n      <td>0</td>\n      <td>30</td>\n      <td>2</td>\n      <td>15:35</td>\n      <td>23/04/2022</td>\n    </tr>\n    <tr>\n      <th>667</th>\n      <td>1</td>\n      <td>30</td>\n      <td>1</td>\n      <td>17:25</td>\n      <td>23/04/2022</td>\n    </tr>\n    <tr>\n      <th>668</th>\n      <td>0</td>\n      <td>5</td>\n      <td>2</td>\n      <td>18:20</td>\n      <td>23/04/2022</td>\n    </tr>\n    <tr>\n      <th>669</th>\n      <td>2</td>\n      <td>20</td>\n      <td>0</td>\n      <td>20:35</td>\n      <td>23/04/2022</td>\n    </tr>\n    <tr>\n      <th>670</th>\n      <td>1</td>\n      <td>70</td>\n      <td>0</td>\n      <td>21:55</td>\n      <td>23/04/2022</td>\n    </tr>\n  </tbody>\n</table>\n<p>671 rows × 5 columns</p>\n</div>"
     },
     "execution_count": 4,
     "metadata": {},
     "output_type": "execute_result"
    }
   ],
   "source": [
    "from Data.PreprocessorOfGeneratedData import Preprocessor\n",
    "\n",
    "preproc = Preprocessor()\n",
    "\n",
    "data = pd.read_csv('../Data/schedule_gen.csv')\n",
    "data"
   ],
   "metadata": {
    "collapsed": false,
    "ExecuteTime": {
     "start_time": "2023-07-08T05:05:32.285704Z",
     "end_time": "2023-07-08T05:05:32.609647Z"
    }
   }
  },
  {
   "cell_type": "code",
   "execution_count": 5,
   "outputs": [],
   "source": [
    "input_data, type_vector, output_vector, _ = preproc.preprocess('../Data/schedule_gen.csv')"
   ],
   "metadata": {
    "collapsed": false,
    "ExecuteTime": {
     "start_time": "2023-07-08T05:05:32.611238Z",
     "end_time": "2023-07-08T05:05:32.749684Z"
    }
   }
  },
  {
   "cell_type": "code",
   "execution_count": 6,
   "outputs": [
    {
     "data": {
      "text/plain": "     Label Number  Duration  Importance  Time_Min  Date_Categorical  \\\n0               2  0.151515           2  0.284211                14   \n1               3  0.515152           2  0.385965                14   \n2               2  0.333333           0  0.547368                14   \n3               3  0.696970           3  0.624561                14   \n4               2  0.515152           0  0.828070                14   \n..            ...       ...         ...       ...               ...   \n666             0  0.151515           2  0.656140                 0   \n667             1  0.151515           1  0.733333               113   \n668             0  0.000000           2  0.771930               113   \n669             2  0.090909           0  0.000000               113   \n670             1  0.393939           0  0.922807               113   \n\n     Time_Min_sin  Time_Min_cos  Date_Day_sin  Date_Day_cos  Date_Month_sin  \\\n0        0.976987     -0.213300      0.299363     -0.954139    1.000000e+00   \n1        0.656752     -0.754107      0.299363     -0.954139    1.000000e+00   \n2       -0.293250     -0.956036      0.299363     -0.954139    1.000000e+00   \n3       -0.705155     -0.709053      0.299363     -0.954139    1.000000e+00   \n4       -0.882084      0.471093      0.299363     -0.954139    1.000000e+00   \n..            ...           ...           ...           ...             ...   \n666     -0.831087     -0.556143      0.000000      1.000000    0.000000e+00   \n667     -0.994522     -0.104528     -0.998717     -0.050649   -2.449294e-16   \n668     -0.990522      0.137354     -0.998717     -0.050649   -2.449294e-16   \n669      0.000000      1.000000     -0.998717     -0.050649   -2.449294e-16   \n670     -0.466224      0.884667     -0.998717     -0.050649   -2.449294e-16   \n\n     Date_Month_cos  \n0      6.123234e-17  \n1      6.123234e-17  \n2      6.123234e-17  \n3      6.123234e-17  \n4      6.123234e-17  \n..              ...  \n666    1.000000e+00  \n667    1.000000e+00  \n668    1.000000e+00  \n669    1.000000e+00  \n670    1.000000e+00  \n\n[671 rows x 11 columns]",
      "text/html": "<div>\n<style scoped>\n    .dataframe tbody tr th:only-of-type {\n        vertical-align: middle;\n    }\n\n    .dataframe tbody tr th {\n        vertical-align: top;\n    }\n\n    .dataframe thead th {\n        text-align: right;\n    }\n</style>\n<table border=\"1\" class=\"dataframe\">\n  <thead>\n    <tr style=\"text-align: right;\">\n      <th></th>\n      <th>Label Number</th>\n      <th>Duration</th>\n      <th>Importance</th>\n      <th>Time_Min</th>\n      <th>Date_Categorical</th>\n      <th>Time_Min_sin</th>\n      <th>Time_Min_cos</th>\n      <th>Date_Day_sin</th>\n      <th>Date_Day_cos</th>\n      <th>Date_Month_sin</th>\n      <th>Date_Month_cos</th>\n    </tr>\n  </thead>\n  <tbody>\n    <tr>\n      <th>0</th>\n      <td>2</td>\n      <td>0.151515</td>\n      <td>2</td>\n      <td>0.284211</td>\n      <td>14</td>\n      <td>0.976987</td>\n      <td>-0.213300</td>\n      <td>0.299363</td>\n      <td>-0.954139</td>\n      <td>1.000000e+00</td>\n      <td>6.123234e-17</td>\n    </tr>\n    <tr>\n      <th>1</th>\n      <td>3</td>\n      <td>0.515152</td>\n      <td>2</td>\n      <td>0.385965</td>\n      <td>14</td>\n      <td>0.656752</td>\n      <td>-0.754107</td>\n      <td>0.299363</td>\n      <td>-0.954139</td>\n      <td>1.000000e+00</td>\n      <td>6.123234e-17</td>\n    </tr>\n    <tr>\n      <th>2</th>\n      <td>2</td>\n      <td>0.333333</td>\n      <td>0</td>\n      <td>0.547368</td>\n      <td>14</td>\n      <td>-0.293250</td>\n      <td>-0.956036</td>\n      <td>0.299363</td>\n      <td>-0.954139</td>\n      <td>1.000000e+00</td>\n      <td>6.123234e-17</td>\n    </tr>\n    <tr>\n      <th>3</th>\n      <td>3</td>\n      <td>0.696970</td>\n      <td>3</td>\n      <td>0.624561</td>\n      <td>14</td>\n      <td>-0.705155</td>\n      <td>-0.709053</td>\n      <td>0.299363</td>\n      <td>-0.954139</td>\n      <td>1.000000e+00</td>\n      <td>6.123234e-17</td>\n    </tr>\n    <tr>\n      <th>4</th>\n      <td>2</td>\n      <td>0.515152</td>\n      <td>0</td>\n      <td>0.828070</td>\n      <td>14</td>\n      <td>-0.882084</td>\n      <td>0.471093</td>\n      <td>0.299363</td>\n      <td>-0.954139</td>\n      <td>1.000000e+00</td>\n      <td>6.123234e-17</td>\n    </tr>\n    <tr>\n      <th>...</th>\n      <td>...</td>\n      <td>...</td>\n      <td>...</td>\n      <td>...</td>\n      <td>...</td>\n      <td>...</td>\n      <td>...</td>\n      <td>...</td>\n      <td>...</td>\n      <td>...</td>\n      <td>...</td>\n    </tr>\n    <tr>\n      <th>666</th>\n      <td>0</td>\n      <td>0.151515</td>\n      <td>2</td>\n      <td>0.656140</td>\n      <td>0</td>\n      <td>-0.831087</td>\n      <td>-0.556143</td>\n      <td>0.000000</td>\n      <td>1.000000</td>\n      <td>0.000000e+00</td>\n      <td>1.000000e+00</td>\n    </tr>\n    <tr>\n      <th>667</th>\n      <td>1</td>\n      <td>0.151515</td>\n      <td>1</td>\n      <td>0.733333</td>\n      <td>113</td>\n      <td>-0.994522</td>\n      <td>-0.104528</td>\n      <td>-0.998717</td>\n      <td>-0.050649</td>\n      <td>-2.449294e-16</td>\n      <td>1.000000e+00</td>\n    </tr>\n    <tr>\n      <th>668</th>\n      <td>0</td>\n      <td>0.000000</td>\n      <td>2</td>\n      <td>0.771930</td>\n      <td>113</td>\n      <td>-0.990522</td>\n      <td>0.137354</td>\n      <td>-0.998717</td>\n      <td>-0.050649</td>\n      <td>-2.449294e-16</td>\n      <td>1.000000e+00</td>\n    </tr>\n    <tr>\n      <th>669</th>\n      <td>2</td>\n      <td>0.090909</td>\n      <td>0</td>\n      <td>0.000000</td>\n      <td>113</td>\n      <td>0.000000</td>\n      <td>1.000000</td>\n      <td>-0.998717</td>\n      <td>-0.050649</td>\n      <td>-2.449294e-16</td>\n      <td>1.000000e+00</td>\n    </tr>\n    <tr>\n      <th>670</th>\n      <td>1</td>\n      <td>0.393939</td>\n      <td>0</td>\n      <td>0.922807</td>\n      <td>113</td>\n      <td>-0.466224</td>\n      <td>0.884667</td>\n      <td>-0.998717</td>\n      <td>-0.050649</td>\n      <td>-2.449294e-16</td>\n      <td>1.000000e+00</td>\n    </tr>\n  </tbody>\n</table>\n<p>671 rows × 11 columns</p>\n</div>"
     },
     "execution_count": 6,
     "metadata": {},
     "output_type": "execute_result"
    }
   ],
   "source": [
    "input_data"
   ],
   "metadata": {
    "collapsed": false,
    "ExecuteTime": {
     "start_time": "2023-07-08T05:05:32.764456Z",
     "end_time": "2023-07-08T05:05:32.806921Z"
    }
   }
  },
  {
   "cell_type": "code",
   "execution_count": 7,
   "outputs": [
    {
     "data": {
      "text/plain": "          start       end refr\n0   -539.930556  0.020833  0.0\n1   -539.829861    0.0625  0.0\n2           780        60    0\n3           890       120    0\n4          1180        90    0\n..          ...       ...  ...\n666         935        30    0\n667        1045        30    0\n668        1100         5    0\n669        1235        19   -1\n670        1315        70    0\n\n[671 rows x 3 columns]",
      "text/html": "<div>\n<style scoped>\n    .dataframe tbody tr th:only-of-type {\n        vertical-align: middle;\n    }\n\n    .dataframe tbody tr th {\n        vertical-align: top;\n    }\n\n    .dataframe thead th {\n        text-align: right;\n    }\n</style>\n<table border=\"1\" class=\"dataframe\">\n  <thead>\n    <tr style=\"text-align: right;\">\n      <th></th>\n      <th>start</th>\n      <th>end</th>\n      <th>refr</th>\n    </tr>\n  </thead>\n  <tbody>\n    <tr>\n      <th>0</th>\n      <td>-539.930556</td>\n      <td>0.020833</td>\n      <td>0.0</td>\n    </tr>\n    <tr>\n      <th>1</th>\n      <td>-539.829861</td>\n      <td>0.0625</td>\n      <td>0.0</td>\n    </tr>\n    <tr>\n      <th>2</th>\n      <td>780</td>\n      <td>60</td>\n      <td>0</td>\n    </tr>\n    <tr>\n      <th>3</th>\n      <td>890</td>\n      <td>120</td>\n      <td>0</td>\n    </tr>\n    <tr>\n      <th>4</th>\n      <td>1180</td>\n      <td>90</td>\n      <td>0</td>\n    </tr>\n    <tr>\n      <th>...</th>\n      <td>...</td>\n      <td>...</td>\n      <td>...</td>\n    </tr>\n    <tr>\n      <th>666</th>\n      <td>935</td>\n      <td>30</td>\n      <td>0</td>\n    </tr>\n    <tr>\n      <th>667</th>\n      <td>1045</td>\n      <td>30</td>\n      <td>0</td>\n    </tr>\n    <tr>\n      <th>668</th>\n      <td>1100</td>\n      <td>5</td>\n      <td>0</td>\n    </tr>\n    <tr>\n      <th>669</th>\n      <td>1235</td>\n      <td>19</td>\n      <td>-1</td>\n    </tr>\n    <tr>\n      <th>670</th>\n      <td>1315</td>\n      <td>70</td>\n      <td>0</td>\n    </tr>\n  </tbody>\n</table>\n<p>671 rows × 3 columns</p>\n</div>"
     },
     "execution_count": 7,
     "metadata": {},
     "output_type": "execute_result"
    }
   ],
   "source": [
    "output_vector"
   ],
   "metadata": {
    "collapsed": false,
    "ExecuteTime": {
     "start_time": "2023-07-08T05:05:32.806516Z",
     "end_time": "2023-07-08T05:05:32.807206Z"
    }
   }
  },
  {
   "cell_type": "code",
   "execution_count": 8,
   "outputs": [],
   "source": [
    "from sklearn.preprocessing import MinMaxScaler\n",
    "\n",
    "# Normalize input and output data\n",
    "scaler = MinMaxScaler()\n",
    "input_data = scaler.fit_transform(input_data)\n",
    "output_vector = scaler.fit_transform(output_vector)"
   ],
   "metadata": {
    "collapsed": false,
    "ExecuteTime": {
     "start_time": "2023-07-08T05:05:32.806620Z",
     "end_time": "2023-07-08T05:05:32.888499Z"
    }
   }
  },
  {
   "cell_type": "markdown",
   "source": [
    "## Creating the dataset"
   ],
   "metadata": {
    "collapsed": false
   }
  },
  {
   "cell_type": "code",
   "execution_count": 9,
   "outputs": [],
   "source": [
    "from torch.utils.data import Dataset, DataLoader2\n",
    "\n",
    "class ScheduleDataset(Dataset):\n",
    "    def __init__(self, input_data, type_vector, output_vector, task_types='all', transform=None):\n",
    "        if task_types == 'all':\n",
    "            self.input_data = input_data\n",
    "            self.type_vector = type_vector\n",
    "            self.output_vector = output_vector\n",
    "        elif task_types == 'resched':\n",
    "            self.input_data = []\n",
    "            self.type_vector = []\n",
    "            self.output_vector = []\n",
    "            for i in range(len(input_data)):\n",
    "                if type_vector[i] == \"resched\":\n",
    "                    self.input_data.append(input_data[i])\n",
    "                    self.type_vector.append(type_vector[i])\n",
    "                    self.output_vector.append(output_vector[i])\n",
    "        elif task_types == 'non-resched':\n",
    "            self.input_data = []\n",
    "            self.type_vector = []\n",
    "            self.output_vector = []\n",
    "            for i in range(len(input_data)):\n",
    "                if type_vector[i] == \"non-resched\":\n",
    "                    self.input_data.append(input_data[i])\n",
    "                    self.type_vector.append(type_vector[i])\n",
    "                    self.output_vector.append(output_vector[i])\n",
    "        else:\n",
    "            raise ValueError(\"task_types must be 'all', 'resched', or 'non-resched'\")\n",
    "        self.transform = transform\n",
    "\n",
    "    def __len__(self):\n",
    "        return len(self.input_data)\n",
    "\n",
    "    def __getitem__(self, idx):\n",
    "        return self.input_data[idx], self.type_vector[idx], self.output_vector[idx]\n"
   ],
   "metadata": {
    "collapsed": false,
    "ExecuteTime": {
     "start_time": "2023-07-08T05:05:32.847225Z",
     "end_time": "2023-07-08T05:05:32.895781Z"
    }
   }
  },
  {
   "cell_type": "code",
   "execution_count": 10,
   "outputs": [
    {
     "name": "stdout",
     "output_type": "stream",
     "text": [
      "Resched dataset size: 550\n",
      "Non-resched dataset size: 121\n",
      "All dataset size: 671\n"
     ]
    }
   ],
   "source": [
    "resched_dataset = ScheduleDataset(input_data, type_vector, output_vector, task_types='resched')\n",
    "non_resched_dataset = ScheduleDataset(input_data, type_vector, output_vector, task_types='non-resched')\n",
    "all_dataset = ScheduleDataset(input_data, type_vector, output_vector, task_types='all')\n",
    "\n",
    "print(f\"Resched dataset size: {len(resched_dataset)}\\n\"\n",
    "      f\"Non-resched dataset size: {len(non_resched_dataset)}\\n\"\n",
    "      f\"All dataset size: {len(all_dataset)}\")"
   ],
   "metadata": {
    "collapsed": false,
    "ExecuteTime": {
     "start_time": "2023-07-08T05:05:32.852740Z",
     "end_time": "2023-07-08T05:05:32.916646Z"
    }
   }
  },
  {
   "cell_type": "markdown",
   "source": [
    "## Create dataloaders"
   ],
   "metadata": {
    "collapsed": false
   }
  },
  {
   "cell_type": "code",
   "execution_count": 11,
   "outputs": [],
   "source": [
    "batch_size = 1\n",
    "# resched_dataset_size = len(resched_dataset)\n",
    "# train_size = int(resched_dataset_size * 0.8)\n",
    "# test_size = resched_dataset_size - train_size\n",
    "#\n",
    "# train_resched_dataset, test_resched_dataset = torch.utils.data.random_split(resched_dataset, [train_size, test_size])\n",
    "\n",
    "train_resched_dataloader = DataLoader2(resched_dataset, batch_size=batch_size)\n",
    "# valid_resched_dataloader = DataLoader2(resched_dataset, batch_size=batch_size)\n",
    "\n",
    "train_non_resched_dataloader = DataLoader2(non_resched_dataset, batch_size=batch_size)"
   ],
   "metadata": {
    "collapsed": false,
    "ExecuteTime": {
     "start_time": "2023-07-08T05:05:32.893291Z",
     "end_time": "2023-07-08T05:05:32.916728Z"
    }
   }
  },
  {
   "cell_type": "markdown",
   "source": [
    "## Create free time slots generator"
   ],
   "metadata": {
    "collapsed": false
   }
  },
  {
   "cell_type": "code",
   "execution_count": 12,
   "outputs": [
    {
     "data": {
      "text/plain": "array([[0.        , 0.00397925],\n       [0.41580612, 0.63089922],\n       [0.80834722, 0.81369051],\n       [0.82810994, 0.82951254],\n       [0.8721029 , 0.87394704],\n       [0.93679979, 0.95112062],\n       [0.97916536, 0.97962158]])"
     },
     "execution_count": 12,
     "metadata": {},
     "output_type": "execute_result"
    }
   ],
   "source": [
    "from Data.GeneratorOfAvailableTimeslots import GeneratorOfAvailableTimeslots\n",
    "\n",
    "time_slots_gen = GeneratorOfAvailableTimeslots(5)\n",
    "time_slots = time_slots_gen.generate_available_timeslots()\n",
    "\n",
    "time_slots      # TODO: why all the intervals are closed?\n",
    "single_interval = time_slots[0]\n",
    "single_interval"
   ],
   "metadata": {
    "collapsed": false,
    "ExecuteTime": {
     "start_time": "2023-07-08T05:05:32.893335Z",
     "end_time": "2023-07-08T05:05:32.961722Z"
    }
   }
  },
  {
   "cell_type": "markdown",
   "source": [
    "## Init the model"
   ],
   "metadata": {
    "collapsed": false
   }
  },
  {
   "cell_type": "code",
   "execution_count": 13,
   "outputs": [],
   "source": [
    "# check if the dataloader works and get the input and output sizes\n",
    "in_features = 11\n",
    "out_features = 3\n",
    "for i, (features, a, ans) in enumerate(train_resched_dataloader):\n",
    "    in_features = features.shape[1]\n",
    "    out_features = ans.shape[1]\n",
    "    break\n",
    "\n",
    "n_layers = 1\n",
    "hidden_size = 124\n",
    "hidden_injector = 64\n",
    "\n",
    "# Create the model\n",
    "SC_LSTM = Model(in_features, n_layers, hidden_size, out_features, batch_size, hidden_injector=hidden_injector).to(device)"
   ],
   "metadata": {
    "collapsed": false,
    "ExecuteTime": {
     "start_time": "2023-07-08T05:05:32.934304Z",
     "end_time": "2023-07-08T05:05:32.982311Z"
    }
   }
  },
  {
   "cell_type": "markdown",
   "source": [
    "# Training the model"
   ],
   "metadata": {
    "collapsed": false
   }
  },
  {
   "cell_type": "code",
   "execution_count": 14,
   "outputs": [],
   "source": [
    "# Configure hyper-parameters\n",
    "epochs = 20\n",
    "learning_rate = 0.001\n",
    "loss_func = torch.nn.MSELoss()\n",
    "optimizer = torch.optim.Adam(SC_LSTM.parameters(), lr=learning_rate)\n",
    "\n",
    "history = []\n",
    "loss_accomulator = []\n",
    "mean_loss = None"
   ],
   "metadata": {
    "collapsed": false,
    "ExecuteTime": {
     "start_time": "2023-07-08T05:05:32.941076Z",
     "end_time": "2023-07-08T05:05:32.999375Z"
    }
   }
  },
  {
   "cell_type": "code",
   "execution_count": 15,
   "outputs": [
    {
     "name": "stderr",
     "output_type": "stream",
     "text": [
      "                                                                                              5.88it/s]\r"
     ]
    }
   ],
   "source": [
    "# Firstly train the LSTM using only reschedulable tasks\n",
    "SC_LSTM.train_model(mode='lstm')\n",
    "\n",
    "for epoch in range(0, epochs):\n",
    "    SC_LSTM.reset_states()\n",
    "    for i, (X, task_type, Y) in enumerate(tqdm(train_resched_dataloader, desc=f\"Epoch: {epoch + 1}, Mean Loss: {mean_loss}\", leave=False, colour='green')):\n",
    "\n",
    "        # Convert X and Y to the correct type\n",
    "        X = torch.Tensor(X).type(torch.float32).to(device)\n",
    "        Y = torch.Tensor(Y).type(torch.float32).to(device)\n",
    "\n",
    "        # Make prediction\n",
    "        Y_pred = SC_LSTM.forward(X, task_type=task_type, free_time_slots=single_interval, save_states=True)\n",
    "\n",
    "        # Calculate loss\n",
    "        loss = loss_func(Y_pred.view(-1, ), Y.view(-1, ))\n",
    "\n",
    "        # Backward pass\n",
    "        loss.backward()\n",
    "        optimizer.step()\n",
    "        optimizer.zero_grad()\n",
    "\n",
    "        # Append loss to list\n",
    "        loss_accomulator.append(loss.item())\n",
    "\n",
    "    mean_loss = np.mean(loss_accomulator)\n",
    "    history.append(mean_loss)\n",
    "    loss_accomulator = []"
   ],
   "metadata": {
    "collapsed": false,
    "ExecuteTime": {
     "start_time": "2023-07-08T05:05:32.982388Z",
     "end_time": "2023-07-08T05:05:48.081285Z"
    }
   }
  },
  {
   "cell_type": "code",
   "execution_count": 16,
   "outputs": [
    {
     "data": {
      "text/plain": "<Figure size 640x480 with 1 Axes>",
      "image/png": "[encoded data removed]"
     },
     "metadata": {},
     "output_type": "display_data"
    }
   ],
   "source": [
    "import matplotlib.pyplot as plt\n",
    "# Plot the loss history\n",
    "plt.plot(history)\n",
    "plt.xlabel(\"Epoch\")\n",
    "plt.ylabel(\"Loss\")\n",
    "plt.title(\"Loss history\")\n",
    "plt.show()"
   ],
   "metadata": {
    "collapsed": false,
    "ExecuteTime": {
     "start_time": "2023-07-08T05:05:48.083518Z",
     "end_time": "2023-07-08T05:05:48.793700Z"
    }
   }
  },
  {
   "cell_type": "code",
   "execution_count": 17,
   "outputs": [],
   "source": [
    "# Configure hyper-parameters\n",
    "epochs = 20\n",
    "learning_rate = 0.001\n",
    "loss_func = torch.nn.MSELoss()\n",
    "optimizer = torch.optim.Adam(SC_LSTM.parameters(), lr=learning_rate)\n",
    "\n",
    "history = []\n",
    "loss_accomulator = []"
   ],
   "metadata": {
    "collapsed": false,
    "ExecuteTime": {
     "start_time": "2023-07-08T05:05:48.796852Z",
     "end_time": "2023-07-08T05:05:48.841375Z"
    }
   }
  },
  {
   "cell_type": "code",
   "execution_count": 18,
   "outputs": [
    {
     "name": "stderr",
     "output_type": "stream",
     "text": [
      "                                                                                              6.80it/s]]\r"
     ]
    }
   ],
   "source": [
    "# Now train the injector using non-reschedulable tasks\n",
    "SC_LSTM.train_model(mode='injector')\n",
    "\n",
    "for epoch in range(0, epochs):\n",
    "    SC_LSTM.reset_states()\n",
    "\n",
    "    for i, (X, task_type, Y) in enumerate(tqdm(train_non_resched_dataloader, desc=f\"Epoch: {epoch + 1}, Mean Loss: {mean_loss}\", leave=False, colour='green')):\n",
    "\n",
    "        # Convert X and Y to the correct type\n",
    "        X = torch.Tensor(X).type(torch.float32).to(device)\n",
    "        Y = torch.Tensor(Y).type(torch.float32).to(device)\n",
    "\n",
    "        # Make prediction\n",
    "        Y_pred = SC_LSTM.forward(X, task_type=task_type, free_time_slots=single_interval, save_states=True)\n",
    "\n",
    "        # Calculate loss\n",
    "        loss = loss_func(Y_pred.view(-1, ), Y.view(-1, ))\n",
    "\n",
    "        # Backward pass\n",
    "        loss.backward()\n",
    "        optimizer.step()\n",
    "        optimizer.zero_grad()\n",
    "\n",
    "        # Append loss to list\n",
    "        loss_accomulator.append(loss.item())\n",
    "\n",
    "    mean_loss = np.mean(loss_accomulator)\n",
    "    history.append(mean_loss)\n",
    "    loss_accomulator = []"
   ],
   "metadata": {
    "collapsed": false,
    "ExecuteTime": {
     "start_time": "2023-07-08T05:05:48.837245Z",
     "end_time": "2023-07-08T05:05:52.182967Z"
    }
   }
  },
  {
   "cell_type": "code",
   "execution_count": 19,
   "outputs": [
    {
     "data": {
      "text/plain": "<Figure size 640x480 with 1 Axes>",
      "image/png": "[encoded data removed]"
     },
     "metadata": {},
     "output_type": "display_data"
    }
   ],
   "source": [
    "# Plot the loss history\n",
    "plt.plot(history)\n",
    "plt.xlabel(\"Epoch\")\n",
    "plt.ylabel(\"Loss\")\n",
    "plt.title(\"Loss history\")\n",
    "plt.show()"
   ],
   "metadata": {
    "collapsed": false,
    "ExecuteTime": {
     "start_time": "2023-07-08T05:05:52.192050Z",
     "end_time": "2023-07-08T05:05:52.315522Z"
    }
   }
  },
  {
   "cell_type": "markdown",
   "source": [
    "# Save weights"
   ],
   "metadata": {
    "collapsed": false
   }
  },
  {
   "cell_type": "code",
   "execution_count": 20,
   "outputs": [],
   "source": [
    "torch.save(SC_LSTM.state_dict(), \"sc_lstm_weights.pth\")"
   ],
   "metadata": {
    "collapsed": false,
    "ExecuteTime": {
     "start_time": "2023-07-08T05:05:52.314235Z",
     "end_time": "2023-07-08T05:05:52.315638Z"
    }
   }
  }
 ],
 "metadata": {
  "kernelspec": {
   "display_name": "Python 3",
   "language": "python",
   "name": "python3"
  },
  "language_info": {
   "codemirror_mode": {
    "name": "ipython",
    "version": 2
   },
   "file_extension": ".py",
   "mimetype": "text/x-python",
   "name": "python",
   "nbconvert_exporter": "python",
   "pygments_lexer": "ipython2",
   "version": "2.7.6"
  }
 },
 "nbformat": 4,
 "nbformat_minor": 0
}
